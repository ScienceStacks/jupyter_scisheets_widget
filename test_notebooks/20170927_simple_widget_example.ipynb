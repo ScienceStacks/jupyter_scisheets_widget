{
 "cells": [
  {
   "cell_type": "code",
   "execution_count": 31,
   "metadata": {
    "collapsed": true
   },
   "outputs": [],
   "source": [
    "import ipywidgets as widgets\n",
    "from traitlets import Unicode, validate\n",
    "\n",
    "\n",
    "class HelloWidget(widgets.DOMWidget):\n",
    "    _view_name = Unicode('HelloView').tag(sync=True)\n",
    "    _view_module = Unicode('hello').tag(sync=True)\n",
    "    _view_module_version = Unicode('0.1.0').tag(sync=True)\n",
    "    value = Unicode('Hello World!').tag(sync=True)"
   ]
  },
  {
   "cell_type": "code",
   "execution_count": 39,
   "metadata": {},
   "outputs": [
    {
     "data": {
      "application/javascript": [
       "// require.undef('hello');\n",
       "\n",
       "define([\"@jupyter-widgets/base\"], function(widgets) {\n",
       "\n",
       "    var HelloView = widgets.DOMWidgetView.extend({\n",
       "\n",
       "        // Render the view.\n",
       "        render: function() {\n",
       "            this.value_changed();\n",
       "            this.model.on('change:value', this.value_changed, this);\n",
       "        },    \n",
       "          \n",
       "        value_changed: function() {\n",
       "            this.el.textContent = this.model.get('value');\n",
       "        },\n",
       "    });\n",
       "\n",
       "    return {\n",
       "        HelloView: HelloView\n",
       "    };\n",
       "});"
      ],
      "text/plain": [
       "<IPython.core.display.Javascript object>"
      ]
     },
     "metadata": {},
     "output_type": "display_data"
    }
   ],
   "source": [
    "%%javascript\n",
    "// require.undef('hello');\n",
    "\n",
    "define([\"@jupyter-widgets/base\"], function(widgets) {\n",
    "\n",
    "    var HelloView = widgets.DOMWidgetView.extend({\n",
    "\n",
    "        // Render the view.\n",
    "        render: function() {\n",
    "            this.value_changed();\n",
    "            this.model.on('change:value', this.value_changed, this);\n",
    "        },    \n",
    "          \n",
    "        value_changed: function() {\n",
    "            this.el.textContent = this.model.get('value');\n",
    "        },\n",
    "    });\n",
    "\n",
    "    return {\n",
    "        HelloView: HelloView\n",
    "    };\n",
    "});"
   ]
  },
  {
   "cell_type": "code",
   "execution_count": null,
   "metadata": {
    "collapsed": true
   },
   "outputs": [],
   "source": []
  },
  {
   "cell_type": "code",
   "execution_count": 40,
   "metadata": {},
   "outputs": [
    {
     "data": {
      "application/vnd.jupyter.widget-view+json": {
       "model_id": "2b17eb5681264f6c97b2e3d01e2f4d90",
       "version_major": 2,
       "version_minor": 0
      },
      "text/plain": [
       "A Jupyter Widget"
      ]
     },
     "metadata": {},
     "output_type": "display_data"
    }
   ],
   "source": [
    "w = HelloWidget()\n",
    "w"
   ]
  },
  {
   "cell_type": "code",
   "execution_count": 38,
   "metadata": {},
   "outputs": [
    {
     "data": {
      "text/plain": [
       "u'Hello World!'"
      ]
     },
     "execution_count": 38,
     "metadata": {},
     "output_type": "execute_result"
    }
   ],
   "source": [
    "w.value"
   ]
  },
  {
   "cell_type": "code",
   "execution_count": null,
   "metadata": {
    "collapsed": true
   },
   "outputs": [],
   "source": []
  },
  {
   "cell_type": "code",
   "execution_count": 17,
   "metadata": {
    "collapsed": true
   },
   "outputs": [],
   "source": [
    "import ipywidgets as widgets\n",
    "from traitlets import Unicode, validate\n",
    "\n",
    "\n",
    "class MyWidget(widgets.DOMWidget):\n",
    "    _view_name = Unicode('MyWidgetView').tag(sync=True)\n",
    "    _view_module = Unicode('mywidget').tag(sync=True)\n",
    "    _view_module_version = Unicode('0.1.0').tag(sync=True)\n",
    "    value = Unicode('My Widget!').tag(sync=True)\n",
    "    count = Int(23).tag(sync=True)"
   ]
  },
  {
   "cell_type": "code",
   "execution_count": 21,
   "metadata": {},
   "outputs": [
    {
     "data": {
      "application/javascript": [
       "require.undef('mywidget');\n",
       "\n",
       "define('mywidget', [\"@jupyter-widgets/base\"], function(widgets) {\n",
       "\n",
       "    var MyWidgetView = widgets.DOMWidgetView.extend({\n",
       "\n",
       "        // Render the view.\n",
       "        render: function() {\n",
       "            this.value_changed();\n",
       "            this.model.on('change:count', this.value_changed, this);\n",
       "        },    \n",
       "          \n",
       "        value_changed: function() {\n",
       "            var old_value = this.model.previous('count');\n",
       "            var new_value = this.model.get('count');\n",
       "            this.el.textContent = String(old_value) + ' -> ' + String(new_value);\n",
       "//             this.el.textContent = this.model.get('value');\n",
       "        },\n",
       "    });\n",
       "\n",
       "    return {\n",
       "        MyWidgetView: MyWidgetView\n",
       "    };\n",
       "});"
      ],
      "text/plain": [
       "<IPython.core.display.Javascript object>"
      ]
     },
     "metadata": {},
     "output_type": "display_data"
    }
   ],
   "source": [
    "%%javascript\n",
    "require.undef('mywidget');\n",
    "\n",
    "define('mywidget', [\"@jupyter-widgets/base\"], function(widgets) {\n",
    "\n",
    "    var MyWidgetView = widgets.DOMWidgetView.extend({\n",
    "\n",
    "        // Render the view.\n",
    "        render: function() {\n",
    "            this.value_changed();\n",
    "            this.model.on('change:count', this.value_changed, this);\n",
    "        },    \n",
    "          \n",
    "        value_changed: function() {\n",
    "            var old_value = this.model.previous('count');\n",
    "            var new_value = this.model.get('count');\n",
    "            this.el.textContent = String(old_value) + ' -> ' + String(new_value);\n",
    "//             this.el.textContent = this.model.get('value');\n",
    "        },\n",
    "    });\n",
    "\n",
    "    return {\n",
    "        MyWidgetView: MyWidgetView\n",
    "    };\n",
    "});"
   ]
  },
  {
   "cell_type": "code",
   "execution_count": 22,
   "metadata": {},
   "outputs": [
    {
     "data": {
      "application/vnd.jupyter.widget-view+json": {
       "model_id": "ecb453496ca7407589c9a08caaa7b5f7",
       "version_major": 2,
       "version_minor": 0
      },
      "text/plain": [
       "A Jupyter Widget"
      ]
     },
     "metadata": {},
     "output_type": "display_data"
    }
   ],
   "source": [
    "w = MyWidget()\n",
    "w"
   ]
  },
  {
   "cell_type": "code",
   "execution_count": 24,
   "metadata": {
    "collapsed": true
   },
   "outputs": [],
   "source": [
    "w.count = 67"
   ]
  },
  {
   "cell_type": "code",
   "execution_count": null,
   "metadata": {
    "collapsed": true
   },
   "outputs": [],
   "source": []
  },
  {
   "cell_type": "code",
   "execution_count": 20,
   "metadata": {},
   "outputs": [
    {
     "data": {
      "application/javascript": [
       "this.model.get('count');\n",
       "this.model.set('count', 999);\n",
       "this.touch();\n",
       "\n",
       "/////////////////////////////////\n",
       "\n",
       "this.colorpicker = document.createElement('input');\n",
       "this.colorpicker.setAttribute('type', 'color');\n",
       "this.el.appendChild(this.colorpicker);"
      ],
      "text/plain": [
       "<IPython.core.display.Javascript object>"
      ]
     },
     "metadata": {},
     "output_type": "display_data"
    }
   ],
   "source": [
    "%%javascript\n",
    "this.model.get('count');\n",
    "this.model.set('count', 999);\n",
    "this.touch();\n",
    "\n",
    "/////////////////////////////////\n",
    "\n",
    "this.colorpicker = document.createElement('input');\n",
    "this.colorpicker.setAttribute('type', 'color');\n",
    "this.el.appendChild(this.colorpicker);"
   ]
  },
  {
   "cell_type": "code",
   "execution_count": 7,
   "metadata": {
    "collapsed": true
   },
   "outputs": [],
   "source": [
    "from ipywidgets import DOMWidget\n",
    "# from traitlets import Int\n",
    "from traitlets import Unicode, validate\n",
    "\n",
    "class MyWidget(DOMWidget):\n",
    "    _view_module = Unicode('mywidget').tag(sync=True)\n",
    "    _view_module_version = Unicode('0.1.0').tag(sync=True)\n",
    "    _view_name = Unicode('MyWidgetView').tag(sync=True)\n",
    "    count = Int(23).tag(sync=True)\n",
    "    value = Unicode('Hello World!').tag(sync=True)"
   ]
  },
  {
   "cell_type": "code",
   "execution_count": 8,
   "metadata": {},
   "outputs": [
    {
     "data": {
      "application/javascript": [
       "require.undef('mywidget');\n",
       "\n",
       "define('mywidget', ['@jupyter-widgets/base'], function(widgets) {\n",
       "    var MyWidgetView = widgets.DOMWidgetView.extend({\n",
       "//         render: function() {\n",
       "// //             MyWidgetView.__super__.render.apply(this, arguments);\n",
       "//             this._count_changed();\n",
       "//             this.model.on('change:value', this.value_changed, this);\n",
       "//             this.listenTo(this.model, 'change:count', this._count_changed, this);\n",
       "//         },\n",
       "\n",
       "//         _count_changed: function() {\n",
       "//             var old_value = this.model.previous('count');\n",
       "//             var new_value = this.model.get('count');\n",
       "//             this.el.textContent = String(old_value) + ' -> ' + String(new_value);\n",
       "//         }\n",
       "//     });\n",
       "        \n",
       "        // Render the view.\n",
       "        render: function() {\n",
       "            this.value_changed();\n",
       "            this.model.on('change:value', this.value_changed, this);\n",
       "        },    \n",
       "          \n",
       "        value_changed: function() {\n",
       "            this.el.textContent = this.model.get('value');\n",
       "        },\n",
       "    });\n",
       "\n",
       "    return {\n",
       "        MyWidgetView: MyWidgetView\n",
       "    }\n",
       "});"
      ],
      "text/plain": [
       "<IPython.core.display.Javascript object>"
      ]
     },
     "metadata": {},
     "output_type": "display_data"
    }
   ],
   "source": [
    "%%javascript\n",
    "require.undef('mywidget');\n",
    "\n",
    "define('mywidget', ['@jupyter-widgets/base'], function(widgets) {\n",
    "    var MyWidgetView = widgets.DOMWidgetView.extend({\n",
    "//         render: function() {\n",
    "// //             MyWidgetView.__super__.render.apply(this, arguments);\n",
    "//             this._count_changed();\n",
    "//             this.model.on('change:value', this.value_changed, this);\n",
    "//             this.listenTo(this.model, 'change:count', this._count_changed, this);\n",
    "//         },\n",
    "\n",
    "//         _count_changed: function() {\n",
    "//             var old_value = this.model.previous('count');\n",
    "//             var new_value = this.model.get('count');\n",
    "//             this.el.textContent = String(old_value) + ' -> ' + String(new_value);\n",
    "//         }\n",
    "//     });\n",
    "        \n",
    "        // Render the view.\n",
    "        render: function() {\n",
    "            this.value_changed();\n",
    "            this.model.on('change:value', this.value_changed, this);\n",
    "        },    \n",
    "          \n",
    "        value_changed: function() {\n",
    "            this.el.textContent = this.model.get('value');\n",
    "        },\n",
    "    });\n",
    "\n",
    "    return {\n",
    "        MyWidgetView: MyWidgetView\n",
    "    }\n",
    "});"
   ]
  },
  {
   "cell_type": "code",
   "execution_count": 9,
   "metadata": {},
   "outputs": [
    {
     "ename": "NameError",
     "evalue": "name 'mywidget' is not defined",
     "output_type": "error",
     "traceback": [
      "\u001b[0;31m---------------------------------------------------------------------------\u001b[0m",
      "\u001b[0;31mNameError\u001b[0m                                 Traceback (most recent call last)",
      "\u001b[0;32m<ipython-input-9-cce89a05a7a4>\u001b[0m in \u001b[0;36m<module>\u001b[0;34m()\u001b[0m\n\u001b[0;32m----> 1\u001b[0;31m \u001b[0mw\u001b[0m \u001b[0;34m=\u001b[0m \u001b[0mmywidget\u001b[0m\u001b[0;34m(\u001b[0m\u001b[0;34m)\u001b[0m\u001b[0;34m\u001b[0m\u001b[0m\n\u001b[0m\u001b[1;32m      2\u001b[0m \u001b[0mw\u001b[0m\u001b[0;34m\u001b[0m\u001b[0m\n",
      "\u001b[0;31mNameError\u001b[0m: name 'mywidget' is not defined"
     ]
    }
   ],
   "source": [
    "w = mywidget()\n",
    "w"
   ]
  },
  {
   "cell_type": "code",
   "execution_count": null,
   "metadata": {
    "collapsed": true
   },
   "outputs": [],
   "source": []
  },
  {
   "cell_type": "code",
   "execution_count": null,
   "metadata": {
    "collapsed": true
   },
   "outputs": [],
   "source": []
  },
  {
   "cell_type": "code",
   "execution_count": 30,
   "metadata": {},
   "outputs": [
    {
     "data": {
      "application/vnd.jupyter.widget-view+json": {
       "model_id": "5a13aff9c11c4dca82b68bdbfa0539cc",
       "version_major": 2,
       "version_minor": 0
      },
      "text/plain": [
       "A Jupyter Widget"
      ]
     },
     "metadata": {},
     "output_type": "display_data"
    },
    {
     "data": {
      "application/vnd.jupyter.widget-view+json": {
       "model_id": "0a97ed3e506149ba95acbff7786eac54",
       "version_major": 2,
       "version_minor": 0
      },
      "text/plain": [
       "A Jupyter Widget"
      ]
     },
     "metadata": {},
     "output_type": "display_data"
    },
    {
     "name": "stdout",
     "output_type": "stream",
     "text": [
      "1\n",
      "3\n",
      "6\n",
      "7\n",
      "11\n",
      "13\n",
      "16\n",
      "17\n",
      "18\n",
      "19\n",
      "20\n",
      "21\n",
      "24\n",
      "25\n",
      "26\n",
      "28\n",
      "29\n",
      "30\n",
      "31\n",
      "32\n",
      "33\n",
      "34\n",
      "35\n",
      "36\n",
      "37\n",
      "38\n",
      "39\n",
      "40\n",
      "41\n",
      "42\n",
      "43\n",
      "44\n",
      "45\n",
      "46\n",
      "47\n",
      "49\n",
      "52\n",
      "53\n",
      "56\n",
      "55\n",
      "56\n",
      "58\n",
      "59\n",
      "62\n",
      "63\n",
      "67\n",
      "68\n",
      "71\n",
      "72\n"
     ]
    }
   ],
   "source": [
    "from ipywidgets import IntSlider\n",
    "from IPython.display import display\n",
    "x = IntSlider(description='x')\n",
    "y = IntSlider(description='y')\n",
    "\n",
    "def update_y(args):\n",
    "    y.value = args['new']\n",
    "    print(args['new'])\n",
    "\n",
    "x.observe(update_y, 'value')\n",
    "\n",
    "display(x)\n",
    "display(y)"
   ]
  },
  {
   "cell_type": "code",
   "execution_count": 31,
   "metadata": {
    "collapsed": true
   },
   "outputs": [],
   "source": [
    "from functools import wraps\n",
    "def yield_for_change(widget, attribute):\n",
    "    \"\"\"Pause a generator to wait for a widget change event.\n",
    "\n",
    "    This is a decorator for a generator function which pauses the generator on yield\n",
    "    until the given widget attribute changes. The new value of the attribute is\n",
    "    sent to the generator and is the value of the yield.\n",
    "    \"\"\"\n",
    "    def f(iterator):\n",
    "        @wraps(iterator)\n",
    "        def inner():\n",
    "            i = iterator()\n",
    "            def next_i(change):\n",
    "                try:\n",
    "                    i.send(change.new)\n",
    "                except StopIteration as e:\n",
    "                    widget.unobserve(next_i, attribute)\n",
    "            widget.observe(next_i, attribute)\n",
    "            # start the generator\n",
    "            next(i)\n",
    "        return inner\n",
    "    return f"
   ]
  },
  {
   "cell_type": "code",
   "execution_count": 32,
   "metadata": {},
   "outputs": [
    {
     "name": "stdout",
     "output_type": "stream",
     "text": [
      "did work 0\n"
     ]
    },
    {
     "data": {
      "application/vnd.jupyter.widget-view+json": {
       "model_id": "60a3e564a06a4cf69a520d15051f2290",
       "version_major": 2,
       "version_minor": 0
      },
      "text/plain": [
       "A Jupyter Widget"
      ]
     },
     "metadata": {},
     "output_type": "display_data"
    },
    {
     "name": "stdout",
     "output_type": "stream",
     "text": [
      "generator function continued with value 1\n",
      "did work 1\n",
      "generator function continued with value 2\n",
      "did work 2\n",
      "generator function continued with value 3\n",
      "did work 3\n",
      "generator function continued with value 9\n",
      "did work 4\n",
      "generator function continued with value 13\n",
      "did work 5\n",
      "generator function continued with value 17\n",
      "did work 6\n",
      "generator function continued with value 20\n",
      "did work 7\n",
      "generator function continued with value 22\n",
      "did work 8\n"
     ]
    }
   ],
   "source": [
    "from ipywidgets import IntSlider, VBox, HTML\n",
    "slider2=IntSlider()\n",
    "\n",
    "@yield_for_change(slider2, 'value')\n",
    "def f():\n",
    "    for i in range(10):\n",
    "        print('did work %s'%i)\n",
    "        x = yield\n",
    "        print('generator function continued with value %s'%x)\n",
    "f()\n",
    "\n",
    "slider2"
   ]
  },
  {
   "cell_type": "code",
   "execution_count": null,
   "metadata": {
    "collapsed": true
   },
   "outputs": [],
   "source": []
  },
  {
   "cell_type": "code",
   "execution_count": null,
   "metadata": {
    "collapsed": true
   },
   "outputs": [],
   "source": []
  },
  {
   "cell_type": "code",
   "execution_count": null,
   "metadata": {
    "collapsed": true
   },
   "outputs": [],
   "source": []
  },
  {
   "cell_type": "code",
   "execution_count": null,
   "metadata": {
    "collapsed": true
   },
   "outputs": [],
   "source": []
  },
  {
   "cell_type": "code",
   "execution_count": 28,
   "metadata": {},
   "outputs": [
    {
     "data": {
      "application/javascript": [
       "\n",
       "var widgets = require('@jupyter-widgets/base');\n",
       "\n",
       "console.log(widgets.DOMWidgetView|IPython.widget)"
      ],
      "text/plain": [
       "<IPython.core.display.Javascript object>"
      ]
     },
     "metadata": {},
     "output_type": "display_data"
    }
   ],
   "source": [
    "%%javascript\n",
    "\n",
    "var widgets = require('@jupyter-widgets/base');\n",
    "\n",
    "console.log(widgets.DOMWidgetView|IPython.widget)\n"
   ]
  },
  {
   "cell_type": "code",
   "execution_count": null,
   "metadata": {
    "collapsed": true
   },
   "outputs": [],
   "source": []
  }
 ],
 "metadata": {
  "kernelspec": {
   "display_name": "Python [conda env:scisheets_env]",
   "language": "python",
   "name": "conda-env-scisheets_env-py"
  },
  "language_info": {
   "codemirror_mode": {
    "name": "ipython",
    "version": 2
   },
   "file_extension": ".py",
   "mimetype": "text/x-python",
   "name": "python",
   "nbconvert_exporter": "python",
   "pygments_lexer": "ipython2",
   "version": "2.7.13"
  }
 },
 "nbformat": 4,
 "nbformat_minor": 2
}

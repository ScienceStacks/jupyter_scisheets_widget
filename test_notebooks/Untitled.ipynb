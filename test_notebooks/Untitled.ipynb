{
 "cells": [
  {
   "cell_type": "code",
   "execution_count": 4,
   "metadata": {},
   "outputs": [
    {
     "data": {
      "application/javascript": [
       "\n",
       "// load css if it's not already there: http://stackoverflow.com/a/4724676/7782\n",
       "function loadcss(url) {\n",
       "    if (!$(\"link[href='\" + url + \"']\").length)\n",
       "        $('<link href=\"' + url + '\" rel=\"stylesheet\">').appendTo(\"head\");\n",
       "}\n",
       "\n",
       "loadcss(\"http://handsontable.com/dist/jquery.handsontable.full.css\");\n",
       "loadcss(\"http://handsontable.com/demo/css/samples.css?20140331\");"
      ],
      "text/plain": [
       "<IPython.core.display.Javascript object>"
      ]
     },
     "metadata": {},
     "output_type": "display_data"
    }
   ],
   "source": [
    "%%javascript\n",
    "\n",
    "// load css if it's not already there: http://stackoverflow.com/a/4724676/7782\n",
    "function loadcss(url) {\n",
    "    if (!$(\"link[href='\" + url + \"']\").length)\n",
    "        $('<link href=\"' + url + '\" rel=\"stylesheet\">').appendTo(\"head\");\n",
    "}\n",
    "\n",
    "loadcss(\"http://handsontable.com/dist/jquery.handsontable.full.css\");\n",
    "loadcss(\"http://handsontable.com/demo/css/samples.css?20140331\");"
   ]
  },
  {
   "cell_type": "code",
   "execution_count": 18,
   "metadata": {
    "collapsed": true
   },
   "outputs": [],
   "source": [
    "from ipywidgets import widget"
   ]
  },
  {
   "cell_type": "code",
   "execution_count": 20,
   "metadata": {},
   "outputs": [
    {
     "data": {
      "application/javascript": [
       "var widgets = require('@jupyter-widgets/base');\n",
       "var _ = require('underscore');\n",
       "// var handsontable_css = require('http://handsontable.com/dist/jquery.handsontable.full.css');\n",
       "\n",
       "// var handsontable = require(['http://handsontable.com/dist/jquery.handsontable.full.js']);\n",
       "\n",
       "\n",
       "import Handsontable from 'http://handsontable.com/dist/jquery.handsontable.full.js';\n",
       "\n",
       "// var SciSheetTableModel = widgets.DOMWidgetModel.extend({\n",
       "//     defaults: _.extend(_.result(this, 'widgets.DOMWidgetModel.prototype.defaults'), {\n",
       "//         _model_name : 'SciSheetTableModel',\n",
       "//         _view_name : 'SciSheetTableView',\n",
       "//         _model_module : 'jupyter_scisheets_widget',\n",
       "//         _view_module : 'jupyter_scisheets_widget',\n",
       "//         _model_module_version : '0.1.0',\n",
       "//         _view_module_version : '0.1.0'\n",
       "//     })\n",
       "// });"
      ],
      "text/plain": [
       "<IPython.core.display.Javascript object>"
      ]
     },
     "metadata": {},
     "output_type": "display_data"
    }
   ],
   "source": [
    "%%javascript\n",
    "var widgets = require('@jupyter-widgets/base');\n",
    "var _ = require('underscore');\n",
    "// var handsontable_css = require('http://handsontable.com/dist/jquery.handsontable.full.css');\n",
    "\n",
    "// var handsontable = require(['http://handsontable.com/dist/jquery.handsontable.full.js']);\n",
    "\n",
    "\n",
    "import Handsontable from 'http://handsontable.com/dist/jquery.handsontable.full.js';\n",
    "\n",
    "// var SciSheetTableModel = widgets.DOMWidgetModel.extend({\n",
    "//     defaults: _.extend(_.result(this, 'widgets.DOMWidgetModel.prototype.defaults'), {\n",
    "//         _model_name : 'SciSheetTableModel',\n",
    "//         _view_name : 'SciSheetTableView',\n",
    "//         _model_module : 'jupyter_scisheets_widget',\n",
    "//         _view_module : 'jupyter_scisheets_widget',\n",
    "//         _model_module_version : '0.1.0',\n",
    "//         _view_module_version : '0.1.0'\n",
    "//     })\n",
    "// });"
   ]
  },
  {
   "cell_type": "code",
   "execution_count": 23,
   "metadata": {},
   "outputs": [
    {
     "data": {
      "application/javascript": [
       "var table_id = 0;\n",
       "\n",
       "var widgets = require('@jupyter-widgets/base');\n",
       "var _ = require('underscore');\n",
       "\n",
       "var SciSheetTableModel = widgets.DOMWidgetModel.extend({\n",
       "    defaults: _.extend(_.result(this, 'widgets.DOMWidgetModel.prototype.defaults'), {\n",
       "        _model_name : 'SciSheetTableModel',\n",
       "        _view_name : 'SciSheetTableView',\n",
       "        _model_module : 'jupyter_scisheets_widget',\n",
       "        _view_module : 'jupyter_scisheets_widget',\n",
       "        _model_module_version : '0.1.0',\n",
       "        _view_module_version : '0.1.0'\n",
       "    })\n",
       "});\n",
       "\n",
       "\n",
       "// Custom View. Renders the widget model.\n",
       "var SciSheetTableView = widgets.DOMWidgetView.extend({\n",
       "    render: function(){\n",
       "        // CREATION OF THE WIDGET IN THE NOTEBOOK.\n",
       "\n",
       "        // Add a <div> in the widget area.\n",
       "        this.$table = $('<div />')\n",
       "            .attr('id', 'table_' + (table_id++))\n",
       "            .appendTo(this.$el);\n",
       "\n",
       "        this.$table.handsontable({\n",
       "        });\n",
       "    },\n",
       "\n",
       "    update: function() {\n",
       "        // PYTHON --> JS UPDATE.\n",
       "\n",
       "        // Get the model's value (JSON)\n",
       "        var json_model = this.model.get('_model_data');\n",
       "        var json_header = this.model.get('_model_header');\n",
       "        var json_row_header = this.model.get('_model_row_header');\n",
       "\n",
       "        console.log(json_row_header);\n",
       "\n",
       "        // Get the model's JSON string, and parse it.\n",
       "        var datamod = JSON.parse(json_model);\n",
       "        var headermod = JSON.parse(json_header);\n",
       "        var rowheadermod = JSON.parse(json_row_header);\n",
       "\n",
       "        console.log(headermod);\n",
       "        console.log(rowheadmod);\n",
       "\n",
       "        // Give it to the Handsontable widget.\n",
       "        this.$table.handsontable({\n",
       "            data: datamod,\n",
       "            colHeaders: headermod,\n",
       "            rowHeaders: rowheadermod\n",
       "        });\n",
       "\n",
       "        // Don't touch this...\n",
       "        return SciSheetTableView.__super__.update.apply(this);\n",
       "    }, \n",
       "\n",
       "    // Tell Backbone to listen to the change event of input controls.\n",
       "\n",
       "    events: {\"change\": \"handle_table_change\"},\n",
       "\n",
       "    handle_table_change: function(event) {\n",
       "        // JS --> PYTHON UPDATE.\n",
       "\n",
       "        // Get table instance\n",
       "        var ht = this.$table.handsontable('getInstance');\n",
       "\n",
       "        // Get the data and serialize it\n",
       "        var json_vals = JSON.stringify(ht.getData());\n",
       "        var col_vals = JSON.stringify(ht.getColHeader());\n",
       "        var row_vals = JSON.stringify(ht.getRowHeader());\n",
       "\n",
       "        // Update the model with the JSON string.\n",
       "        this.model.set('_model_data', json_vals);\n",
       "        this.model.set('_model_header', col_vals);\n",
       "        this.model.set('_model_row_header', row_vals);\n",
       "\n",
       "        // Don't touch this...\n",
       "        this.touch();\n",
       "    }, \n",
       "\n",
       "});\n",
       "\n",
       "module.exports = {\n",
       "    SciSheetTableModel: SciSheetTableModel,\n",
       "    SciSheetTableView: SciSheetTableView\n",
       "};\n"
      ],
      "text/plain": [
       "<IPython.core.display.Javascript object>"
      ]
     },
     "metadata": {},
     "output_type": "display_data"
    }
   ],
   "source": [
    "%%javascript\n",
    "var table_id = 0;\n",
    "\n",
    "var widgets = require('@jupyter-widgets/base');\n",
    "var _ = require('underscore');\n",
    "\n",
    "var SciSheetTableModel = widgets.DOMWidgetModel.extend({\n",
    "    defaults: _.extend(_.result(this, 'widgets.DOMWidgetModel.prototype.defaults'), {\n",
    "        _model_name : 'SciSheetTableModel',\n",
    "        _view_name : 'SciSheetTableView',\n",
    "        _model_module : 'jupyter_scisheets_widget',\n",
    "        _view_module : 'jupyter_scisheets_widget',\n",
    "        _model_module_version : '0.1.0',\n",
    "        _view_module_version : '0.1.0'\n",
    "    })\n",
    "});\n",
    "\n",
    "\n",
    "// Custom View. Renders the widget model.\n",
    "var SciSheetTableView = widgets.DOMWidgetView.extend({\n",
    "    render: function(){\n",
    "        // CREATION OF THE WIDGET IN THE NOTEBOOK.\n",
    "\n",
    "        // Add a <div> in the widget area.\n",
    "        this.$table = $('<div />')\n",
    "            .attr('id', 'table_' + (table_id++))\n",
    "            .appendTo(this.$el);\n",
    "\n",
    "        this.$table.handsontable({\n",
    "        });\n",
    "    },\n",
    "\n",
    "    update: function() {\n",
    "        // PYTHON --> JS UPDATE.\n",
    "\n",
    "        // Get the model's value (JSON)\n",
    "        var json_model = this.model.get('_model_data');\n",
    "        var json_header = this.model.get('_model_header');\n",
    "        var json_row_header = this.model.get('_model_row_header');\n",
    "\n",
    "        console.log(json_row_header);\n",
    "\n",
    "        // Get the model's JSON string, and parse it.\n",
    "        var datamod = JSON.parse(json_model);\n",
    "        var headermod = JSON.parse(json_header);\n",
    "        var rowheadermod = JSON.parse(json_row_header);\n",
    "\n",
    "        console.log(headermod);\n",
    "        console.log(rowheadmod);\n",
    "\n",
    "        // Give it to the Handsontable widget.\n",
    "        this.$table.handsontable({\n",
    "            data: datamod,\n",
    "            colHeaders: headermod,\n",
    "            rowHeaders: rowheadermod\n",
    "        });\n",
    "\n",
    "        // Don't touch this...\n",
    "        return SciSheetTableView.__super__.update.apply(this);\n",
    "    }, \n",
    "\n",
    "    // Tell Backbone to listen to the change event of input controls.\n",
    "\n",
    "    events: {\"change\": \"handle_table_change\"},\n",
    "\n",
    "    handle_table_change: function(event) {\n",
    "        // JS --> PYTHON UPDATE.\n",
    "\n",
    "        // Get table instance\n",
    "        var ht = this.$table.handsontable('getInstance');\n",
    "\n",
    "        // Get the data and serialize it\n",
    "        var json_vals = JSON.stringify(ht.getData());\n",
    "        var col_vals = JSON.stringify(ht.getColHeader());\n",
    "        var row_vals = JSON.stringify(ht.getRowHeader());\n",
    "\n",
    "        // Update the model with the JSON string.\n",
    "        this.model.set('_model_data', json_vals);\n",
    "        this.model.set('_model_header', col_vals);\n",
    "        this.model.set('_model_row_header', row_vals);\n",
    "\n",
    "        // Don't touch this...\n",
    "        this.touch();\n",
    "    }, \n",
    "\n",
    "});\n",
    "\n",
    "module.exports = {\n",
    "    SciSheetTableModel: SciSheetTableModel,\n",
    "    SciSheetTableView: SciSheetTableView\n",
    "};\n",
    "\n"
   ]
  },
  {
   "cell_type": "code",
   "execution_count": null,
   "metadata": {
    "collapsed": true
   },
   "outputs": [],
   "source": [
    "define('hello', [\"@jupyter-widgets/base\"], function(widgets) {\n",
    "\n",
    "    var HelloView = widgets.DOMWidgetView.extend({\n",
    "\n",
    "        // Render the view.\n",
    "        render: function() {\n",
    "            this.value_changed();\n",
    "            this.model.on('change:value', this.value_changed, this);\n",
    "        },    \n",
    "          \n",
    "        value_changed: function() {\n",
    "            this.el.textContent = this.model.get('value');\n",
    "        },\n",
    "    });\n",
    "\n",
    "    return {\n",
    "        HelloView: HelloView\n",
    "    };\n",
    "});"
   ]
  },
  {
   "cell_type": "code",
   "execution_count": null,
   "metadata": {
    "collapsed": true
   },
   "outputs": [],
   "source": []
  },
  {
   "cell_type": "code",
   "execution_count": null,
   "metadata": {
    "collapsed": true
   },
   "outputs": [],
   "source": []
  },
  {
   "cell_type": "code",
   "execution_count": 11,
   "metadata": {},
   "outputs": [
    {
     "data": {
      "text/html": [
       "\n",
       "<p style=\"font-size: 20px\"><strong>Handsontable</strong> is a minimalistic Excel-like <span class=\"nobreak\">data grid</span>\n",
       "  editor\n",
       "  for HTML, JavaScript &amp; jQuery</p>\n",
       "\n",
       "<div id=\"hs_example\" class=\"handsontable\"></div>"
      ],
      "text/plain": [
       "<IPython.core.display.HTML object>"
      ]
     },
     "metadata": {},
     "output_type": "display_data"
    }
   ],
   "source": [
    "%%html\n",
    "\n",
    "<p style=\"font-size: 20px\"><strong>Handsontable</strong> is a minimalistic Excel-like <span class=\"nobreak\">data grid</span>\n",
    "  editor\n",
    "  for HTML, JavaScript &amp; jQuery</p>\n",
    "\n",
    "<div id=\"hs_example\" class=\"handsontable\"></div>"
   ]
  },
  {
   "cell_type": "code",
   "execution_count": 16,
   "metadata": {},
   "outputs": [
    {
     "data": {
      "application/javascript": [
       "require.config({\n",
       "    paths: {\n",
       "        handsontable: \"http://handsontable.com/dist/jquery.handsontable.full.js\"\n",
       "    }\n",
       "});\n",
       "\n",
       "\n",
       "require(['handsontable'], function (handsontable){\n",
       "    console.log(\"in require->handsontable\");\n",
       "    \n",
       "  var data = [\n",
       "    [\"\", \"Maserati\", \"Mazda\", \"Mercedes\", \"Mini\", \"Mitsubishi\"],\n",
       "    [\"2009\", 0, 2941, 4303, 354, 5814],\n",
       "    [\"2010\", 5, 2905, 2867, 412, 5284],\n",
       "    [\"2011\", 4, 2517, 4822, 552, 6127],\n",
       "    [\"2012\", 2, 2422, 5399, 776, 4151]\n",
       "  ];\n",
       "  \n",
       "  $('#hs_example').handsontable({\n",
       "    data: data,\n",
       "    minSpareRows: 1,\n",
       "    colHeaders: true,\n",
       "    contextMenu: true\n",
       "  });\n",
       "  \n",
       "  \n",
       "//   function bindDumpButton() {\n",
       "//       $('body').on('click', 'button[name=dump]', function () {\n",
       "//         var dump = $(this).data('dump');\n",
       "//         var $container = $(dump);\n",
       "//         console.log('data of ' + dump, $container.handsontable('getData'));\n",
       "//       });\n",
       "//     }\n",
       "//   bindDumpButton();    \n",
       "    \n",
       "});\n",
       "\n",
       "handsontable()"
      ],
      "text/plain": [
       "<IPython.core.display.Javascript object>"
      ]
     },
     "metadata": {},
     "output_type": "display_data"
    }
   ],
   "source": [
    "%%javascript\n",
    "require.config({\n",
    "    paths: {\n",
    "        handsontable: \"http://handsontable.com/dist/jquery.handsontable.full.js\"\n",
    "    }\n",
    "});\n",
    "\n",
    "\n",
    "require(['handsontable'], function (handsontable){\n",
    "    console.log(\"in require->handsontable\");\n",
    "    \n",
    "  var data = [\n",
    "    [\"\", \"Maserati\", \"Mazda\", \"Mercedes\", \"Mini\", \"Mitsubishi\"],\n",
    "    [\"2009\", 0, 2941, 4303, 354, 5814],\n",
    "    [\"2010\", 5, 2905, 2867, 412, 5284],\n",
    "    [\"2011\", 4, 2517, 4822, 552, 6127],\n",
    "    [\"2012\", 2, 2422, 5399, 776, 4151]\n",
    "  ];\n",
    "  \n",
    "  $('#hs_example').handsontable({\n",
    "    data: data,\n",
    "    minSpareRows: 1,\n",
    "    colHeaders: true,\n",
    "    contextMenu: true\n",
    "  });\n",
    "  \n",
    "  \n",
    "//   function bindDumpButton() {\n",
    "//       $('body').on('click', 'button[name=dump]', function () {\n",
    "//         var dump = $(this).data('dump');\n",
    "//         var $container = $(dump);\n",
    "//         console.log('data of ' + dump, $container.handsontable('getData'));\n",
    "//       });\n",
    "//     }\n",
    "//   bindDumpButton();    \n",
    "    \n",
    "});\n",
    "\n",
    "handsontable()"
   ]
  },
  {
   "cell_type": "code",
   "execution_count": null,
   "metadata": {
    "collapsed": true
   },
   "outputs": [],
   "source": []
  }
 ],
 "metadata": {
  "kernelspec": {
   "display_name": "Python [conda env:scisheets_env]",
   "language": "python",
   "name": "conda-env-scisheets_env-py"
  },
  "language_info": {
   "codemirror_mode": {
    "name": "ipython",
    "version": 2
   },
   "file_extension": ".py",
   "mimetype": "text/x-python",
   "name": "python",
   "nbconvert_exporter": "python",
   "pygments_lexer": "ipython2",
   "version": "2.7.13"
  }
 },
 "nbformat": 4,
 "nbformat_minor": 2
}

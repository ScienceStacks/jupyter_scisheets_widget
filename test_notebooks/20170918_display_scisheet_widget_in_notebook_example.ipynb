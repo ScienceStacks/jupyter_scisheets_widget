{
 "cells": [
  {
   "cell_type": "code",
   "execution_count": 1,
   "metadata": {
    "collapsed": true
   },
   "outputs": [],
   "source": [
    "import StringIO\n",
    "import ipywidgets as widgets\n",
    "import numpy as np\n",
    "import pandas as pd\n",
    "from IPython.display import display\n",
    "from traitlets import Unicode\n",
    "from traitlets import default\n",
    "from traitlets import List"
   ]
  },
  {
   "cell_type": "code",
   "execution_count": 2,
   "metadata": {
    "collapsed": true
   },
   "outputs": [],
   "source": [
    "class SciSheetTableWidget(widgets.DOMWidget):\n",
    "\n",
    "    _view_name = Unicode('SciSheetTableView').tag(sync=True)\n",
    "    _model_name = Unicode('SciSheetTableModel').tag(sync=True)\n",
    "    _view_module = Unicode('jupyter_scisheets_widget').tag(sync=True)\n",
    "    _model_module = Unicode('jupyter_scisheets_widget').tag(sync=True)\n",
    "    _model_data = List([]).tag(sync=True)\n",
    "    _model_data_2 = Unicode().tag(sync=True)\n",
    "\n",
    "    @default('layout')\n",
    "    def _default_layout(self):\n",
    "        return widgets.Layout(height='400px', align_self='stretch')"
   ]
  },
  {
   "cell_type": "code",
   "execution_count": null,
   "metadata": {
    "collapsed": true
   },
   "outputs": [],
   "source": [
    "tbwidget = SciSheetTableWidget()"
   ]
  },
  {
   "cell_type": "code",
   "execution_count": null,
   "metadata": {
    "collapsed": true
   },
   "outputs": [],
   "source": [
    "tbwidget.model_id()"
   ]
  },
  {
   "cell_type": "code",
   "execution_count": 38,
   "metadata": {},
   "outputs": [
    {
     "data": {
      "application/javascript": [
       "var widgets = require('@jupyter-widgets/base');\n",
       "var _ = require('underscore');\n",
       "var handsontable_css = require(['handsontable/dist/handsontable.full.css']);\n",
       "var handsontable_js = require(['handsontable/dist/handsontable.full']);\n",
       "\n",
       "var SciSheetTableView = widgets.DOMWidgetView.extend({\n",
       "    render: function(){\n",
       "        // CREATION OF THE WIDGET IN THE NOTEBOOK.\n",
       "\n",
       "        // Add a <div> in the widget area.\n",
       "        this.$table = $('<div />')\n",
       "            .attr('id', 'table_' + (table_id++))\n",
       "            .appendTo(this.$el);\n",
       "        // Get the model's value (JSON);\n",
       "        var json = this.model.get('_model_data');\n",
       "        console.log(json);\n",
       "        var json2 = this.model.get('_model_data_2');\n",
       "        console.log(json2);\n",
       "    }\n",
       "});\n",
       "\n",
       "module.exports = {\n",
       "    SciSheetTableModel: SciSheetTableModel,\n",
       "    SciSheetTableView: SciSheetTableView\n",
       "};"
      ],
      "text/plain": [
       "<IPython.core.display.Javascript object>"
      ]
     },
     "metadata": {},
     "output_type": "display_data"
    }
   ],
   "source": [
    "%%javascript\n",
    "var widgets = require('@jupyter-widgets/base');\n",
    "var _ = require('underscore');\n",
    "var handsontable_css = require(['handsontable/dist/handsontable.full.css']);\n",
    "var handsontable_js = require(['handsontable/dist/handsontable.full']);\n",
    "\n",
    "var SciSheetTableView = widgets.DOMWidgetView.extend({\n",
    "    render: function(){\n",
    "        // CREATION OF THE WIDGET IN THE NOTEBOOK.\n",
    "\n",
    "        // Add a <div> in the widget area.\n",
    "        this.$table = $('<div />')\n",
    "            .attr('id', 'table_' + (table_id++))\n",
    "            .appendTo(this.$el);\n",
    "        // Get the model's value (JSON);\n",
    "        var json = this.model.get('_model_data');\n",
    "        console.log(json);\n",
    "        var json2 = this.model.get('_model_data_2');\n",
    "        console.log(json2);\n",
    "    }\n",
    "});\n",
    "\n",
    "module.exports = {\n",
    "    SciSheetTableModel: SciSheetTableModel,\n",
    "    SciSheetTableView: SciSheetTableView\n",
    "};"
   ]
  },
  {
   "cell_type": "code",
   "execution_count": 34,
   "metadata": {
    "collapsed": true
   },
   "outputs": [],
   "source": [
    "class SciSheetWidgetDataFrame(object):\n",
    "    def __init__(self, df):\n",
    "        self._df = df\n",
    "        self._widget = SciSheetTableWidget()\n",
    "        self._widget.observe(self._on_data_changed, '_model_data')\n",
    "        self._widget.unobserve(self._on_displayed)\n",
    "        \n",
    "    def _on_displayed(self, e):\n",
    "        # DataFrame ==> Widget (upon initialization only)\n",
    "        json = self._df.to_json(orient='values')\n",
    "        self._widget._model_data = json\n",
    "        \n",
    "    def _on_data_changed(self, e, val):\n",
    "        # Widget ==> DataFrame (called every time the user\n",
    "        # changes a value in the graphical widget)\n",
    "        buf = StringIO.StringIO(val)\n",
    "        self._df = pd.read_json(buf, orient='values')\n",
    "        \n",
    "    def to_dataframe(self):\n",
    "        return self._df\n",
    "        \n",
    "    def show(self):\n",
    "        display(self._widget)\n"
   ]
  },
  {
   "cell_type": "code",
   "execution_count": 35,
   "metadata": {
    "collapsed": true
   },
   "outputs": [],
   "source": [
    "bob = SciSheetWidgetDataFrame(df.to_json(orient='values'))"
   ]
  },
  {
   "cell_type": "code",
   "execution_count": 36,
   "metadata": {},
   "outputs": [
    {
     "data": {
      "application/vnd.jupyter.widget-view+json": {
       "model_id": "7849a08fc5dc4114920f8438e49f7aa8",
       "version_major": 2,
       "version_minor": 0
      },
      "text/plain": [
       "A Jupyter Widget"
      ]
     },
     "metadata": {},
     "output_type": "display_data"
    }
   ],
   "source": [
    "bob.show()"
   ]
  },
  {
   "cell_type": "code",
   "execution_count": 33,
   "metadata": {
    "collapsed": true
   },
   "outputs": [],
   "source": [
    "from IPython.display import display"
   ]
  },
  {
   "cell_type": "code",
   "execution_count": null,
   "metadata": {
    "collapsed": true
   },
   "outputs": [],
   "source": [
    "from jupyter_scisheets_widget import scisheets_widget"
   ]
  },
  {
   "cell_type": "code",
   "execution_count": null,
   "metadata": {
    "collapsed": true
   },
   "outputs": [],
   "source": [
    "tb = scisheets_widget.SciSheetTable()"
   ]
  },
  {
   "cell_type": "code",
   "execution_count": null,
   "metadata": {
    "collapsed": true
   },
   "outputs": [],
   "source": [
    "tb._model_data = df"
   ]
  },
  {
   "cell_type": "code",
   "execution_count": 24,
   "metadata": {},
   "outputs": [
    {
     "data": {
      "text/html": [
       "<div>\n",
       "<style>\n",
       "    .dataframe thead tr:only-child th {\n",
       "        text-align: right;\n",
       "    }\n",
       "\n",
       "    .dataframe thead th {\n",
       "        text-align: left;\n",
       "    }\n",
       "\n",
       "    .dataframe tbody tr th {\n",
       "        vertical-align: top;\n",
       "    }\n",
       "</style>\n",
       "<table border=\"1\" class=\"dataframe\">\n",
       "  <thead>\n",
       "    <tr style=\"text-align: right;\">\n",
       "      <th></th>\n",
       "      <th>0</th>\n",
       "      <th>1</th>\n",
       "      <th>2</th>\n",
       "      <th>3</th>\n",
       "      <th>4</th>\n",
       "    </tr>\n",
       "  </thead>\n",
       "  <tbody>\n",
       "    <tr>\n",
       "      <th>0</th>\n",
       "      <td>871</td>\n",
       "      <td>596</td>\n",
       "      <td>708</td>\n",
       "      <td>258</td>\n",
       "      <td>288</td>\n",
       "    </tr>\n",
       "    <tr>\n",
       "      <th>1</th>\n",
       "      <td>600</td>\n",
       "      <td>869</td>\n",
       "      <td>719</td>\n",
       "      <td>384</td>\n",
       "      <td>523</td>\n",
       "    </tr>\n",
       "    <tr>\n",
       "      <th>2</th>\n",
       "      <td>346</td>\n",
       "      <td>589</td>\n",
       "      <td>366</td>\n",
       "      <td>359</td>\n",
       "      <td>815</td>\n",
       "    </tr>\n",
       "  </tbody>\n",
       "</table>\n",
       "</div>"
      ],
      "text/plain": [
       "     0    1    2    3    4\n",
       "0  871  596  708  258  288\n",
       "1  600  869  719  384  523\n",
       "2  346  589  366  359  815"
      ]
     },
     "execution_count": 24,
     "metadata": {},
     "output_type": "execute_result"
    }
   ],
   "source": [
    "data = np.random.randint(size=(3, 5), low=100, high=900)\n",
    "df = pd.DataFrame(data)\n",
    "df"
   ]
  },
  {
   "cell_type": "code",
   "execution_count": null,
   "metadata": {
    "collapsed": true
   },
   "outputs": [],
   "source": [
    "def _on_displayed(test_df, test_widget, e):\n",
    "    # DataFrame ==> Widget (upon initialization only)\n",
    "    json = test_df.to_json(orient='values')\n",
    "    test_widget.value = json\n",
    "    \n",
    "    return test_widget\n",
    "\n",
    "def _on_data_changed(test_df, e, val):\n",
    "    # Widget ==> DataFrame (called every time the user\n",
    "    # changes a value in the graphical widget)\n",
    "    buf = io.StringIO(val)\n",
    "    test_df = pd.read_json(buf, orient='values')\n",
    "    \n",
    "    return test_df\n",
    "\n",
    "\n",
    "test_df = df\n",
    "test_widget = scisheets_widget.SciSheetTable()\n",
    "test_widget.on_trait_change(self._on_data_changed, 'value')\n",
    "self._widget.on_displayed(self._on_displayed)"
   ]
  },
  {
   "cell_type": "code",
   "execution_count": null,
   "metadata": {
    "collapsed": true
   },
   "outputs": [],
   "source": [
    "test_df = df\n",
    "test_widget = scisheets_widget.SciSheetTable()\n"
   ]
  },
  {
   "cell_type": "code",
   "execution_count": null,
   "metadata": {
    "collapsed": true
   },
   "outputs": [],
   "source": [
    "test_widget.unobserve()"
   ]
  },
  {
   "cell_type": "code",
   "execution_count": null,
   "metadata": {
    "collapsed": true
   },
   "outputs": [],
   "source": [
    "class HandsonDataFrame(object):\n",
    "    def __init__(self, df):\n",
    "        self._df = df\n",
    "        self._widget = scisheets_widget.SciSheetTable()\n",
    "        self._widget.observe(self._on_value_change, '_model_data')\n",
    "        self._widget.unobserve(self._on_displayed)\n",
    "        \n",
    "        \n",
    "    def _on_value_change(change):\n",
    "        print(change['new'])\n",
    "  \n",
    "    def _on_displayed(self, e):\n",
    "        # DataFrame ==> Widget (upon initialization only)\n",
    "        json = self._df.to_json(orient='values')\n",
    "        self._widget._model_data = json\n",
    "        \n",
    "    def _on_data_changed(self, e, val):\n",
    "        # Widget ==> DataFrame (called every time the user\n",
    "        # changes a value in the graphical widget)\n",
    "        buf = io.StringIO(val)\n",
    "        self._df = pd.read_json(buf, orient='values')\n",
    "        \n",
    "    def to_dataframe(self):\n",
    "        return self._df\n",
    "        \n",
    "    def show(self):\n",
    "        display(self._widget)"
   ]
  },
  {
   "cell_type": "code",
   "execution_count": null,
   "metadata": {
    "collapsed": true
   },
   "outputs": [],
   "source": [
    "import ipywidgets as widgets"
   ]
  },
  {
   "cell_type": "code",
   "execution_count": null,
   "metadata": {
    "collapsed": true
   },
   "outputs": [],
   "source": [
    "ht = HandsonDataFrame(df)\n",
    "#ht.show()"
   ]
  },
  {
   "cell_type": "code",
   "execution_count": null,
   "metadata": {
    "collapsed": true
   },
   "outputs": [],
   "source": [
    "ht.show()"
   ]
  },
  {
   "cell_type": "code",
   "execution_count": null,
   "metadata": {
    "collapsed": true
   },
   "outputs": [],
   "source": [
    "ht.to_dataframe()"
   ]
  },
  {
   "cell_type": "code",
   "execution_count": null,
   "metadata": {
    "collapsed": true
   },
   "outputs": [],
   "source": [
    "%%javascript\n",
    "\n",
    "var handsontable = require([\"handsontable\"]);"
   ]
  },
  {
   "cell_type": "code",
   "execution_count": null,
   "metadata": {
    "collapsed": true
   },
   "outputs": [],
   "source": [
    "%%javascript\n",
    "\n",
    "var data2 = [\n",
    "  [\"\", \"Maserati\", \"Mazda\", \"Mercedes\", \"Mini\", \"Mitsubishi\"],\n",
    "  [\"2009b\", 0, 2941, 4303, 354, 5814],\n",
    "  [\"2010\", 5, 2905, 2867, 412, 5284],\n",
    "  [\"2011\", 4, 2517, 4822, 552, 6127],\n",
    "  [\"2012\", 2, 2422, 5399, 776, 4151]\n",
    "];\n",
    "\n",
    "element.handsontable({\n",
    "  data: data2,\n",
    "  minSpareCols: 1,\n",
    "  minSpareRows: 1,\n",
    "  rowHeaders: true,\n",
    "  colHeaders: true,\n",
    "  contextMenu: true\n",
    "});\n"
   ]
  },
  {
   "cell_type": "code",
   "execution_count": null,
   "metadata": {
    "collapsed": true
   },
   "outputs": [],
   "source": [
    "%%javascript\n",
    "element.handsontable({\n",
    "  data: data2,\n",
    "  minSpareCols: 1,\n",
    "  minSpareRows: 1,\n",
    "  rowHeaders: true,\n",
    "  colHeaders: true,\n",
    "  contextMenu: true\n",
    "});\n"
   ]
  },
  {
   "cell_type": "code",
   "execution_count": null,
   "metadata": {
    "collapsed": true
   },
   "outputs": [],
   "source": [
    "%%html\n",
    "\n",
    "<p style=\"font-size: 20px\"><strong>Handsontable</strong> is a minimalistic Excel-like <span class=\"nobreak\">data grid</span>\n",
    "  editor\n",
    "  for HTML, JavaScript &amp; jQuery</p>\n",
    "\n",
    "<div id=\"hs_example\" class=\"handsontable\"></div>"
   ]
  },
  {
   "cell_type": "code",
   "execution_count": null,
   "metadata": {
    "collapsed": true
   },
   "outputs": [],
   "source": [
    "%%javascript\n",
    "\n",
    "require(['handsontable'], function (handsontable){\n",
    "    console.log(\"in require->handsontable\");\n",
    "    \n",
    "  var data = [\n",
    "    [\"\", \"Maserati\", \"Mazda\", \"Mercedes\", \"Mini\", \"Mitsubishi\"],\n",
    "    [\"2009\", 0, 2941, 4303, 354, 5814],\n",
    "    [\"2010\", 5, 2905, 2867, 412, 5284],\n",
    "    [\"2011\", 4, 2517, 4822, 552, 6127],\n",
    "    [\"2012\", 2, 2422, 5399, 776, 4151]\n",
    "  ];\n",
    "  \n",
    "  $('#hs_example').handsontable({\n",
    "    data: data,\n",
    "    minSpareRows: 1,\n",
    "    colHeaders: true,\n",
    "    contextMenu: true\n",
    "  });\n",
    "  \n",
    "  \n",
    "  function bindDumpButton() {\n",
    "      $('body').on('click', 'button[name=dump]', function () {\n",
    "        var dump = $(this).data('dump');\n",
    "        var $container = $(dump);\n",
    "        console.log('data of ' + dump, $container.handsontable('getData'));\n",
    "      });\n",
    "    }\n",
    "  bindDumpButton();    \n",
    "    \n",
    "});"
   ]
  },
  {
   "cell_type": "code",
   "execution_count": null,
   "metadata": {
    "collapsed": true
   },
   "outputs": [],
   "source": [
    "display(hdf._widget)"
   ]
  },
  {
   "cell_type": "code",
   "execution_count": null,
   "metadata": {
    "collapsed": true,
    "scrolled": true
   },
   "outputs": [],
   "source": [
    "hdf = scisheets_widget.HandsonDataFrame(df)\n",
    "hdf.show()"
   ]
  },
  {
   "cell_type": "code",
   "execution_count": null,
   "metadata": {
    "collapsed": true
   },
   "outputs": [],
   "source": [
    "display(hdf)"
   ]
  },
  {
   "cell_type": "code",
   "execution_count": null,
   "metadata": {
    "collapsed": true
   },
   "outputs": [],
   "source": []
  },
  {
   "cell_type": "code",
   "execution_count": null,
   "metadata": {
    "collapsed": true
   },
   "outputs": [],
   "source": [
    "data = np.random.randint(size=(3, 5), low=100, high=900)\n",
    "df = pd.DataFrame(data)"
   ]
  },
  {
   "cell_type": "code",
   "execution_count": null,
   "metadata": {
    "collapsed": true
   },
   "outputs": [],
   "source": [
    "df = pd.DataFrame({'a':[1,3,5,7,4,5,6,4,7,8,9],\n",
    "                   'b':[3,5,6,2,4,6,7,8,7,8,9]})"
   ]
  },
  {
   "cell_type": "code",
   "execution_count": null,
   "metadata": {
    "collapsed": true
   },
   "outputs": [],
   "source": []
  },
  {
   "cell_type": "code",
   "execution_count": null,
   "metadata": {
    "collapsed": true
   },
   "outputs": [],
   "source": [
    "%%javascript\n",
    "$element.handsontable({data:data1});"
   ]
  },
  {
   "cell_type": "code",
   "execution_count": null,
   "metadata": {
    "collapsed": true
   },
   "outputs": [],
   "source": [
    "%%javascript\n",
    "element.text('Hi')\n",
    "console.log('There')"
   ]
  },
  {
   "cell_type": "code",
   "execution_count": null,
   "metadata": {
    "collapsed": true
   },
   "outputs": [],
   "source": [
    "%%javascript\n",
    "\n",
    "var table_id = 0;\n",
    "\n",
    "this.$table = $('<div />')\n",
    "                .attr('id', 'table_' + (table_id++))\n",
    "                .appendTo(element);\n",
    "\n",
    "this.$table.handsontable({data:data1});\n",
    "\n",
    "// this.element.handsontable({data:data1});\n",
    "// console.log('how?')"
   ]
  },
  {
   "cell_type": "code",
   "execution_count": null,
   "metadata": {
    "collapsed": true
   },
   "outputs": [],
   "source": [
    "%%javascript\n",
    "\n",
    "var div = document.createElement('div');\n",
    "\n",
    "div.innerHTML = '<span class=\"msg\">Hello world.</span>';"
   ]
  },
  {
   "cell_type": "code",
   "execution_count": null,
   "metadata": {
    "collapsed": true
   },
   "outputs": [],
   "source": [
    "%%javascript\n",
    "var output_area = this;\n",
    "// find my cell element\n",
    "var cell_element = output_area.element.parents('.cell');\n",
    "// which cell is it?\n",
    "var cell_idx = Jupyter.notebook.get_cell_elements().index(cell_element);\n",
    "// get the cell object\n",
    "var cell = Jupyter.notebook.get_cell(cell_idx);\n",
    "\n"
   ]
  },
  {
   "cell_type": "code",
   "execution_count": null,
   "metadata": {
    "collapsed": true
   },
   "outputs": [],
   "source": []
  },
  {
   "cell_type": "markdown",
   "metadata": {},
   "source": [
    "## Test to make sure widgets work in notebook"
   ]
  },
  {
   "cell_type": "code",
   "execution_count": null,
   "metadata": {
    "collapsed": true
   },
   "outputs": [],
   "source": [
    "import ipywidgets as widgets"
   ]
  },
  {
   "cell_type": "code",
   "execution_count": null,
   "metadata": {
    "collapsed": true
   },
   "outputs": [],
   "source": [
    "widgets.IntSlider()"
   ]
  }
 ],
 "metadata": {
  "kernelspec": {
   "display_name": "Python [conda env:scisheets_env]",
   "language": "python",
   "name": "conda-env-scisheets_env-py"
  },
  "language_info": {
   "codemirror_mode": {
    "name": "ipython",
    "version": 2
   },
   "file_extension": ".py",
   "mimetype": "text/x-python",
   "name": "python",
   "nbconvert_exporter": "python",
   "pygments_lexer": "ipython2",
   "version": "2.7.13"
  }
 },
 "nbformat": 4,
 "nbformat_minor": 2
}

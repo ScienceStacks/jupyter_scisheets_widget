{
 "cells": [
  {
   "cell_type": "code",
   "execution_count": 1,
   "metadata": {
    "collapsed": true
   },
   "outputs": [],
   "source": [
    "import ast\n",
    "import json\n",
    "\n",
    "import numpy as np\n",
    "import pandas as pd\n",
    "\n",
    "from IPython.display import display"
   ]
  },
  {
   "cell_type": "code",
   "execution_count": 2,
   "metadata": {},
   "outputs": [
    {
     "data": {
      "text/html": [
       "<div>\n",
       "<style>\n",
       "    .dataframe thead tr:only-child th {\n",
       "        text-align: right;\n",
       "    }\n",
       "\n",
       "    .dataframe thead th {\n",
       "        text-align: left;\n",
       "    }\n",
       "\n",
       "    .dataframe tbody tr th {\n",
       "        vertical-align: top;\n",
       "    }\n",
       "</style>\n",
       "<table border=\"1\" class=\"dataframe\">\n",
       "  <thead>\n",
       "    <tr style=\"text-align: right;\">\n",
       "      <th></th>\n",
       "      <th>GEOID</th>\n",
       "      <th>State</th>\n",
       "      <th>2005</th>\n",
       "      <th>2006</th>\n",
       "      <th>2007</th>\n",
       "      <th>2008</th>\n",
       "      <th>2009</th>\n",
       "      <th>2010</th>\n",
       "      <th>2011</th>\n",
       "      <th>2012</th>\n",
       "      <th>2013</th>\n",
       "    </tr>\n",
       "  </thead>\n",
       "  <tbody>\n",
       "    <tr>\n",
       "      <th>0</th>\n",
       "      <td>04000US01</td>\n",
       "      <td>Alabama</td>\n",
       "      <td>37150</td>\n",
       "      <td>37952</td>\n",
       "      <td>42212</td>\n",
       "      <td>44476</td>\n",
       "      <td>39980</td>\n",
       "      <td>40933</td>\n",
       "      <td>42590</td>\n",
       "      <td>43464</td>\n",
       "      <td>41381</td>\n",
       "    </tr>\n",
       "    <tr>\n",
       "      <th>1</th>\n",
       "      <td>04000US02</td>\n",
       "      <td>Alaska</td>\n",
       "      <td>55891</td>\n",
       "      <td>56418</td>\n",
       "      <td>62993</td>\n",
       "      <td>63989</td>\n",
       "      <td>61604</td>\n",
       "      <td>57848</td>\n",
       "      <td>57431</td>\n",
       "      <td>63648</td>\n",
       "      <td>61137</td>\n",
       "    </tr>\n",
       "    <tr>\n",
       "      <th>2</th>\n",
       "      <td>04000US04</td>\n",
       "      <td>Arizona</td>\n",
       "      <td>45245</td>\n",
       "      <td>46657</td>\n",
       "      <td>47215</td>\n",
       "      <td>46914</td>\n",
       "      <td>45739</td>\n",
       "      <td>46896</td>\n",
       "      <td>48621</td>\n",
       "      <td>47044</td>\n",
       "      <td>50602</td>\n",
       "    </tr>\n",
       "    <tr>\n",
       "      <th>3</th>\n",
       "      <td>04000US05</td>\n",
       "      <td>Arkansas</td>\n",
       "      <td>36658</td>\n",
       "      <td>37057</td>\n",
       "      <td>40795</td>\n",
       "      <td>39586</td>\n",
       "      <td>36538</td>\n",
       "      <td>38587</td>\n",
       "      <td>41302</td>\n",
       "      <td>39018</td>\n",
       "      <td>39919</td>\n",
       "    </tr>\n",
       "    <tr>\n",
       "      <th>4</th>\n",
       "      <td>04000US06</td>\n",
       "      <td>California</td>\n",
       "      <td>51755</td>\n",
       "      <td>55319</td>\n",
       "      <td>55734</td>\n",
       "      <td>57014</td>\n",
       "      <td>56134</td>\n",
       "      <td>54283</td>\n",
       "      <td>53367</td>\n",
       "      <td>57020</td>\n",
       "      <td>57528</td>\n",
       "    </tr>\n",
       "  </tbody>\n",
       "</table>\n",
       "</div>"
      ],
      "text/plain": [
       "       GEOID       State   2005   2006   2007   2008   2009   2010   2011  \\\n",
       "0  04000US01     Alabama  37150  37952  42212  44476  39980  40933  42590   \n",
       "1  04000US02      Alaska  55891  56418  62993  63989  61604  57848  57431   \n",
       "2  04000US04     Arizona  45245  46657  47215  46914  45739  46896  48621   \n",
       "3  04000US05    Arkansas  36658  37057  40795  39586  36538  38587  41302   \n",
       "4  04000US06  California  51755  55319  55734  57014  56134  54283  53367   \n",
       "\n",
       "    2012   2013  \n",
       "0  43464  41381  \n",
       "1  63648  61137  \n",
       "2  47044  50602  \n",
       "3  39018  39919  \n",
       "4  57020  57528  "
      ]
     },
     "execution_count": 2,
     "metadata": {},
     "output_type": "execute_result"
    }
   ],
   "source": [
    "income_data = pd.read_csv('income_data.csv', sep=';')\n",
    "income_data"
   ]
  },
  {
   "cell_type": "code",
   "execution_count": 3,
   "metadata": {
    "collapsed": true
   },
   "outputs": [],
   "source": [
    "import ipywidgets as widgets\n",
    "from traitlets import Unicode, validate\n",
    "\n",
    "\n",
    "class HelloWidget(widgets.DOMWidget):\n",
    "    _view_name = Unicode('HelloView').tag(sync=True)\n",
    "    _view_module = Unicode('hello').tag(sync=True)\n",
    "    _view_module_version = Unicode('0.1.0').tag(sync=True)\n",
    "    value = Unicode().tag(sync=True)"
   ]
  },
  {
   "cell_type": "code",
   "execution_count": 4,
   "metadata": {},
   "outputs": [
    {
     "data": {
      "application/javascript": [
       "require.undef('hello');\n",
       "\n",
       "define('hello', [\"@jupyter-widgets/base\"], function(widgets) {\n",
       "\n",
       "    var HelloView = widgets.DOMWidgetView.extend({\n",
       "\n",
       "        // Render the view.\n",
       "        render: function() {\n",
       "            this.el.textContent = 'Hello World!';\n",
       "        },\n",
       "    });\n",
       "\n",
       "    return {\n",
       "        HelloView: HelloView\n",
       "    };\n",
       "});"
      ],
      "text/plain": [
       "<IPython.core.display.Javascript object>"
      ]
     },
     "metadata": {},
     "output_type": "display_data"
    }
   ],
   "source": [
    "%%javascript\n",
    "require.undef('hello');\n",
    "\n",
    "define('hello', [\"@jupyter-widgets/base\"], function(widgets) {\n",
    "\n",
    "    var HelloView = widgets.DOMWidgetView.extend({\n",
    "\n",
    "        // Render the view.\n",
    "        render: function() {\n",
    "            this.el.textContent = 'Hello World!';\n",
    "        },\n",
    "    });\n",
    "\n",
    "    return {\n",
    "        HelloView: HelloView\n",
    "    };\n",
    "});"
   ]
  },
  {
   "cell_type": "code",
   "execution_count": 5,
   "metadata": {},
   "outputs": [
    {
     "data": {
      "application/vnd.jupyter.widget-view+json": {
       "model_id": "b55097ff4aa649569d39437c4b097fd2",
       "version_major": 2,
       "version_minor": 0
      },
      "text/plain": [
       "A Jupyter Widget"
      ]
     },
     "metadata": {},
     "output_type": "display_data"
    }
   ],
   "source": [
    "b = HelloWidget()\n",
    "b"
   ]
  },
  {
   "cell_type": "code",
   "execution_count": 6,
   "metadata": {
    "collapsed": true
   },
   "outputs": [],
   "source": [
    "b.value = 'bob'"
   ]
  },
  {
   "cell_type": "code",
   "execution_count": 7,
   "metadata": {},
   "outputs": [
    {
     "data": {
      "application/vnd.jupyter.widget-view+json": {
       "model_id": "b55097ff4aa649569d39437c4b097fd2",
       "version_major": 2,
       "version_minor": 0
      },
      "text/plain": [
       "A Jupyter Widget"
      ]
     },
     "metadata": {},
     "output_type": "display_data"
    }
   ],
   "source": [
    "b"
   ]
  },
  {
   "cell_type": "code",
   "execution_count": 8,
   "metadata": {
    "collapsed": true
   },
   "outputs": [],
   "source": [
    "import ipywidgets as widgets\n",
    "from traitlets import Unicode, validate\n",
    "\n",
    "\n",
    "class SciSheetWidget(widgets.DOMWidget):\n",
    "    _view_name = Unicode('SciSheetView').tag(sync=True)\n",
    "    _view_module = Unicode('scisheetwidget').tag(sync=True)\n",
    "    _view_module_version = Unicode('0.1.0').tag(sync=True)\n",
    "    _model_data = Unicode('Welcome!').tag(sync=True)\n",
    "    \n",
    "    def load_df(self, df):\n",
    "        if type(df) == pd.core.frame.DataFrame:\n",
    "            model_data = df.to_json(orient='split')\n",
    "            model_data = ast.literal_eval(model_data)\n",
    "            self._model_data = json.dumps(model_data)\n",
    "            #self._model_data = json.dumps(model_data['data'])\n",
    "            #self._model_header = json.dumps(model_data['columns']) \n",
    "            #self._model_row_header = json.dumps(model_data['index']) \n",
    "        else:\n",
    "            print('Please enter a pandas dataframe')\n"
   ]
  },
  {
   "cell_type": "code",
   "execution_count": 9,
   "metadata": {
    "collapsed": true
   },
   "outputs": [],
   "source": [
    "class HandsOnTableDataFrame:\n",
    "    def __init__(self, df):\n",
    "        self._df = df\n",
    "        self._widget = SciSheetWidget()\n",
    "        #self._widget.observe(self._on_data_changed, '_model_data')\n",
    "        #self._widget.unobserve(self._on_displayed)\n",
    "        print('widget initialized')\n",
    "\n",
    "    def _on_displayed(self, e):\n",
    "        if type(self._df) == pd.core.frame.DataFrame:\n",
    "            print('on displayed')\n",
    "            model_data = self._df.to_json(orient='split')\n",
    "            model_data = ast.literal_eval(model_data)\n",
    "            self._widget._model_data = json.dumps(model_data)\n",
    "            #self._widget._model_data = json.dumps(model_data['data'])\n",
    "            #self._widget._model_header = json.dumps(model_data['columns'])\n",
    "            #self._widget._model_row_header = json.dumps(model_data['index'])\n",
    "        else:\n",
    "            print('Please enter a pandas dataframe')\n",
    "\n",
    "    def _on_data_changed(self, e):\n",
    "        # Widget ==> DataFrame (called every time the user\n",
    "        # changes a value in the graphical widget)\n",
    "        print('data is being changed')\n",
    "        data_dic = {}\n",
    "        #data_dic['columns'] = ast.literal_eval(self._widget._model_header)\n",
    "        #data_dic['index'] = ast.literal_eval(self._widget._model_row_header)\n",
    "        #data_dic['data'] = ast_literal_eval(self._widget._model_data)\n",
    "        data_dic = ast.literal_eval(self._widget._model_data)\n",
    "        self._df = pd.read_json(json.dumps(data_dic), orient='split')\n",
    "\n",
    "    def to_dataframe(self):\n",
    "        return self._df\n",
    "\n",
    "    def show(self):\n",
    "        display(self._widget)\n"
   ]
  },
  {
   "cell_type": "code",
   "execution_count": 10,
   "metadata": {},
   "outputs": [
    {
     "data": {
      "application/javascript": [
       "require.undef('scisheetwidget');\n",
       "\n",
       "define('scisheetwidget', [\"@jupyter-widgets/base\"], function(widgets) {\n",
       "\n",
       "    var SciSheetView = widgets.DOMWidgetView.extend({\n",
       "\n",
       "        // Render the view.\n",
       "        render: function(){ \n",
       "//             this.el.textContent = 'Hello World!';\n",
       "            this.value_changed()\n",
       "            this.model.on('change:_model_data', this.value_changed, this);\n",
       "        },\n",
       "\n",
       "        value_changed: function() {\n",
       "//             alert(this.model.get('_model_data')); \n",
       "            console.log(this.model.get('_model_data'));\n",
       "            this.el.textContent = this.model.get('_model_data');\n",
       "            \n",
       "//             return HelloView.__super__.update.apply(this);\n",
       "        },\n",
       "        \n",
       "    });\n",
       "        \n",
       "\n",
       "    return {\n",
       "        SciSheetView: SciSheetView\n",
       "    };\n",
       "});"
      ],
      "text/plain": [
       "<IPython.core.display.Javascript object>"
      ]
     },
     "metadata": {},
     "output_type": "display_data"
    }
   ],
   "source": [
    "%%javascript\n",
    "require.undef('scisheetwidget');\n",
    "\n",
    "define('scisheetwidget', [\"@jupyter-widgets/base\"], function(widgets) {\n",
    "\n",
    "    var SciSheetView = widgets.DOMWidgetView.extend({\n",
    "\n",
    "        // Render the view.\n",
    "        render: function(){ \n",
    "//             this.el.textContent = 'Hello World!';\n",
    "            this.value_changed()\n",
    "            this.model.on('change:_model_data', this.value_changed, this);\n",
    "        },\n",
    "\n",
    "        value_changed: function() {\n",
    "//             alert(this.model.get('_model_data')); \n",
    "            console.log(this.model.get('_model_data'));\n",
    "            this.el.textContent = this.model.get('_model_data');\n",
    "            \n",
    "//             return HelloView.__super__.update.apply(this);\n",
    "        },\n",
    "        \n",
    "    });\n",
    "        \n",
    "\n",
    "    return {\n",
    "        SciSheetView: SciSheetView\n",
    "    };\n",
    "});"
   ]
  },
  {
   "cell_type": "code",
   "execution_count": 11,
   "metadata": {},
   "outputs": [
    {
     "data": {
      "application/vnd.jupyter.widget-view+json": {
       "model_id": "924bb085b7564da9a58f9bb361ca277f",
       "version_major": 2,
       "version_minor": 0
      },
      "text/plain": [
       "A Jupyter Widget"
      ]
     },
     "metadata": {},
     "output_type": "display_data"
    }
   ],
   "source": [
    "c = SciSheetWidget()\n",
    "c"
   ]
  },
  {
   "cell_type": "code",
   "execution_count": 12,
   "metadata": {
    "collapsed": true
   },
   "outputs": [],
   "source": [
    "c.load_df(income_data)"
   ]
  },
  {
   "cell_type": "code",
   "execution_count": 13,
   "metadata": {},
   "outputs": [
    {
     "data": {
      "application/vnd.jupyter.widget-view+json": {
       "model_id": "924bb085b7564da9a58f9bb361ca277f",
       "version_major": 2,
       "version_minor": 0
      },
      "text/plain": [
       "A Jupyter Widget"
      ]
     },
     "metadata": {},
     "output_type": "display_data"
    }
   ],
   "source": [
    "c"
   ]
  },
  {
   "cell_type": "code",
   "execution_count": 14,
   "metadata": {},
   "outputs": [
    {
     "ename": "AttributeError",
     "evalue": "'SciSheetWidget' object has no attribute 'value'",
     "output_type": "error",
     "traceback": [
      "\u001b[0;31m---------------------------------------------------------------------------\u001b[0m",
      "\u001b[0;31mAttributeError\u001b[0m                            Traceback (most recent call last)",
      "\u001b[0;32m<ipython-input-14-d335c3962011>\u001b[0m in \u001b[0;36m<module>\u001b[0;34m()\u001b[0m\n\u001b[0;32m----> 1\u001b[0;31m \u001b[0mc\u001b[0m\u001b[0;34m.\u001b[0m\u001b[0mvalue\u001b[0m\u001b[0;34m\u001b[0m\u001b[0m\n\u001b[0m",
      "\u001b[0;31mAttributeError\u001b[0m: 'SciSheetWidget' object has no attribute 'value'"
     ]
    }
   ],
   "source": [
    "c.value"
   ]
  },
  {
   "cell_type": "code",
   "execution_count": 15,
   "metadata": {},
   "outputs": [
    {
     "name": "stdout",
     "output_type": "stream",
     "text": [
      "widget initialized\n"
     ]
    }
   ],
   "source": [
    "w = HandsOnTableDataFrame(income_data)"
   ]
  },
  {
   "cell_type": "code",
   "execution_count": 16,
   "metadata": {},
   "outputs": [
    {
     "data": {
      "application/vnd.jupyter.widget-view+json": {
       "model_id": "7136821b6c9242a6a77aafc93dc2aa5b",
       "version_major": 2,
       "version_minor": 0
      },
      "text/plain": [
       "A Jupyter Widget"
      ]
     },
     "metadata": {},
     "output_type": "display_data"
    }
   ],
   "source": [
    "w.show()"
   ]
  },
  {
   "cell_type": "code",
   "execution_count": 17,
   "metadata": {},
   "outputs": [
    {
     "data": {
      "text/html": [
       "<div>\n",
       "<style>\n",
       "    .dataframe thead tr:only-child th {\n",
       "        text-align: right;\n",
       "    }\n",
       "\n",
       "    .dataframe thead th {\n",
       "        text-align: left;\n",
       "    }\n",
       "\n",
       "    .dataframe tbody tr th {\n",
       "        vertical-align: top;\n",
       "    }\n",
       "</style>\n",
       "<table border=\"1\" class=\"dataframe\">\n",
       "  <thead>\n",
       "    <tr style=\"text-align: right;\">\n",
       "      <th></th>\n",
       "      <th>GEOID</th>\n",
       "      <th>State</th>\n",
       "      <th>2005</th>\n",
       "      <th>2006</th>\n",
       "      <th>2007</th>\n",
       "      <th>2008</th>\n",
       "      <th>2009</th>\n",
       "      <th>2010</th>\n",
       "      <th>2011</th>\n",
       "      <th>2012</th>\n",
       "      <th>2013</th>\n",
       "    </tr>\n",
       "  </thead>\n",
       "  <tbody>\n",
       "    <tr>\n",
       "      <th>0</th>\n",
       "      <td>04000US01</td>\n",
       "      <td>Alabama</td>\n",
       "      <td>37150</td>\n",
       "      <td>37952</td>\n",
       "      <td>42212</td>\n",
       "      <td>44476</td>\n",
       "      <td>39980</td>\n",
       "      <td>40933</td>\n",
       "      <td>42590</td>\n",
       "      <td>43464</td>\n",
       "      <td>41381</td>\n",
       "    </tr>\n",
       "    <tr>\n",
       "      <th>1</th>\n",
       "      <td>04000US02</td>\n",
       "      <td>Alaska</td>\n",
       "      <td>55891</td>\n",
       "      <td>56418</td>\n",
       "      <td>62993</td>\n",
       "      <td>63989</td>\n",
       "      <td>61604</td>\n",
       "      <td>57848</td>\n",
       "      <td>57431</td>\n",
       "      <td>63648</td>\n",
       "      <td>61137</td>\n",
       "    </tr>\n",
       "    <tr>\n",
       "      <th>2</th>\n",
       "      <td>04000US04</td>\n",
       "      <td>Arizona</td>\n",
       "      <td>45245</td>\n",
       "      <td>46657</td>\n",
       "      <td>47215</td>\n",
       "      <td>46914</td>\n",
       "      <td>45739</td>\n",
       "      <td>46896</td>\n",
       "      <td>48621</td>\n",
       "      <td>47044</td>\n",
       "      <td>50602</td>\n",
       "    </tr>\n",
       "    <tr>\n",
       "      <th>3</th>\n",
       "      <td>04000US05</td>\n",
       "      <td>Arkansas</td>\n",
       "      <td>36658</td>\n",
       "      <td>37057</td>\n",
       "      <td>40795</td>\n",
       "      <td>39586</td>\n",
       "      <td>36538</td>\n",
       "      <td>38587</td>\n",
       "      <td>41302</td>\n",
       "      <td>39018</td>\n",
       "      <td>39919</td>\n",
       "    </tr>\n",
       "    <tr>\n",
       "      <th>4</th>\n",
       "      <td>04000US06</td>\n",
       "      <td>California</td>\n",
       "      <td>51755</td>\n",
       "      <td>55319</td>\n",
       "      <td>55734</td>\n",
       "      <td>57014</td>\n",
       "      <td>56134</td>\n",
       "      <td>54283</td>\n",
       "      <td>53367</td>\n",
       "      <td>57020</td>\n",
       "      <td>57528</td>\n",
       "    </tr>\n",
       "  </tbody>\n",
       "</table>\n",
       "</div>"
      ],
      "text/plain": [
       "       GEOID       State   2005   2006   2007   2008   2009   2010   2011  \\\n",
       "0  04000US01     Alabama  37150  37952  42212  44476  39980  40933  42590   \n",
       "1  04000US02      Alaska  55891  56418  62993  63989  61604  57848  57431   \n",
       "2  04000US04     Arizona  45245  46657  47215  46914  45739  46896  48621   \n",
       "3  04000US05    Arkansas  36658  37057  40795  39586  36538  38587  41302   \n",
       "4  04000US06  California  51755  55319  55734  57014  56134  54283  53367   \n",
       "\n",
       "    2012   2013  \n",
       "0  43464  41381  \n",
       "1  63648  61137  \n",
       "2  47044  50602  \n",
       "3  39018  39919  \n",
       "4  57020  57528  "
      ]
     },
     "execution_count": 17,
     "metadata": {},
     "output_type": "execute_result"
    }
   ],
   "source": [
    "w.to_dataframe()"
   ]
  },
  {
   "cell_type": "code",
   "execution_count": 18,
   "metadata": {},
   "outputs": [
    {
     "data": {
      "application/javascript": [
       "\n",
       "var bob = document.getElementById('TextBox');\n",
       "bob.innerHTML = 'Paul'"
      ],
      "text/plain": [
       "<IPython.core.display.Javascript object>"
      ]
     },
     "metadata": {},
     "output_type": "display_data"
    }
   ],
   "source": [
    "%%javascript\n",
    "\n",
    "var bob = document.getElementById('TextBox');\n",
    "bob.innerHTML = 'Paul'"
   ]
  },
  {
   "cell_type": "code",
   "execution_count": 19,
   "metadata": {
    "collapsed": true
   },
   "outputs": [],
   "source": [
    "import ipywidgets as widgets\n",
    "from traitlets import Unicode, validate\n",
    "\n",
    "\n",
    "class SciSheetWidget(widgets.DOMWidget):\n",
    "    _view_name = Unicode('SciSheetView').tag(sync=True)\n",
    "    _view_module = Unicode('scisheetwidget').tag(sync=True)\n",
    "    _view_module_version = Unicode('0.1.0').tag(sync=True)\n",
    "    _model_data = Unicode('Welcome!').tag(sync=True)\n",
    "    \n",
    "    def load_df(self, df):\n",
    "        if type(df) == pd.core.frame.DataFrame:\n",
    "            model_data = df.to_json(orient='split')\n",
    "            model_data = ast.literal_eval(model_data)\n",
    "            self._model_data = json.dumps(model_data)\n",
    "            #self._model_data = json.dumps(model_data['data'])\n",
    "            #self._model_header = json.dumps(model_data['columns']) \n",
    "            #self._model_row_header = json.dumps(model_data['index']) \n",
    "        else:\n",
    "            print('Please enter a pandas dataframe')\n"
   ]
  },
  {
   "cell_type": "code",
   "execution_count": 20,
   "metadata": {
    "collapsed": true
   },
   "outputs": [],
   "source": [
    "class HandsOnTableDataFrame(object):\n",
    "    def __init__(self, df):\n",
    "        self._df = df\n",
    "        self._widget = SciSheetWidget()\n",
    "        self._widget.observe(self._on_data_changed, '_model_data')\n",
    "        self._widget.unobserve(self._on_displayed)\n",
    "        print('widget initialized')\n",
    "\n",
    "    def _on_displayed(self, e):\n",
    "        if type(self._df) == pd.core.frame.DataFrame:\n",
    "            print('on displayed')\n",
    "            model_data = self._df.to_json(orient='split')\n",
    "            model_data = ast.literal_eval(model_data)\n",
    "            self._widget._model_data = json.dumps(model_data)\n",
    "            #self._widget._model_data = json.dumps(model_data['data'])\n",
    "            #self._widget._model_header = json.dumps(model_data['columns'])\n",
    "            #self._widget._model_row_header = json.dumps(model_data['index'])\n",
    "        else:\n",
    "            print('Please enter a pandas dataframe')\n",
    "\n",
    "    def _on_data_changed(self, e):\n",
    "        # Widget ==> DataFrame (called every time the user\n",
    "        # changes a value in the graphical widget)\n",
    "        print('data is being changed')\n",
    "        data_dic = {}\n",
    "        #data_dic['columns'] = ast.literal_eval(self._widget._model_header)\n",
    "        #data_dic['index'] = ast.literal_eval(self._widget._model_row_header)\n",
    "        #data_dic['data'] = ast_literal_eval(self._widget._model_data)\n",
    "        data_dic = ast_literal_eval(self._widget._model_data)\n",
    "        self._df = pd.read_json(json.dumps(data_dic), orient='split')\n",
    "\n",
    "    def to_dataframe(self):\n",
    "        return self._df\n",
    "\n",
    "    def show(self):\n",
    "        display(self._widget)\n"
   ]
  },
  {
   "cell_type": "code",
   "execution_count": 21,
   "metadata": {},
   "outputs": [
    {
     "data": {
      "application/javascript": [
       "require.undef('scisheetwidget');\n",
       "\n",
       "define('scisheetwidget', [\"@jupyter-widgets/base\"], function(widgets) {\n",
       "\n",
       "    var SciSheetView = widgets.DOMWidgetView.extend({\n",
       "        \n",
       "        // Render the view.\n",
       "        render: function(){ \n",
       "//             var bob = this.$el.append(\"<textarea></textarea><br />\")\n",
       "//             this.el.textContent = 'Hello World!';\n",
       "            this.value_changed()\n",
       "            this.model.on('change:_model_data', this.value_changed, this);\n",
       "        },\n",
       "\n",
       "        value_changed: function() {\n",
       "//             alert(this.model.get('_model_data')); \n",
       "            var bob = this.$el.html(\"<textarea>\" + this.model.get('_model_data') + \"</textarea><br />\")\n",
       "//             bob.innerHTML = this.model.get('_model_data');\n",
       "//             var bob = document.getElementById('TextBox');\n",
       "            console.log(this.model.get('_model_data'));\n",
       "//             bob.innerHTML = this.model.get('_model_data');\n",
       "//             this.el.textContent = this.model.get('_model_data');\n",
       "            \n",
       "//             return HelloView.__super__.update.apply(this);\n",
       "        },\n",
       "        \n",
       "    });\n",
       "        \n",
       "\n",
       "    return {\n",
       "        SciSheetView: SciSheetView\n",
       "    };\n",
       "});"
      ],
      "text/plain": [
       "<IPython.core.display.Javascript object>"
      ]
     },
     "metadata": {},
     "output_type": "display_data"
    }
   ],
   "source": [
    "%%javascript\n",
    "require.undef('scisheetwidget');\n",
    "\n",
    "define('scisheetwidget', [\"@jupyter-widgets/base\"], function(widgets) {\n",
    "\n",
    "    var SciSheetView = widgets.DOMWidgetView.extend({\n",
    "        \n",
    "        // Render the view.\n",
    "        render: function(){ \n",
    "//             var bob = this.$el.append(\"<textarea></textarea><br />\")\n",
    "//             this.el.textContent = 'Hello World!';\n",
    "            this.value_changed()\n",
    "            this.model.on('change:_model_data', this.value_changed, this);\n",
    "        },\n",
    "\n",
    "        value_changed: function() {\n",
    "//             alert(this.model.get('_model_data')); \n",
    "            var bob = this.$el.html(\"<textarea>\" + this.model.get('_model_data') + \"</textarea><br />\")\n",
    "//             bob.innerHTML = this.model.get('_model_data');\n",
    "//             var bob = document.getElementById('TextBox');\n",
    "            console.log(this.model.get('_model_data'));\n",
    "//             bob.innerHTML = this.model.get('_model_data');\n",
    "//             this.el.textContent = this.model.get('_model_data');\n",
    "            \n",
    "//             return HelloView.__super__.update.apply(this);\n",
    "        },\n",
    "        \n",
    "    });\n",
    "        \n",
    "\n",
    "    return {\n",
    "        SciSheetView: SciSheetView\n",
    "    };\n",
    "});"
   ]
  },
  {
   "cell_type": "code",
   "execution_count": 26,
   "metadata": {},
   "outputs": [
    {
     "data": {
      "application/javascript": [
       "require.undef('scisheetwidget');\n",
       "\n",
       "define('scisheetwidget', [\"@jupyter-widgets/base\"], function(widgets) {\n",
       "\n",
       "    var SciSheetView = widgets.DOMWidgetView.extend({\n",
       "        \n",
       "        // Render the view.\n",
       "        render: function(){ \n",
       "            this.value_changed()\n",
       "            this.model.on('change:_model_data', this.value_changed, this);\n",
       "        },\n",
       "\n",
       "        value_changed: function() {\n",
       "//             alert(this.model.get('_model_data')); \n",
       "//             var bob = this.$el.html(\"<textarea id='textwidget'>\" + this.model.get('_model_data') + \"</textarea><br />\")\n",
       "            this.$el.html(\"<textarea>\" + this.model.get('_model_data') + \"</textarea><br />\")\n",
       "            //             bob.innerHTML = this.model.get('_model_data');\n",
       "//             var bob = document.getElementById('TextBox');\n",
       "            console.log(this.model.get('_model_data'));\n",
       "//             console.log(this.$el.children().innerHTML)\n",
       "//             bob.innerHTML = this.model.get('_model_data');\n",
       "//             this.el.textContent = this.model.get('_model_data');\n",
       "            \n",
       "//             return HelloView.__super__.update.apply(this);\n",
       "        },\n",
       "        \n",
       "    });\n",
       "        \n",
       "\n",
       "    return {\n",
       "        SciSheetView: SciSheetView\n",
       "    };\n",
       "});"
      ],
      "text/plain": [
       "<IPython.core.display.Javascript object>"
      ]
     },
     "metadata": {},
     "output_type": "display_data"
    }
   ],
   "source": [
    "%%javascript\n",
    "require.undef('scisheetwidget');\n",
    "\n",
    "define('scisheetwidget', [\"@jupyter-widgets/base\"], function(widgets) {\n",
    "\n",
    "    var SciSheetView = widgets.DOMWidgetView.extend({\n",
    "        \n",
    "        // Render the view.\n",
    "        render: function(){ \n",
    "            this.value_changed()\n",
    "            this.model.on('change:_model_data', this.value_changed, this);\n",
    "        },\n",
    "\n",
    "        value_changed: function() {\n",
    "//             alert(this.model.get('_model_data')); \n",
    "//             var bob = this.$el.html(\"<textarea id='textwidget'>\" + this.model.get('_model_data') + \"</textarea><br />\")\n",
    "            this.$el.html(\"<textarea>\" + this.model.get('_model_data') + \"</textarea><br />\")\n",
    "            //             bob.innerHTML = this.model.get('_model_data');\n",
    "//             var bob = document.getElementById('TextBox');\n",
    "            console.log(this.model.get('_model_data'));\n",
    "//             console.log(this.$el.children().innerHTML)\n",
    "//             bob.innerHTML = this.model.get('_model_data');\n",
    "//             this.el.textContent = this.model.get('_model_data');\n",
    "            \n",
    "//             return HelloView.__super__.update.apply(this);\n",
    "        },\n",
    "        \n",
    "    });\n",
    "        \n",
    "\n",
    "    return {\n",
    "        SciSheetView: SciSheetView\n",
    "    };\n",
    "});"
   ]
  },
  {
   "cell_type": "code",
   "execution_count": 27,
   "metadata": {
    "scrolled": false
   },
   "outputs": [
    {
     "data": {
      "application/vnd.jupyter.widget-view+json": {
       "model_id": "6e3fe9fb13c2442c899a74f22f4706e8",
       "version_major": 2,
       "version_minor": 0
      },
      "text/plain": [
       "A Jupyter Widget"
      ]
     },
     "metadata": {},
     "output_type": "display_data"
    }
   ],
   "source": [
    "b = SciSheetWidget()\n",
    "b"
   ]
  },
  {
   "cell_type": "code",
   "execution_count": 28,
   "metadata": {
    "collapsed": true
   },
   "outputs": [],
   "source": [
    "b.load_df(income_data)"
   ]
  },
  {
   "cell_type": "code",
   "execution_count": 30,
   "metadata": {},
   "outputs": [
    {
     "data": {
      "text/plain": [
       "u'{\"index\": [0, 1, 2, 3, 4], \"data\": [[\"04000US01\", \"Alabama\", 37150, 37952, 42212, 44476, 39980, 40933, 42590, 43464, 41381], [\"04000US02\", \"Alaska\", 55891, 56418, 62993, 63989, 61604, 57848, 57431, 63648, 61137], [\"04000US04\", \"Arizona\", 45245, 46657, 47215, 46914, 45739, 46896, 48621, 47044, 50602], [\"04000US05\", \"Arkansas\", 36658, 37057, 40795, 39586, 36538, 38587, 41302, 39018, 39919], [\"04000US06\", \"California\", 51755, 55319, 55734, 57014, 56134, 54283, 53367, 57020, 57528]], \"columns\": [\"GEOID\", \"State\", \"2005\", \"2006\", \"2007\", \"2008\", \"2009\", \"2010\", \"2011\", \"2012\", \"2013\"]}'"
      ]
     },
     "execution_count": 30,
     "metadata": {},
     "output_type": "execute_result"
    }
   ],
   "source": [
    "b._model_data"
   ]
  },
  {
   "cell_type": "code",
   "execution_count": 31,
   "metadata": {},
   "outputs": [
    {
     "name": "stdout",
     "output_type": "stream",
     "text": [
      "widget initialized\n"
     ]
    }
   ],
   "source": [
    "bob = HandsOnTableDataFrame(income_data)"
   ]
  },
  {
   "cell_type": "code",
   "execution_count": 32,
   "metadata": {},
   "outputs": [
    {
     "data": {
      "application/vnd.jupyter.widget-view+json": {
       "model_id": "d5eb2b3ed70f42eb90d0dbd93b48e010",
       "version_major": 2,
       "version_minor": 0
      },
      "text/plain": [
       "A Jupyter Widget"
      ]
     },
     "metadata": {},
     "output_type": "display_data"
    }
   ],
   "source": [
    "bob.show()"
   ]
  },
  {
   "cell_type": "code",
   "execution_count": 33,
   "metadata": {},
   "outputs": [
    {
     "data": {
      "text/html": [
       "<div>\n",
       "<style>\n",
       "    .dataframe thead tr:only-child th {\n",
       "        text-align: right;\n",
       "    }\n",
       "\n",
       "    .dataframe thead th {\n",
       "        text-align: left;\n",
       "    }\n",
       "\n",
       "    .dataframe tbody tr th {\n",
       "        vertical-align: top;\n",
       "    }\n",
       "</style>\n",
       "<table border=\"1\" class=\"dataframe\">\n",
       "  <thead>\n",
       "    <tr style=\"text-align: right;\">\n",
       "      <th></th>\n",
       "      <th>GEOID</th>\n",
       "      <th>State</th>\n",
       "      <th>2005</th>\n",
       "      <th>2006</th>\n",
       "      <th>2007</th>\n",
       "      <th>2008</th>\n",
       "      <th>2009</th>\n",
       "      <th>2010</th>\n",
       "      <th>2011</th>\n",
       "      <th>2012</th>\n",
       "      <th>2013</th>\n",
       "    </tr>\n",
       "  </thead>\n",
       "  <tbody>\n",
       "    <tr>\n",
       "      <th>0</th>\n",
       "      <td>04000US01</td>\n",
       "      <td>Alabama</td>\n",
       "      <td>37150</td>\n",
       "      <td>37952</td>\n",
       "      <td>42212</td>\n",
       "      <td>44476</td>\n",
       "      <td>39980</td>\n",
       "      <td>40933</td>\n",
       "      <td>42590</td>\n",
       "      <td>43464</td>\n",
       "      <td>41381</td>\n",
       "    </tr>\n",
       "    <tr>\n",
       "      <th>1</th>\n",
       "      <td>04000US02</td>\n",
       "      <td>Alaska</td>\n",
       "      <td>55891</td>\n",
       "      <td>56418</td>\n",
       "      <td>62993</td>\n",
       "      <td>63989</td>\n",
       "      <td>61604</td>\n",
       "      <td>57848</td>\n",
       "      <td>57431</td>\n",
       "      <td>63648</td>\n",
       "      <td>61137</td>\n",
       "    </tr>\n",
       "    <tr>\n",
       "      <th>2</th>\n",
       "      <td>04000US04</td>\n",
       "      <td>Arizona</td>\n",
       "      <td>45245</td>\n",
       "      <td>46657</td>\n",
       "      <td>47215</td>\n",
       "      <td>46914</td>\n",
       "      <td>45739</td>\n",
       "      <td>46896</td>\n",
       "      <td>48621</td>\n",
       "      <td>47044</td>\n",
       "      <td>50602</td>\n",
       "    </tr>\n",
       "    <tr>\n",
       "      <th>3</th>\n",
       "      <td>04000US05</td>\n",
       "      <td>Arkansas</td>\n",
       "      <td>36658</td>\n",
       "      <td>37057</td>\n",
       "      <td>40795</td>\n",
       "      <td>39586</td>\n",
       "      <td>36538</td>\n",
       "      <td>38587</td>\n",
       "      <td>41302</td>\n",
       "      <td>39018</td>\n",
       "      <td>39919</td>\n",
       "    </tr>\n",
       "    <tr>\n",
       "      <th>4</th>\n",
       "      <td>04000US06</td>\n",
       "      <td>California</td>\n",
       "      <td>51755</td>\n",
       "      <td>55319</td>\n",
       "      <td>55734</td>\n",
       "      <td>57014</td>\n",
       "      <td>56134</td>\n",
       "      <td>54283</td>\n",
       "      <td>53367</td>\n",
       "      <td>57020</td>\n",
       "      <td>57528</td>\n",
       "    </tr>\n",
       "  </tbody>\n",
       "</table>\n",
       "</div>"
      ],
      "text/plain": [
       "       GEOID       State   2005   2006   2007   2008   2009   2010   2011  \\\n",
       "0  04000US01     Alabama  37150  37952  42212  44476  39980  40933  42590   \n",
       "1  04000US02      Alaska  55891  56418  62993  63989  61604  57848  57431   \n",
       "2  04000US04     Arizona  45245  46657  47215  46914  45739  46896  48621   \n",
       "3  04000US05    Arkansas  36658  37057  40795  39586  36538  38587  41302   \n",
       "4  04000US06  California  51755  55319  55734  57014  56134  54283  53367   \n",
       "\n",
       "    2012   2013  \n",
       "0  43464  41381  \n",
       "1  63648  61137  \n",
       "2  47044  50602  \n",
       "3  39018  39919  \n",
       "4  57020  57528  "
      ]
     },
     "execution_count": 33,
     "metadata": {},
     "output_type": "execute_result"
    }
   ],
   "source": [
    "bob.to_dataframe()"
   ]
  },
  {
   "cell_type": "code",
   "execution_count": null,
   "metadata": {
    "collapsed": true
   },
   "outputs": [],
   "source": []
  },
  {
   "cell_type": "code",
   "execution_count": 34,
   "metadata": {},
   "outputs": [
    {
     "data": {
      "application/javascript": [
       "require.undef('scisheetwidget');\n",
       "\n",
       "define('scisheetwidget', [\"@jupyter-widgets/base\"], function(widgets) {\n",
       "\n",
       "    var SciSheetView = widgets.DOMWidgetView.extend({\n",
       "        \n",
       "        // Render the view.\n",
       "        render: function(){ \n",
       "            this.$table = $('<textarea />')\n",
       "                .appendTo(this.$el);\n",
       "            this.value_changed()\n",
       "            this.model.on('change:_model_data', this.value_changed, this);\n",
       "        },\n",
       "\n",
       "        value_changed: function() {\n",
       "//             this.$el.html(\"<textarea>\" + this.model.get('_model_data') + \"</textarea><br />\")\n",
       "            console.log(this.model.get('_model_data'));\n",
       "//             this.$table.context = this.model.get('_model_data')\n",
       "            $(this.$table).val(this.model.get('_model_data'));\n",
       "            console.log($(this.$table).val());\n",
       "        },\n",
       "        \n",
       "    });\n",
       "        \n",
       "\n",
       "    return {\n",
       "        SciSheetView: SciSheetView\n",
       "    };\n",
       "});"
      ],
      "text/plain": [
       "<IPython.core.display.Javascript object>"
      ]
     },
     "metadata": {},
     "output_type": "display_data"
    }
   ],
   "source": [
    "%%javascript\n",
    "require.undef('scisheetwidget');\n",
    "\n",
    "define('scisheetwidget', [\"@jupyter-widgets/base\"], function(widgets) {\n",
    "\n",
    "    var SciSheetView = widgets.DOMWidgetView.extend({\n",
    "        \n",
    "        // Render the view.\n",
    "        render: function(){ \n",
    "            this.$table = $('<textarea />')\n",
    "                .appendTo(this.$el);\n",
    "            this.value_changed()\n",
    "            this.model.on('change:_model_data', this.value_changed, this);\n",
    "        },\n",
    "\n",
    "        value_changed: function() {\n",
    "//             this.$el.html(\"<textarea>\" + this.model.get('_model_data') + \"</textarea><br />\")\n",
    "            console.log(this.model.get('_model_data'));\n",
    "//             this.$table.context = this.model.get('_model_data')\n",
    "            $(this.$table).val(this.model.get('_model_data'));\n",
    "            console.log($(this.$table).val());\n",
    "        },\n",
    "        \n",
    "    });\n",
    "        \n",
    "\n",
    "    return {\n",
    "        SciSheetView: SciSheetView\n",
    "    };\n",
    "});"
   ]
  },
  {
   "cell_type": "code",
   "execution_count": 35,
   "metadata": {},
   "outputs": [
    {
     "data": {
      "application/vnd.jupyter.widget-view+json": {
       "model_id": "67961aedb8ca47b794cc0978b2e0a48e",
       "version_major": 2,
       "version_minor": 0
      },
      "text/plain": [
       "A Jupyter Widget"
      ]
     },
     "metadata": {},
     "output_type": "display_data"
    }
   ],
   "source": [
    "bob2 = SciSheetWidget()\n",
    "bob2"
   ]
  },
  {
   "cell_type": "code",
   "execution_count": 36,
   "metadata": {
    "collapsed": true
   },
   "outputs": [],
   "source": [
    "bob2.load_df(income_data)"
   ]
  },
  {
   "cell_type": "code",
   "execution_count": 37,
   "metadata": {},
   "outputs": [
    {
     "data": {
      "text/plain": [
       "u'{\"index\": [0, 1, 2, 3, 4], \"data\": [[\"04000US01\", \"Alabama\", 37150, 37952, 42212, 44476, 39980, 40933, 42590, 43464, 41381], [\"04000US02\", \"Alaska\", 55891, 56418, 62993, 63989, 61604, 57848, 57431, 63648, 61137], [\"04000US04\", \"Arizona\", 45245, 46657, 47215, 46914, 45739, 46896, 48621, 47044, 50602], [\"04000US05\", \"Arkansas\", 36658, 37057, 40795, 39586, 36538, 38587, 41302, 39018, 39919], [\"04000US06\", \"California\", 51755, 55319, 55734, 57014, 56134, 54283, 53367, 57020, 57528]], \"columns\": [\"GEOID\", \"State\", \"2005\", \"2006\", \"2007\", \"2008\", \"2009\", \"2010\", \"2011\", \"2012\", \"2013\"]}'"
      ]
     },
     "execution_count": 37,
     "metadata": {},
     "output_type": "execute_result"
    }
   ],
   "source": [
    "bob2._model_data"
   ]
  },
  {
   "cell_type": "code",
   "execution_count": 38,
   "metadata": {},
   "outputs": [
    {
     "name": "stdout",
     "output_type": "stream",
     "text": [
      "widget initialized\n"
     ]
    }
   ],
   "source": [
    "bob = HandsOnTableDataFrame(income_data)"
   ]
  },
  {
   "cell_type": "code",
   "execution_count": 39,
   "metadata": {},
   "outputs": [
    {
     "data": {
      "application/vnd.jupyter.widget-view+json": {
       "model_id": "1e06f875d8264303bc5128996c15b45e",
       "version_major": 2,
       "version_minor": 0
      },
      "text/plain": [
       "A Jupyter Widget"
      ]
     },
     "metadata": {},
     "output_type": "display_data"
    }
   ],
   "source": [
    "bob.show()"
   ]
  },
  {
   "cell_type": "code",
   "execution_count": 40,
   "metadata": {},
   "outputs": [
    {
     "data": {
      "text/html": [
       "<div>\n",
       "<style>\n",
       "    .dataframe thead tr:only-child th {\n",
       "        text-align: right;\n",
       "    }\n",
       "\n",
       "    .dataframe thead th {\n",
       "        text-align: left;\n",
       "    }\n",
       "\n",
       "    .dataframe tbody tr th {\n",
       "        vertical-align: top;\n",
       "    }\n",
       "</style>\n",
       "<table border=\"1\" class=\"dataframe\">\n",
       "  <thead>\n",
       "    <tr style=\"text-align: right;\">\n",
       "      <th></th>\n",
       "      <th>GEOID</th>\n",
       "      <th>State</th>\n",
       "      <th>2005</th>\n",
       "      <th>2006</th>\n",
       "      <th>2007</th>\n",
       "      <th>2008</th>\n",
       "      <th>2009</th>\n",
       "      <th>2010</th>\n",
       "      <th>2011</th>\n",
       "      <th>2012</th>\n",
       "      <th>2013</th>\n",
       "    </tr>\n",
       "  </thead>\n",
       "  <tbody>\n",
       "    <tr>\n",
       "      <th>0</th>\n",
       "      <td>04000US01</td>\n",
       "      <td>Alabama</td>\n",
       "      <td>37150</td>\n",
       "      <td>37952</td>\n",
       "      <td>42212</td>\n",
       "      <td>44476</td>\n",
       "      <td>39980</td>\n",
       "      <td>40933</td>\n",
       "      <td>42590</td>\n",
       "      <td>43464</td>\n",
       "      <td>41381</td>\n",
       "    </tr>\n",
       "    <tr>\n",
       "      <th>1</th>\n",
       "      <td>04000US02</td>\n",
       "      <td>Alaska</td>\n",
       "      <td>55891</td>\n",
       "      <td>56418</td>\n",
       "      <td>62993</td>\n",
       "      <td>63989</td>\n",
       "      <td>61604</td>\n",
       "      <td>57848</td>\n",
       "      <td>57431</td>\n",
       "      <td>63648</td>\n",
       "      <td>61137</td>\n",
       "    </tr>\n",
       "    <tr>\n",
       "      <th>2</th>\n",
       "      <td>04000US04</td>\n",
       "      <td>Arizona</td>\n",
       "      <td>45245</td>\n",
       "      <td>46657</td>\n",
       "      <td>47215</td>\n",
       "      <td>46914</td>\n",
       "      <td>45739</td>\n",
       "      <td>46896</td>\n",
       "      <td>48621</td>\n",
       "      <td>47044</td>\n",
       "      <td>50602</td>\n",
       "    </tr>\n",
       "    <tr>\n",
       "      <th>3</th>\n",
       "      <td>04000US05</td>\n",
       "      <td>Arkansas</td>\n",
       "      <td>36658</td>\n",
       "      <td>37057</td>\n",
       "      <td>40795</td>\n",
       "      <td>39586</td>\n",
       "      <td>36538</td>\n",
       "      <td>38587</td>\n",
       "      <td>41302</td>\n",
       "      <td>39018</td>\n",
       "      <td>39919</td>\n",
       "    </tr>\n",
       "    <tr>\n",
       "      <th>4</th>\n",
       "      <td>04000US06</td>\n",
       "      <td>California</td>\n",
       "      <td>51755</td>\n",
       "      <td>55319</td>\n",
       "      <td>55734</td>\n",
       "      <td>57014</td>\n",
       "      <td>56134</td>\n",
       "      <td>54283</td>\n",
       "      <td>53367</td>\n",
       "      <td>57020</td>\n",
       "      <td>57528</td>\n",
       "    </tr>\n",
       "  </tbody>\n",
       "</table>\n",
       "</div>"
      ],
      "text/plain": [
       "       GEOID       State   2005   2006   2007   2008   2009   2010   2011  \\\n",
       "0  04000US01     Alabama  37150  37952  42212  44476  39980  40933  42590   \n",
       "1  04000US02      Alaska  55891  56418  62993  63989  61604  57848  57431   \n",
       "2  04000US04     Arizona  45245  46657  47215  46914  45739  46896  48621   \n",
       "3  04000US05    Arkansas  36658  37057  40795  39586  36538  38587  41302   \n",
       "4  04000US06  California  51755  55319  55734  57014  56134  54283  53367   \n",
       "\n",
       "    2012   2013  \n",
       "0  43464  41381  \n",
       "1  63648  61137  \n",
       "2  47044  50602  \n",
       "3  39018  39919  \n",
       "4  57020  57528  "
      ]
     },
     "execution_count": 40,
     "metadata": {},
     "output_type": "execute_result"
    }
   ],
   "source": [
    "bob.to_dataframe()"
   ]
  },
  {
   "cell_type": "code",
   "execution_count": 41,
   "metadata": {},
   "outputs": [
    {
     "data": {
      "application/javascript": [
       "\n",
       "require.undef('scisheetwidget');\n",
       "\n",
       "define('scisheetwidget', [\"@jupyter-widgets/base\"], function(widgets) {\n",
       "    // Custom View. Renders the widget model.\n",
       "    var SciSheetView = widgets.DOMWidgetView.extend({\n",
       "        render: function(){\n",
       "            // CREATION OF THE WIDGET IN THE NOTEBOOK.\n",
       "\n",
       "            this.$table = $('<textarea />')\n",
       "                .appendTo(this.$el);\n",
       "    //         this.value_changed()\n",
       "    //         this.model.on('change:_model_data', this.value_changed, this);\n",
       "            var json = this.model.get('_model_data');\n",
       "//             var datamod = JSON.parse(json);\n",
       "//             console.log(datamod)\n",
       "            $(this.$table).val(json);\n",
       "        },  \n",
       "\n",
       "        update: function() {\n",
       "            // PYTHON --> JS UPDATE.\n",
       "\n",
       "            // Get the model's value (JSON)\n",
       "            var json_model = this.model.get('_model_data')\n",
       "//             var datamod = JSON.parse(json_model);\n",
       "//             $(this.$table).val(datamod);\n",
       "            $(this.$table).val(json_model);\n",
       "\n",
       "            // Don't touch this...\n",
       "            return SciSheetView.__super__.update.apply(this);\n",
       "        },\n",
       "\n",
       "        // Tell Backbone to listen to the change event of input controls.\n",
       "\n",
       "        events: {\"change\": \"handle_text_box_change\"},\n",
       "\n",
       "        handle_text_box_change: function(event) {\n",
       "            // JS --> PYTHON UPDATE.\n",
       "\n",
       "//             var json_vals = JSON.stringify($(this.$table).val());\n",
       "            var json_vals = $(this.$table).val();\n",
       "            this.model.set('_model_data', json_vals);\n",
       "\n",
       "            // Don't touch this...\n",
       "            this.touch();\n",
       "        },\n",
       "\n",
       "    });\n",
       "\n",
       "    return {\n",
       "        SciSheetView: SciSheetView\n",
       "    };\n",
       "});"
      ],
      "text/plain": [
       "<IPython.core.display.Javascript object>"
      ]
     },
     "metadata": {},
     "output_type": "display_data"
    }
   ],
   "source": [
    "%%javascript\n",
    "\n",
    "require.undef('scisheetwidget');\n",
    "\n",
    "define('scisheetwidget', [\"@jupyter-widgets/base\"], function(widgets) {\n",
    "    // Custom View. Renders the widget model.\n",
    "    var SciSheetView = widgets.DOMWidgetView.extend({\n",
    "        render: function(){\n",
    "            // CREATION OF THE WIDGET IN THE NOTEBOOK.\n",
    "\n",
    "            this.$table = $('<textarea />')\n",
    "                .appendTo(this.$el);\n",
    "    //         this.value_changed()\n",
    "    //         this.model.on('change:_model_data', this.value_changed, this);\n",
    "            var json = this.model.get('_model_data');\n",
    "//             var datamod = JSON.parse(json);\n",
    "//             console.log(datamod)\n",
    "            $(this.$table).val(json);\n",
    "        },  \n",
    "\n",
    "        update: function() {\n",
    "            // PYTHON --> JS UPDATE.\n",
    "\n",
    "            // Get the model's value (JSON)\n",
    "            var json_model = this.model.get('_model_data')\n",
    "//             var datamod = JSON.parse(json_model);\n",
    "//             $(this.$table).val(datamod);\n",
    "            $(this.$table).val(json_model);\n",
    "\n",
    "            // Don't touch this...\n",
    "            return SciSheetView.__super__.update.apply(this);\n",
    "        },\n",
    "\n",
    "        // Tell Backbone to listen to the change event of input controls.\n",
    "\n",
    "        events: {\"change\": \"handle_text_box_change\"},\n",
    "\n",
    "        handle_text_box_change: function(event) {\n",
    "            // JS --> PYTHON UPDATE.\n",
    "\n",
    "//             var json_vals = JSON.stringify($(this.$table).val());\n",
    "            var json_vals = $(this.$table).val();\n",
    "            this.model.set('_model_data', json_vals);\n",
    "\n",
    "            // Don't touch this...\n",
    "            this.touch();\n",
    "        },\n",
    "\n",
    "    });\n",
    "\n",
    "    return {\n",
    "        SciSheetView: SciSheetView\n",
    "    };\n",
    "});\n"
   ]
  },
  {
   "cell_type": "code",
   "execution_count": 69,
   "metadata": {
    "scrolled": true
   },
   "outputs": [
    {
     "data": {
      "application/vnd.jupyter.widget-view+json": {
       "model_id": "b4589cb19649464db8df2596925aa9ca",
       "version_major": 2,
       "version_minor": 0
      },
      "text/plain": [
       "A Jupyter Widget"
      ]
     },
     "metadata": {},
     "output_type": "display_data"
    }
   ],
   "source": [
    "bob = SciSheetWidget()\n",
    "bob"
   ]
  },
  {
   "cell_type": "code",
   "execution_count": 70,
   "metadata": {
    "collapsed": true
   },
   "outputs": [],
   "source": [
    "bob.load_df(income_data)"
   ]
  },
  {
   "cell_type": "code",
   "execution_count": 71,
   "metadata": {},
   "outputs": [
    {
     "data": {
      "text/plain": [
       "u'{\"index\": [0, 1, 2, 3, 4], \"data\": [[\"04000US01\", \"AlabamaRAMAAAA\", 37150, 37952, 42212, 44476, 39980, 40933, 42590, 43464, 41381], [\"04000US02\", \"Alaska\", 55891, 56418, 62993, 63989, 61604, 57848, 57431, 63648, 61137], [\"04000US04\", \"Arizona\", 45245, 46657, 47215, 46914, 45739, 46896, 48621, 47044, 50602], [\"04000US05\", \"Arkansas\", 36658, 37057, 40795, 39586, 36538, 38587, 41302, 39018, 39919], [\"04000US06\", \"California\", 51755, 55319, 55734, 57014, 56134, 54283, 53367, 57020, 57528]], \"columns\": [\"GEOID\", \"State\", \"2005\", \"2006\", \"2007\", \"2008\", \"2009\", \"2010\", \"2011\", \"2012\", \"2013\"]}'"
      ]
     },
     "execution_count": 71,
     "metadata": {},
     "output_type": "execute_result"
    }
   ],
   "source": [
    "bob._model_data"
   ]
  },
  {
   "cell_type": "code",
   "execution_count": 77,
   "metadata": {
    "scrolled": false
   },
   "outputs": [
    {
     "data": {
      "application/vnd.jupyter.widget-view+json": {
       "model_id": "620b78cfd17448839928d8ca0d2217bf",
       "version_major": 2,
       "version_minor": 0
      },
      "text/plain": [
       "A Jupyter Widget"
      ]
     },
     "metadata": {},
     "output_type": "display_data"
    },
    {
     "name": "stdout",
     "output_type": "stream",
     "text": [
      "data is being changed\n",
      "data is being changed\n"
     ]
    }
   ],
   "source": [
    "bob = HandsOnTableDataFrame(income_data)\n",
    "bob.show()"
   ]
  },
  {
   "cell_type": "code",
   "execution_count": 80,
   "metadata": {},
   "outputs": [
    {
     "data": {
      "text/plain": [
       "u'{\"index\": [0, 1, 2, 3, 4], \"data\": [[\"04000US01\", \"AlabamaRAMAAAA\", 37150, 37952, 42212, 44476, 39980, 40933, 42590, 43464, 41381], [\"04000US02\", \"Alaska\", 55891, 56418, 62993, 63989, 61604, 57848, 57431, 63648, 61137], [\"04000US04\", \"Arizona\", 45245, 46657, 47215, 46914, 45739, 46896, 48621, 47044, 50602], [\"04000US05\", \"Arkansas\", 36658, 37057, 40795, 39586, 36538, 38587, 41302, 39018, 39919], [\"04000US06\", \"CaliforniaISGOLDEN\", 51755, 55319, 55734, 57014, 56134, 54283, 53367, 57020, 57528]], \"columns\": [\"GEOID\", \"State\", \"2005\", \"2006\", \"2007\", \"2008\", \"2009\", \"2010\", \"2011\", \"2012\", \"2013\"]}'"
      ]
     },
     "execution_count": 80,
     "metadata": {},
     "output_type": "execute_result"
    }
   ],
   "source": [
    "bob._widget._model_data"
   ]
  },
  {
   "cell_type": "code",
   "execution_count": 81,
   "metadata": {},
   "outputs": [
    {
     "data": {
      "text/html": [
       "<div>\n",
       "<style>\n",
       "    .dataframe thead tr:only-child th {\n",
       "        text-align: right;\n",
       "    }\n",
       "\n",
       "    .dataframe thead th {\n",
       "        text-align: left;\n",
       "    }\n",
       "\n",
       "    .dataframe tbody tr th {\n",
       "        vertical-align: top;\n",
       "    }\n",
       "</style>\n",
       "<table border=\"1\" class=\"dataframe\">\n",
       "  <thead>\n",
       "    <tr style=\"text-align: right;\">\n",
       "      <th></th>\n",
       "      <th>GEOID</th>\n",
       "      <th>State</th>\n",
       "      <th>2005</th>\n",
       "      <th>2006</th>\n",
       "      <th>2007</th>\n",
       "      <th>2008</th>\n",
       "      <th>2009</th>\n",
       "      <th>2010</th>\n",
       "      <th>2011</th>\n",
       "      <th>2012</th>\n",
       "      <th>2013</th>\n",
       "    </tr>\n",
       "  </thead>\n",
       "  <tbody>\n",
       "    <tr>\n",
       "      <th>0</th>\n",
       "      <td>04000US01</td>\n",
       "      <td>AlabamaRAMAAAA</td>\n",
       "      <td>37150</td>\n",
       "      <td>37952</td>\n",
       "      <td>42212</td>\n",
       "      <td>44476</td>\n",
       "      <td>39980</td>\n",
       "      <td>40933</td>\n",
       "      <td>42590</td>\n",
       "      <td>43464</td>\n",
       "      <td>41381</td>\n",
       "    </tr>\n",
       "    <tr>\n",
       "      <th>1</th>\n",
       "      <td>04000US02</td>\n",
       "      <td>Alaska</td>\n",
       "      <td>55891</td>\n",
       "      <td>56418</td>\n",
       "      <td>62993</td>\n",
       "      <td>63989</td>\n",
       "      <td>61604</td>\n",
       "      <td>57848</td>\n",
       "      <td>57431</td>\n",
       "      <td>63648</td>\n",
       "      <td>61137</td>\n",
       "    </tr>\n",
       "    <tr>\n",
       "      <th>2</th>\n",
       "      <td>04000US04</td>\n",
       "      <td>Arizona</td>\n",
       "      <td>45245</td>\n",
       "      <td>46657</td>\n",
       "      <td>47215</td>\n",
       "      <td>46914</td>\n",
       "      <td>45739</td>\n",
       "      <td>46896</td>\n",
       "      <td>48621</td>\n",
       "      <td>47044</td>\n",
       "      <td>50602</td>\n",
       "    </tr>\n",
       "    <tr>\n",
       "      <th>3</th>\n",
       "      <td>04000US05</td>\n",
       "      <td>Arkansas</td>\n",
       "      <td>36658</td>\n",
       "      <td>37057</td>\n",
       "      <td>40795</td>\n",
       "      <td>39586</td>\n",
       "      <td>36538</td>\n",
       "      <td>38587</td>\n",
       "      <td>41302</td>\n",
       "      <td>39018</td>\n",
       "      <td>39919</td>\n",
       "    </tr>\n",
       "    <tr>\n",
       "      <th>4</th>\n",
       "      <td>04000US06</td>\n",
       "      <td>CaliforniaISGOLDEN</td>\n",
       "      <td>51755</td>\n",
       "      <td>55319</td>\n",
       "      <td>55734</td>\n",
       "      <td>57014</td>\n",
       "      <td>56134</td>\n",
       "      <td>54283</td>\n",
       "      <td>53367</td>\n",
       "      <td>57020</td>\n",
       "      <td>57528</td>\n",
       "    </tr>\n",
       "  </tbody>\n",
       "</table>\n",
       "</div>"
      ],
      "text/plain": [
       "       GEOID               State   2005   2006   2007   2008   2009   2010  \\\n",
       "0  04000US01      AlabamaRAMAAAA  37150  37952  42212  44476  39980  40933   \n",
       "1  04000US02              Alaska  55891  56418  62993  63989  61604  57848   \n",
       "2  04000US04             Arizona  45245  46657  47215  46914  45739  46896   \n",
       "3  04000US05            Arkansas  36658  37057  40795  39586  36538  38587   \n",
       "4  04000US06  CaliforniaISGOLDEN  51755  55319  55734  57014  56134  54283   \n",
       "\n",
       "    2011   2012   2013  \n",
       "0  42590  43464  41381  \n",
       "1  57431  63648  61137  \n",
       "2  48621  47044  50602  \n",
       "3  41302  39018  39919  \n",
       "4  53367  57020  57528  "
      ]
     },
     "execution_count": 81,
     "metadata": {},
     "output_type": "execute_result"
    }
   ],
   "source": [
    "bob._df"
   ]
  },
  {
   "cell_type": "code",
   "execution_count": null,
   "metadata": {
    "collapsed": true
   },
   "outputs": [],
   "source": []
  },
  {
   "cell_type": "code",
   "execution_count": null,
   "metadata": {
    "collapsed": true
   },
   "outputs": [],
   "source": []
  },
  {
   "cell_type": "code",
   "execution_count": null,
   "metadata": {
    "collapsed": true
   },
   "outputs": [],
   "source": []
  },
  {
   "cell_type": "code",
   "execution_count": null,
   "metadata": {
    "collapsed": true
   },
   "outputs": [],
   "source": []
  },
  {
   "cell_type": "code",
   "execution_count": 52,
   "metadata": {},
   "outputs": [
    {
     "data": {
      "application/javascript": [
       "\n",
       "require.undef('scisheetwidget');\n",
       "\n",
       "define('scisheetwidget', [\"@jupyter-widgets/base\"], function(widgets) {\n",
       "    // Custom View. Renders the widget model.\n",
       "    var SciSheetView = widgets.DOMWidgetView.extend({\n",
       "        render: function(){\n",
       "            // CREATION OF THE WIDGET IN THE NOTEBOOK.\n",
       "\n",
       "            this.$table = $('<textarea />')\n",
       "                .appendTo(this.$el);\n",
       "    //         this.value_changed()\n",
       "    //         this.model.on('change:_model_data', this.value_changed, this);\n",
       "            var json = this.model.get('_model_data');\n",
       "//             var datamod = JSON.parse(json);\n",
       "//             console.log(datamod)\n",
       "            $(this.$table).val(json);\n",
       "        },  \n",
       "\n",
       "        update: function() {\n",
       "            // PYTHON --> JS UPDATE.\n",
       "\n",
       "            // Get the model's value (JSON)\n",
       "            var json_model = this.model.get('_model_data')\n",
       "//             var datamod = JSON.parse(json_model);\n",
       "//             $(this.$table).val(datamod);\n",
       "            $(this.$table).val(json_model);\n",
       "\n",
       "            // Don't touch this...\n",
       "            return SciSheetView.__super__.update.apply(this);\n",
       "        },\n",
       "\n",
       "        // Tell Backbone to listen to the change event of input controls.\n",
       "\n",
       "        events: {\"change\": \"handle_text_box_change\"},\n",
       "\n",
       "        handle_text_box_change: function(event) {\n",
       "            // JS --> PYTHON UPDATE.\n",
       "\n",
       "//             var json_vals = JSON.stringify($(this.$table).val());\n",
       "            var json_vals = $(this.$table).val();\n",
       "            this.model.set('_model_data', json_vals);\n",
       "\n",
       "            // Don't touch this...\n",
       "            this.touch();\n",
       "        },\n",
       "\n",
       "    });\n",
       "\n",
       "    return {\n",
       "        SciSheetView: SciSheetView\n",
       "    };\n",
       "});"
      ],
      "text/plain": [
       "<IPython.core.display.Javascript object>"
      ]
     },
     "metadata": {},
     "output_type": "display_data"
    }
   ],
   "source": [
    "%%javascript\n",
    "\n",
    "require.undef('scisheetwidget');\n",
    "\n",
    "define('scisheetwidget', [\"@jupyter-widgets/base\"], function(widgets) {\n",
    "    // Custom View. Renders the widget model.\n",
    "    var SciSheetView = widgets.DOMWidgetView.extend({\n",
    "        render: function(){\n",
    "            // CREATION OF THE WIDGET IN THE NOTEBOOK.\n",
    "\n",
    "            this.$table = $('<textarea />')\n",
    "                .appendTo(this.$el);\n",
    "    //         this.value_changed()\n",
    "    //         this.model.on('change:_model_data', this.value_changed, this);\n",
    "            var json = this.model.get('_model_data');\n",
    "//             var datamod = JSON.parse(json);\n",
    "//             console.log(datamod)\n",
    "            $(this.$table).val(json);\n",
    "        },  \n",
    "\n",
    "        update: function() {\n",
    "            // PYTHON --> JS UPDATE.\n",
    "\n",
    "            // Get the model's value (JSON)\n",
    "            var json_model = this.model.get('_model_data')\n",
    "//             var datamod = JSON.parse(json_model);\n",
    "//             $(this.$table).val(datamod);\n",
    "            $(this.$table).val(json_model);\n",
    "\n",
    "            // Don't touch this...\n",
    "            return SciSheetView.__super__.update.apply(this);\n",
    "        },\n",
    "\n",
    "        // Tell Backbone to listen to the change event of input controls.\n",
    "\n",
    "        events: {\"change\": \"handle_text_box_change\"},\n",
    "\n",
    "        handle_text_box_change: function(event) {\n",
    "            // JS --> PYTHON UPDATE.\n",
    "\n",
    "//             var json_vals = JSON.stringify($(this.$table).val());\n",
    "            var json_vals = $(this.$table).val();\n",
    "            this.model.set('_model_data', json_vals);\n",
    "\n",
    "            // Don't touch this...\n",
    "            this.touch();\n",
    "        },\n",
    "\n",
    "    });\n",
    "\n",
    "    return {\n",
    "        SciSheetView: SciSheetView\n",
    "    };\n",
    "});"
   ]
  },
  {
   "cell_type": "code",
   "execution_count": 93,
   "metadata": {
    "collapsed": true
   },
   "outputs": [],
   "source": [
    "class HandsOnTableDataFrame(object):\n",
    "    def __init__(self, df):\n",
    "        self._df = df\n",
    "        self._widget = SciSheetWidget()\n",
    "        self._on_displayed(self)\n",
    "        self._widget.observe(self._on_data_changed, '_model_data')\n",
    "#         self._widget.unobserve(self._on_displayed)\n",
    "#         print('widget initialized')\n",
    "\n",
    "    def _on_displayed(self, e):\n",
    "        if type(self._df) == pd.core.frame.DataFrame:\n",
    "            print('on displayed')\n",
    "            model_data = self._df.to_json(orient='split')\n",
    "            model_data = ast.literal_eval(model_data)\n",
    "            self._widget._model_data = json.dumps(model_data)\n",
    "            #self._widget._model_data = json.dumps(model_data['data'])\n",
    "            #self._widget._model_header = json.dumps(model_data['columns'])\n",
    "            #self._widget._model_row_header = json.dumps(model_data['index'])\n",
    "        else:\n",
    "            print('Please enter a pandas dataframe')\n",
    "\n",
    "    def _on_data_changed(self, e):\n",
    "        # Widget ==> DataFrame (called every time the user\n",
    "        # changes a value in the graphical widget)\n",
    "#         print('data is being changed')\n",
    "        data_dic = {}\n",
    "        #data_dic['columns'] = ast.literal_eval(self._widget._model_header)\n",
    "        #data_dic['index'] = ast.literal_eval(self._widget._model_row_header)\n",
    "        #data_dic['data'] = ast_literal_eval(self._widget._model_data)\n",
    "        data_dic = ast.literal_eval(self._widget._model_data)\n",
    "        self._df = pd.read_json(json.dumps(data_dic), orient='split')\n",
    "\n",
    "    def to_dataframe(self):\n",
    "        return self._df\n",
    "\n",
    "    def show(self):\n",
    "        display(self._widget)"
   ]
  },
  {
   "cell_type": "code",
   "execution_count": 98,
   "metadata": {
    "scrolled": true
   },
   "outputs": [
    {
     "name": "stdout",
     "output_type": "stream",
     "text": [
      "on displayed\n"
     ]
    },
    {
     "data": {
      "application/vnd.jupyter.widget-view+json": {
       "model_id": "13437b65919742d58d7e35e50e44a680",
       "version_major": 2,
       "version_minor": 0
      },
      "text/plain": [
       "A Jupyter Widget"
      ]
     },
     "metadata": {},
     "output_type": "display_data"
    }
   ],
   "source": [
    "bob = HandsOnTableDataFrame(income_data)\n",
    "bob.show()"
   ]
  },
  {
   "cell_type": "code",
   "execution_count": 99,
   "metadata": {},
   "outputs": [
    {
     "data": {
      "text/html": [
       "<div>\n",
       "<style>\n",
       "    .dataframe thead tr:only-child th {\n",
       "        text-align: right;\n",
       "    }\n",
       "\n",
       "    .dataframe thead th {\n",
       "        text-align: left;\n",
       "    }\n",
       "\n",
       "    .dataframe tbody tr th {\n",
       "        vertical-align: top;\n",
       "    }\n",
       "</style>\n",
       "<table border=\"1\" class=\"dataframe\">\n",
       "  <thead>\n",
       "    <tr style=\"text-align: right;\">\n",
       "      <th></th>\n",
       "      <th>GEOID</th>\n",
       "      <th>State</th>\n",
       "      <th>2005</th>\n",
       "      <th>2006</th>\n",
       "      <th>2007</th>\n",
       "      <th>2008</th>\n",
       "      <th>2009</th>\n",
       "      <th>2010</th>\n",
       "      <th>2011</th>\n",
       "      <th>2012</th>\n",
       "      <th>2013</th>\n",
       "    </tr>\n",
       "  </thead>\n",
       "  <tbody>\n",
       "    <tr>\n",
       "      <th>0</th>\n",
       "      <td>TURN DOWN</td>\n",
       "      <td>Alabama</td>\n",
       "      <td>37150</td>\n",
       "      <td>37952</td>\n",
       "      <td>42212</td>\n",
       "      <td>44476</td>\n",
       "      <td>39980</td>\n",
       "      <td>40933</td>\n",
       "      <td>42590</td>\n",
       "      <td>43464</td>\n",
       "      <td>41381</td>\n",
       "    </tr>\n",
       "    <tr>\n",
       "      <th>1</th>\n",
       "      <td>04000US02</td>\n",
       "      <td>Alaska</td>\n",
       "      <td>55891</td>\n",
       "      <td>56418</td>\n",
       "      <td>62993</td>\n",
       "      <td>63989</td>\n",
       "      <td>61604</td>\n",
       "      <td>57848</td>\n",
       "      <td>57431</td>\n",
       "      <td>63648</td>\n",
       "      <td>61137</td>\n",
       "    </tr>\n",
       "    <tr>\n",
       "      <th>2</th>\n",
       "      <td>04000US04</td>\n",
       "      <td>Arizona</td>\n",
       "      <td>45245</td>\n",
       "      <td>46657</td>\n",
       "      <td>47215</td>\n",
       "      <td>46914</td>\n",
       "      <td>45739</td>\n",
       "      <td>46896</td>\n",
       "      <td>48621</td>\n",
       "      <td>47044</td>\n",
       "      <td>50602</td>\n",
       "    </tr>\n",
       "    <tr>\n",
       "      <th>3</th>\n",
       "      <td>04000US05</td>\n",
       "      <td>Arkansas</td>\n",
       "      <td>36658</td>\n",
       "      <td>37057</td>\n",
       "      <td>40795</td>\n",
       "      <td>39586</td>\n",
       "      <td>36538</td>\n",
       "      <td>38587</td>\n",
       "      <td>41302</td>\n",
       "      <td>39018</td>\n",
       "      <td>39919</td>\n",
       "    </tr>\n",
       "    <tr>\n",
       "      <th>4</th>\n",
       "      <td>04000US06</td>\n",
       "      <td>California</td>\n",
       "      <td>51755</td>\n",
       "      <td>55319</td>\n",
       "      <td>55734</td>\n",
       "      <td>57014</td>\n",
       "      <td>56134</td>\n",
       "      <td>54283</td>\n",
       "      <td>53367</td>\n",
       "      <td>57020</td>\n",
       "      <td>57528</td>\n",
       "    </tr>\n",
       "  </tbody>\n",
       "</table>\n",
       "</div>"
      ],
      "text/plain": [
       "       GEOID       State   2005   2006   2007   2008   2009   2010   2011  \\\n",
       "0  TURN DOWN     Alabama  37150  37952  42212  44476  39980  40933  42590   \n",
       "1  04000US02      Alaska  55891  56418  62993  63989  61604  57848  57431   \n",
       "2  04000US04     Arizona  45245  46657  47215  46914  45739  46896  48621   \n",
       "3  04000US05    Arkansas  36658  37057  40795  39586  36538  38587  41302   \n",
       "4  04000US06  California  51755  55319  55734  57014  56134  54283  53367   \n",
       "\n",
       "    2012   2013  \n",
       "0  43464  41381  \n",
       "1  63648  61137  \n",
       "2  47044  50602  \n",
       "3  39018  39919  \n",
       "4  57020  57528  "
      ]
     },
     "execution_count": 99,
     "metadata": {},
     "output_type": "execute_result"
    }
   ],
   "source": [
    "bob.to_dataframe()"
   ]
  },
  {
   "cell_type": "code",
   "execution_count": null,
   "metadata": {
    "collapsed": true
   },
   "outputs": [],
   "source": []
  },
  {
   "cell_type": "code",
   "execution_count": null,
   "metadata": {
    "collapsed": true
   },
   "outputs": [],
   "source": []
  },
  {
   "cell_type": "markdown",
   "metadata": {},
   "source": [
    "# Final Version"
   ]
  },
  {
   "cell_type": "markdown",
   "metadata": {},
   "source": [
    "- python"
   ]
  },
  {
   "cell_type": "code",
   "execution_count": null,
   "metadata": {
    "collapsed": true
   },
   "outputs": [],
   "source": [
    "import ipywidgets as widgets\n",
    "from traitlets import Unicode, validate\n",
    "\n",
    "\n",
    "class SciSheetWidget(widgets.DOMWidget):\n",
    "    _view_name = Unicode('SciSheetView').tag(sync=True)\n",
    "    _view_module = Unicode('scisheetwidget').tag(sync=True)\n",
    "    _view_module_version = Unicode('0.1.0').tag(sync=True)\n",
    "    _model_data = Unicode('Welcome!').tag(sync=True)\n",
    "    \n",
    "    def load_df(self, df):\n",
    "        if type(df) == pd.core.frame.DataFrame:\n",
    "            model_data = df.to_json(orient='split')\n",
    "            model_data = ast.literal_eval(model_data)\n",
    "            self._model_data = json.dumps(model_data)\n",
    "            #self._model_data = json.dumps(model_data['data'])\n",
    "            #self._model_header = json.dumps(model_data['columns']) \n",
    "            #self._model_row_header = json.dumps(model_data['index']) \n",
    "        else:\n",
    "            print('Please enter a pandas dataframe')"
   ]
  },
  {
   "cell_type": "code",
   "execution_count": null,
   "metadata": {
    "collapsed": true
   },
   "outputs": [],
   "source": [
    "class HandsOnTableDataFrame(object):\n",
    "    def __init__(self, df):\n",
    "        self._df = df\n",
    "        self._widget = SciSheetWidget()\n",
    "        self._on_displayed(self)\n",
    "        self._widget.observe(self._on_data_changed, '_model_data')\n",
    "        self._widget.unobserve(self._on_displayed)\n",
    "\n",
    "\n",
    "    def _on_displayed(self, e):\n",
    "        if type(self._df) == pd.core.frame.DataFrame:\n",
    "            print('on displayed')\n",
    "            model_data = self._df.to_json(orient='split')\n",
    "            model_data = ast.literal_eval(model_data)\n",
    "            self._widget._model_data = json.dumps(model_data)\n",
    "        else:\n",
    "            print('Please enter a pandas dataframe')\n",
    "\n",
    "            \n",
    "    def _on_data_changed(self, e):\n",
    "        # Widget ==> DataFrame (called every time the user\n",
    "        # changes a value in the graphical widget)\n",
    "        data_dic = {}\n",
    "        data_dic = ast.literal_eval(self._widget._model_data)\n",
    "        self._df = pd.read_json(json.dumps(data_dic), orient='split')\n",
    "\n",
    "    def to_dataframe(self):\n",
    "        return self._df\n",
    "\n",
    "    def show(self):\n",
    "        display(self._widget)"
   ]
  },
  {
   "cell_type": "markdown",
   "metadata": {},
   "source": [
    "- javascript"
   ]
  },
  {
   "cell_type": "code",
   "execution_count": null,
   "metadata": {
    "collapsed": true
   },
   "outputs": [],
   "source": [
    "%%javascript\n",
    "\n",
    "require.undef('scisheetwidget');\n",
    "\n",
    "define('scisheetwidget', [\"@jupyter-widgets/base\"], function(widgets) {\n",
    "    // Custom View. Renders the widget model.\n",
    "    var SciSheetView = widgets.DOMWidgetView.extend({\n",
    "        render: function(){\n",
    "            // CREATION OF THE WIDGET IN THE NOTEBOOK.\n",
    "\n",
    "            this.$table = $('<textarea />')\n",
    "                .appendTo(this.$el);\n",
    "            var json = this.model.get('_model_data');\n",
    "            $(this.$table).val(json);\n",
    "        },  \n",
    "\n",
    "        update: function() {\n",
    "            // PYTHON --> JS UPDATE.\n",
    "\n",
    "            // Get the model's value (JSON)\n",
    "            var json_model = this.model.get('_model_data')\n",
    "            $(this.$table).val(json_model);\n",
    "\n",
    "            // Don't touch this...\n",
    "            return SciSheetView.__super__.update.apply(this);\n",
    "        },\n",
    "\n",
    "        // Tell Backbone to listen to the change event of input controls.\n",
    "\n",
    "        events: {\"change\": \"handle_text_box_change\"},\n",
    "\n",
    "        handle_text_box_change: function(event) {\n",
    "            // JS --> PYTHON UPDATE.\n",
    "\n",
    "//             var json_vals = JSON.stringify($(this.$table).val());\n",
    "            var json_vals = $(this.$table).val();\n",
    "            this.model.set('_model_data', json_vals);\n",
    "\n",
    "            // Don't touch this...\n",
    "            this.touch();\n",
    "        },\n",
    "\n",
    "    });\n",
    "\n",
    "    return {\n",
    "        SciSheetView: SciSheetView\n",
    "    };\n",
    "});"
   ]
  }
 ],
 "metadata": {
  "kernelspec": {
   "display_name": "Python [conda env:scisheets_env]",
   "language": "python",
   "name": "conda-env-scisheets_env-py"
  },
  "language_info": {
   "codemirror_mode": {
    "name": "ipython",
    "version": 2
   },
   "file_extension": ".py",
   "mimetype": "text/x-python",
   "name": "python",
   "nbconvert_exporter": "python",
   "pygments_lexer": "ipython2",
   "version": "2.7.13"
  }
 },
 "nbformat": 4,
 "nbformat_minor": 2
}

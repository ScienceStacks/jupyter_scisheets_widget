{
 "cells": [
  {
   "cell_type": "code",
   "execution_count": 5,
   "metadata": {
    "collapsed": true
   },
   "outputs": [],
   "source": [
    "import json\n",
    "\n",
    "import numpy as np\n",
    "import pandas as pd"
   ]
  },
  {
   "cell_type": "code",
   "execution_count": 2,
   "metadata": {
    "collapsed": true
   },
   "outputs": [],
   "source": [
    "from jupyter_scisheets_widget import scisheets_widget"
   ]
  },
  {
   "cell_type": "code",
   "execution_count": 3,
   "metadata": {
    "collapsed": true
   },
   "outputs": [],
   "source": [
    "tbl = scisheets_widget.SciSheetTable()"
   ]
  },
  {
   "cell_type": "code",
   "execution_count": 7,
   "metadata": {},
   "outputs": [
    {
     "data": {
      "text/plain": [
       "'[{\"name\": \"Lisp\", \"value\": 1}, {\"name\": \"Scala\", \"value\": 2}, {\"name\": \"Perl\", \"value\": 4}, {\"name\": \"Java\", \"value\": 5}, {\"name\": \"C++\", \"value\": 8}, {\"name\": \"Python\", \"value\": 10}]'"
      ]
     },
     "execution_count": 7,
     "metadata": {},
     "output_type": "execute_result"
    }
   ],
   "source": [
    "json.dumps(data)"
   ]
  },
  {
   "cell_type": "code",
   "execution_count": 6,
   "metadata": {
    "collapsed": true
   },
   "outputs": [],
   "source": [
    "data = [{\"name\": \"Lisp\", \"value\": 1}, {\"name\": \"Scala\", \"value\": 2}, {\"name\": \"Perl\", \"value\": 4}, {\"name\": \"Java\", \"value\": 5}, {\"name\": \"C++\", \"value\": 8}, {\"name\": \"Python\", \"value\": 10}]\n",
    "\n",
    "tbl.set_data(data)"
   ]
  },
  {
   "cell_type": "code",
   "execution_count": 8,
   "metadata": {},
   "outputs": [
    {
     "data": {
      "application/vnd.jupyter.widget-view+json": {
       "model_id": "fddc51181b0e4f4db0a86c9e658fca3d",
       "version_major": 2,
       "version_minor": 0
      },
      "text/plain": [
       "A Jupyter Widget"
      ]
     },
     "metadata": {},
     "output_type": "display_data"
    }
   ],
   "source": [
    "tbl"
   ]
  },
  {
   "cell_type": "code",
   "execution_count": 15,
   "metadata": {},
   "outputs": [
    {
     "data": {
      "text/plain": [
       "u'[{\"name\": \"Lisp\", \"value\": 1}, {\"name\": \"Scala\", \"value\": 2}, {\"name\": \"Perl\", \"value\": 4}, {\"name\": \"Java\", \"value\": 5}, {\"name\": \"C++\", \"value\": 8}, {\"name\": \"Python\", \"value\": 10}]'"
      ]
     },
     "execution_count": 15,
     "metadata": {},
     "output_type": "execute_result"
    }
   ],
   "source": [
    "tbl._model_data"
   ]
  },
  {
   "cell_type": "code",
   "execution_count": 9,
   "metadata": {},
   "outputs": [
    {
     "data": {
      "text/html": [
       "<div>\n",
       "<style>\n",
       "    .dataframe thead tr:only-child th {\n",
       "        text-align: right;\n",
       "    }\n",
       "\n",
       "    .dataframe thead th {\n",
       "        text-align: left;\n",
       "    }\n",
       "\n",
       "    .dataframe tbody tr th {\n",
       "        vertical-align: top;\n",
       "    }\n",
       "</style>\n",
       "<table border=\"1\" class=\"dataframe\">\n",
       "  <thead>\n",
       "    <tr style=\"text-align: right;\">\n",
       "      <th></th>\n",
       "      <th>0</th>\n",
       "      <th>1</th>\n",
       "      <th>2</th>\n",
       "      <th>3</th>\n",
       "      <th>4</th>\n",
       "    </tr>\n",
       "  </thead>\n",
       "  <tbody>\n",
       "    <tr>\n",
       "      <th>0</th>\n",
       "      <td>307</td>\n",
       "      <td>649</td>\n",
       "      <td>548</td>\n",
       "      <td>264</td>\n",
       "      <td>466</td>\n",
       "    </tr>\n",
       "    <tr>\n",
       "      <th>1</th>\n",
       "      <td>118</td>\n",
       "      <td>262</td>\n",
       "      <td>314</td>\n",
       "      <td>452</td>\n",
       "      <td>806</td>\n",
       "    </tr>\n",
       "    <tr>\n",
       "      <th>2</th>\n",
       "      <td>219</td>\n",
       "      <td>468</td>\n",
       "      <td>526</td>\n",
       "      <td>247</td>\n",
       "      <td>752</td>\n",
       "    </tr>\n",
       "  </tbody>\n",
       "</table>\n",
       "</div>"
      ],
      "text/plain": [
       "     0    1    2    3    4\n",
       "0  307  649  548  264  466\n",
       "1  118  262  314  452  806\n",
       "2  219  468  526  247  752"
      ]
     },
     "execution_count": 9,
     "metadata": {},
     "output_type": "execute_result"
    }
   ],
   "source": [
    "data = np.random.randint(size=(3, 5), low=100, high=900)\n",
    "df = pd.DataFrame(data)\n",
    "df"
   ]
  },
  {
   "cell_type": "code",
   "execution_count": 10,
   "metadata": {
    "collapsed": true
   },
   "outputs": [],
   "source": [
    "df_test = scisheets_widget.SciSheetTable()"
   ]
  },
  {
   "cell_type": "code",
   "execution_count": 11,
   "metadata": {
    "collapsed": true
   },
   "outputs": [],
   "source": [
    "df_test.set_data(df)"
   ]
  },
  {
   "cell_type": "code",
   "execution_count": 12,
   "metadata": {},
   "outputs": [
    {
     "data": {
      "text/plain": [
       "pandas.core.frame.DataFrame"
      ]
     },
     "execution_count": 12,
     "metadata": {},
     "output_type": "execute_result"
    }
   ],
   "source": [
    "type(df)"
   ]
  },
  {
   "cell_type": "code",
   "execution_count": 13,
   "metadata": {},
   "outputs": [
    {
     "data": {
      "application/vnd.jupyter.widget-view+json": {
       "model_id": "e90b4cab232b49f69c151420c24ce5ee",
       "version_major": 2,
       "version_minor": 0
      },
      "text/plain": [
       "A Jupyter Widget"
      ]
     },
     "metadata": {},
     "output_type": "display_data"
    }
   ],
   "source": [
    "df_test"
   ]
  },
  {
   "cell_type": "markdown",
   "metadata": {},
   "source": [
    "## Test to make sure widgets work in notebook"
   ]
  },
  {
   "cell_type": "code",
   "execution_count": null,
   "metadata": {
    "collapsed": true
   },
   "outputs": [],
   "source": [
    "widgets.IntSlider()"
   ]
  },
  {
   "cell_type": "code",
   "execution_count": null,
   "metadata": {
    "collapsed": true
   },
   "outputs": [],
   "source": []
  },
  {
   "cell_type": "code",
   "execution_count": null,
   "metadata": {
    "collapsed": true
   },
   "outputs": [],
   "source": [
    "%%javascript\n",
    "var output_area = this;\n",
    "// find my cell element\n",
    "var cell_element = output_area.element.parents('.cell');\n",
    "// which cell is it?\n",
    "var cell_idx = Jupyter.notebook.get_cell_elements().index(cell_element);\n",
    "// get the cell object\n",
    "var cell = Jupyter.notebook.get_cell(cell_idx);\n",
    "\n"
   ]
  },
  {
   "cell_type": "code",
   "execution_count": null,
   "metadata": {
    "collapsed": true
   },
   "outputs": [],
   "source": [
    "%%javascript\n",
    "\n",
    "var div = document.createElement('div');\n",
    "\n",
    "div.innerHTML = '<span class=\"msg\">Hello world.</span>';"
   ]
  },
  {
   "cell_type": "code",
   "execution_count": null,
   "metadata": {
    "collapsed": true
   },
   "outputs": [],
   "source": [
    "%%javascript\n",
    "\n",
    "var table_id = 0;\n",
    "\n",
    "this.$table = $('<div />')\n",
    "                .attr('id', 'table_' + (table_id++))\n",
    "                .appendTo(element);\n",
    "\n",
    "this.$table.handsontable({data:data1});\n",
    "\n",
    "// this.element.handsontable({data:data1});\n",
    "// console.log('how?')"
   ]
  },
  {
   "cell_type": "code",
   "execution_count": null,
   "metadata": {
    "collapsed": true
   },
   "outputs": [],
   "source": [
    "%%javascript\n",
    "element.text('Hi')\n",
    "console.log('There')"
   ]
  },
  {
   "cell_type": "code",
   "execution_count": 5,
   "metadata": {
    "collapsed": true
   },
   "outputs": [],
   "source": [
    "data1 = df.to_json(orient='records')"
   ]
  },
  {
   "cell_type": "code",
   "execution_count": 7,
   "metadata": {},
   "outputs": [
    {
     "data": {
      "application/javascript": [
       "element.handsontable({data:data1});"
      ],
      "text/plain": [
       "<IPython.core.display.Javascript object>"
      ]
     },
     "metadata": {},
     "output_type": "display_data"
    }
   ],
   "source": [
    "%%javascript\n",
    "\n",
    "$element.handsontable({data:data1});"
   ]
  },
  {
   "cell_type": "code",
   "execution_count": null,
   "metadata": {
    "collapsed": true
   },
   "outputs": [],
   "source": []
  },
  {
   "cell_type": "code",
   "execution_count": null,
   "metadata": {
    "collapsed": true
   },
   "outputs": [],
   "source": [
    "df = pd.DataFrame({'a':[1,3,5,7,4,5,6,4,7,8,9],\n",
    "                   'b':[3,5,6,2,4,6,7,8,7,8,9]})"
   ]
  },
  {
   "cell_type": "code",
   "execution_count": null,
   "metadata": {
    "collapsed": true
   },
   "outputs": [],
   "source": [
    "data = np.random.randint(size=(3, 5), low=100, high=900)\n",
    "df = pd.DataFrame(data)"
   ]
  },
  {
   "cell_type": "code",
   "execution_count": null,
   "metadata": {
    "collapsed": true
   },
   "outputs": [],
   "source": []
  },
  {
   "cell_type": "code",
   "execution_count": null,
   "metadata": {
    "collapsed": true
   },
   "outputs": [],
   "source": [
    "display(hdf)"
   ]
  },
  {
   "cell_type": "code",
   "execution_count": null,
   "metadata": {
    "collapsed": true,
    "scrolled": true
   },
   "outputs": [],
   "source": [
    "hdf = scisheets_widget.HandsonDataFrame(df)\n",
    "hdf.show()"
   ]
  },
  {
   "cell_type": "code",
   "execution_count": null,
   "metadata": {
    "collapsed": true
   },
   "outputs": [],
   "source": [
    "display(hdf._widget)"
   ]
  },
  {
   "cell_type": "code",
   "execution_count": null,
   "metadata": {
    "collapsed": true
   },
   "outputs": [],
   "source": [
    "%%javascript\n",
    "\n",
    "require(['handsontable'], function (handsontable){\n",
    "    console.log(\"in require->handsontable\");\n",
    "    \n",
    "  var data = [\n",
    "    [\"\", \"Maserati\", \"Mazda\", \"Mercedes\", \"Mini\", \"Mitsubishi\"],\n",
    "    [\"2009\", 0, 2941, 4303, 354, 5814],\n",
    "    [\"2010\", 5, 2905, 2867, 412, 5284],\n",
    "    [\"2011\", 4, 2517, 4822, 552, 6127],\n",
    "    [\"2012\", 2, 2422, 5399, 776, 4151]\n",
    "  ];\n",
    "  \n",
    "  $('#hs_example').handsontable({\n",
    "    data: data,\n",
    "    minSpareRows: 1,\n",
    "    colHeaders: true,\n",
    "    contextMenu: true\n",
    "  });\n",
    "  \n",
    "  \n",
    "  function bindDumpButton() {\n",
    "      $('body').on('click', 'button[name=dump]', function () {\n",
    "        var dump = $(this).data('dump');\n",
    "        var $container = $(dump);\n",
    "        console.log('data of ' + dump, $container.handsontable('getData'));\n",
    "      });\n",
    "    }\n",
    "  bindDumpButton();    \n",
    "    \n",
    "});"
   ]
  }
 ],
 "metadata": {
  "kernelspec": {
   "display_name": "Python [conda env:scisheets_env]",
   "language": "python",
   "name": "conda-env-scisheets_env-py"
  },
  "language_info": {
   "codemirror_mode": {
    "name": "ipython",
    "version": 2
   },
   "file_extension": ".py",
   "mimetype": "text/x-python",
   "name": "python",
   "nbconvert_exporter": "python",
   "pygments_lexer": "ipython2",
   "version": "2.7.13"
  }
 },
 "nbformat": 4,
 "nbformat_minor": 2
}

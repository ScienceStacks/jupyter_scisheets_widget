{
 "cells": [
  {
   "cell_type": "markdown",
   "metadata": {},
   "source": [
    "# Demonstration of Use Case\n",
    "- Users can enter step by step explanations of changes made to a SciSheet in a Jupyter notebook"
   ]
  },
  {
   "cell_type": "markdown",
   "metadata": {},
   "source": [
    "### Load necessary packages"
   ]
  },
  {
   "cell_type": "code",
   "execution_count": 1,
   "metadata": {
    "collapsed": true
   },
   "outputs": [],
   "source": [
    "import json\n",
    "\n",
    "import numpy as np\n",
    "import pandas as pd\n",
    "\n",
    "from jupyter_scisheets_widget import scisheets_widget"
   ]
  },
  {
   "cell_type": "markdown",
   "metadata": {},
   "source": [
    "### Load data into the notebook"
   ]
  },
  {
   "cell_type": "code",
   "execution_count": null,
   "metadata": {
    "collapsed": true
   },
   "outputs": [],
   "source": [
    "import pandas_datareader as pdr\n",
    "ibm_data = pdr.get_data_yahoo('IBM')"
   ]
  },
  {
   "cell_type": "code",
   "execution_count": 2,
   "metadata": {},
   "outputs": [
    {
     "data": {
      "text/html": [
       "<div>\n",
       "<style>\n",
       "    .dataframe thead tr:only-child th {\n",
       "        text-align: right;\n",
       "    }\n",
       "\n",
       "    .dataframe thead th {\n",
       "        text-align: left;\n",
       "    }\n",
       "\n",
       "    .dataframe tbody tr th {\n",
       "        vertical-align: top;\n",
       "    }\n",
       "</style>\n",
       "<table border=\"1\" class=\"dataframe\">\n",
       "  <thead>\n",
       "    <tr style=\"text-align: right;\">\n",
       "      <th></th>\n",
       "      <th>GEOID</th>\n",
       "      <th>State</th>\n",
       "      <th>2005</th>\n",
       "      <th>2006</th>\n",
       "      <th>2007</th>\n",
       "      <th>2008</th>\n",
       "      <th>2009</th>\n",
       "      <th>2010</th>\n",
       "      <th>2011</th>\n",
       "      <th>2012</th>\n",
       "      <th>2013</th>\n",
       "    </tr>\n",
       "  </thead>\n",
       "  <tbody>\n",
       "    <tr>\n",
       "      <th>0</th>\n",
       "      <td>04000US01</td>\n",
       "      <td>Alabama</td>\n",
       "      <td>37150</td>\n",
       "      <td>37952</td>\n",
       "      <td>42212</td>\n",
       "      <td>44476</td>\n",
       "      <td>39980</td>\n",
       "      <td>40933</td>\n",
       "      <td>42590</td>\n",
       "      <td>43464</td>\n",
       "      <td>41381</td>\n",
       "    </tr>\n",
       "    <tr>\n",
       "      <th>1</th>\n",
       "      <td>04000US02</td>\n",
       "      <td>Alaska</td>\n",
       "      <td>55891</td>\n",
       "      <td>56418</td>\n",
       "      <td>62993</td>\n",
       "      <td>63989</td>\n",
       "      <td>61604</td>\n",
       "      <td>57848</td>\n",
       "      <td>57431</td>\n",
       "      <td>63648</td>\n",
       "      <td>61137</td>\n",
       "    </tr>\n",
       "    <tr>\n",
       "      <th>2</th>\n",
       "      <td>04000US04</td>\n",
       "      <td>Arizona</td>\n",
       "      <td>45245</td>\n",
       "      <td>46657</td>\n",
       "      <td>47215</td>\n",
       "      <td>46914</td>\n",
       "      <td>45739</td>\n",
       "      <td>46896</td>\n",
       "      <td>48621</td>\n",
       "      <td>47044</td>\n",
       "      <td>50602</td>\n",
       "    </tr>\n",
       "    <tr>\n",
       "      <th>3</th>\n",
       "      <td>04000US05</td>\n",
       "      <td>Arkansas</td>\n",
       "      <td>36658</td>\n",
       "      <td>37057</td>\n",
       "      <td>40795</td>\n",
       "      <td>39586</td>\n",
       "      <td>36538</td>\n",
       "      <td>38587</td>\n",
       "      <td>41302</td>\n",
       "      <td>39018</td>\n",
       "      <td>39919</td>\n",
       "    </tr>\n",
       "    <tr>\n",
       "      <th>4</th>\n",
       "      <td>04000US06</td>\n",
       "      <td>California</td>\n",
       "      <td>51755</td>\n",
       "      <td>55319</td>\n",
       "      <td>55734</td>\n",
       "      <td>57014</td>\n",
       "      <td>56134</td>\n",
       "      <td>54283</td>\n",
       "      <td>53367</td>\n",
       "      <td>57020</td>\n",
       "      <td>57528</td>\n",
       "    </tr>\n",
       "  </tbody>\n",
       "</table>\n",
       "</div>"
      ],
      "text/plain": [
       "       GEOID       State   2005   2006   2007   2008   2009   2010   2011  \\\n",
       "0  04000US01     Alabama  37150  37952  42212  44476  39980  40933  42590   \n",
       "1  04000US02      Alaska  55891  56418  62993  63989  61604  57848  57431   \n",
       "2  04000US04     Arizona  45245  46657  47215  46914  45739  46896  48621   \n",
       "3  04000US05    Arkansas  36658  37057  40795  39586  36538  38587  41302   \n",
       "4  04000US06  California  51755  55319  55734  57014  56134  54283  53367   \n",
       "\n",
       "    2012   2013  \n",
       "0  43464  41381  \n",
       "1  63648  61137  \n",
       "2  47044  50602  \n",
       "3  39018  39919  \n",
       "4  57020  57528  "
      ]
     },
     "execution_count": 2,
     "metadata": {},
     "output_type": "execute_result"
    }
   ],
   "source": [
    "income_data = pd.read_csv('income_data.csv', sep=';')\n",
    "income_data"
   ]
  },
  {
   "cell_type": "code",
   "execution_count": 5,
   "metadata": {},
   "outputs": [
    {
     "data": {
      "text/plain": [
       "'{\"index\": [0, 1, 2, 3, 4], \"data\": [[\"04000US01\", \"Alabama\", 37150, 37952, 42212, 44476, 39980, 40933, 42590, 43464, 41381], [\"04000US02\", \"Alaska\", 55891, 56418, 62993, 63989, 61604, 57848, 57431, 63648, 61137], [\"04000US04\", \"Arizona\", 45245, 46657, 47215, 46914, 45739, 46896, 48621, 47044, 50602], [\"04000US05\", \"Arkansas\", 36658, 37057, 40795, 39586, 36538, 38587, 41302, 39018, 39919], [\"04000US06\", \"California\", 51755, 55319, 55734, 57014, 56134, 54283, 53367, 57020, 57528]], \"columns\": [\"GEOID\", \"State\", \"2005\", \"2006\", \"2007\", \"2008\", \"2009\", \"2010\", \"2011\", \"2012\", \"2013\"]}'"
      ]
     },
     "execution_count": 5,
     "metadata": {},
     "output_type": "execute_result"
    }
   ],
   "source": [
    "import ast\n",
    "\n",
    "model_data = income_data.to_json(orient='split')\n",
    "model_data = ast.literal_eval(model_data)\n",
    "json.dumps(model_data)"
   ]
  },
  {
   "cell_type": "markdown",
   "metadata": {},
   "source": [
    "### Display the loaded data as a scisheet widget"
   ]
  },
  {
   "cell_type": "code",
   "execution_count": 8,
   "metadata": {},
   "outputs": [
    {
     "name": "stdout",
     "output_type": "stream",
     "text": [
      "{\"columns\":[\"GEOID\",\"State\",\"2005\",\"2006\",\"2007\",\"2008\",\"2009\",\"2010\",\"2011\",\"2012\",\"2013\"],\"index\":[0,1,2,3,4],\"data\":[[\"04000US01\",\"Alabama\",37150,37952,42212,44476,39980,40933,42590,43464,41381],[\"04000US02\",\"Alaska\",55891,56418,62993,63989,61604,57848,57431,63648,61137],[\"04000US04\",\"Arizona\",45245,46657,47215,46914,45739,46896,48621,47044,50602],[\"04000US05\",\"Arkansas\",36658,37057,40795,39586,36538,38587,41302,39018,39919],[\"04000US06\",\"California\",51755,55319,55734,57014,56134,54283,53367,57020,57528]]}\n",
      "{'index': [0, 1, 2, 3, 4], 'data': [['04000US01', 'Alabama', 37150, 37952, 42212, 44476, 39980, 40933, 42590, 43464, 41381], ['04000US02', 'Alaska', 55891, 56418, 62993, 63989, 61604, 57848, 57431, 63648, 61137], ['04000US04', 'Arizona', 45245, 46657, 47215, 46914, 45739, 46896, 48621, 47044, 50602], ['04000US05', 'Arkansas', 36658, 37057, 40795, 39586, 36538, 38587, 41302, 39018, 39919], ['04000US06', 'California', 51755, 55319, 55734, 57014, 56134, 54283, 53367, 57020, 57528]], 'columns': ['GEOID', 'State', '2005', '2006', '2007', '2008', '2009', '2010', '2011', '2012', '2013']}\n",
      "{\"index\": [0, 1, 2, 3, 4], \"data\": [[\"04000US01\", \"Alabama\", 37150, 37952, 42212, 44476, 39980, 40933, 42590, 43464, 41381], [\"04000US02\", \"Alaska\", 55891, 56418, 62993, 63989, 61604, 57848, 57431, 63648, 61137], [\"04000US04\", \"Arizona\", 45245, 46657, 47215, 46914, 45739, 46896, 48621, 47044, 50602], [\"04000US05\", \"Arkansas\", 36658, 37057, 40795, 39586, 36538, 38587, 41302, 39018, 39919], [\"04000US06\", \"California\", 51755, 55319, 55734, 57014, 56134, 54283, 53367, 57020, 57528]], \"columns\": [\"GEOID\", \"State\", \"2005\", \"2006\", \"2007\", \"2008\", \"2009\", \"2010\", \"2011\", \"2012\", \"2013\"]}\n"
     ]
    },
    {
     "data": {
      "application/vnd.jupyter.widget-view+json": {
       "model_id": "bfe0e80c0213409ab4233159f4af793a",
       "version_major": 2,
       "version_minor": 0
      },
      "text/plain": [
       "A Jupyter Widget"
      ]
     },
     "metadata": {},
     "output_type": "display_data"
    }
   ],
   "source": [
    "tbl = scisheets_widget.SciSheetTable()\n",
    "tbl.load_df(income_data)\n",
    "tbl"
   ]
  },
  {
   "cell_type": "code",
   "execution_count": null,
   "metadata": {
    "collapsed": true,
    "scrolled": true
   },
   "outputs": [],
   "source": [
    "tbl._model_data"
   ]
  },
  {
   "cell_type": "code",
   "execution_count": null,
   "metadata": {
    "collapsed": true
   },
   "outputs": [],
   "source": [
    "income_data"
   ]
  },
  {
   "cell_type": "code",
   "execution_count": 3,
   "metadata": {
    "scrolled": false
   },
   "outputs": [
    {
     "name": "stdout",
     "output_type": "stream",
     "text": [
      "on displayed\n",
      "{\"columns\":[\"GEOID\",\"State\",\"2005\",\"2006\",\"2007\",\"2008\",\"2009\",\"2010\",\"2011\",\"2012\",\"2013\"],\"index\":[0,1,2,3,4],\"data\":[[\"04000US01\",\"Alabama\",37150,37952,42212,44476,39980,40933,42590,43464,41381],[\"04000US02\",\"Alaska\",55891,56418,62993,63989,61604,57848,57431,63648,61137],[\"04000US04\",\"Arizona\",45245,46657,47215,46914,45739,46896,48621,47044,50602],[\"04000US05\",\"Arkansas\",36658,37057,40795,39586,36538,38587,41302,39018,39919],[\"04000US06\",\"California\",51755,55319,55734,57014,56134,54283,53367,57020,57528]]}\n",
      "{'index': [0, 1, 2, 3, 4], 'data': [['04000US01', 'Alabama', 37150, 37952, 42212, 44476, 39980, 40933, 42590, 43464, 41381], ['04000US02', 'Alaska', 55891, 56418, 62993, 63989, 61604, 57848, 57431, 63648, 61137], ['04000US04', 'Arizona', 45245, 46657, 47215, 46914, 45739, 46896, 48621, 47044, 50602], ['04000US05', 'Arkansas', 36658, 37057, 40795, 39586, 36538, 38587, 41302, 39018, 39919], ['04000US06', 'California', 51755, 55319, 55734, 57014, 56134, 54283, 53367, 57020, 57528]], 'columns': ['GEOID', 'State', '2005', '2006', '2007', '2008', '2009', '2010', '2011', '2012', '2013']}\n",
      "{\"index\": [0, 1, 2, 3, 4], \"data\": [[\"04000US01\", \"Alabama\", 37150, 37952, 42212, 44476, 39980, 40933, 42590, 43464, 41381], [\"04000US02\", \"Alaska\", 55891, 56418, 62993, 63989, 61604, 57848, 57431, 63648, 61137], [\"04000US04\", \"Arizona\", 45245, 46657, 47215, 46914, 45739, 46896, 48621, 47044, 50602], [\"04000US05\", \"Arkansas\", 36658, 37057, 40795, 39586, 36538, 38587, 41302, 39018, 39919], [\"04000US06\", \"California\", 51755, 55319, 55734, 57014, 56134, 54283, 53367, 57020, 57528]], \"columns\": [\"GEOID\", \"State\", \"2005\", \"2006\", \"2007\", \"2008\", \"2009\", \"2010\", \"2011\", \"2012\", \"2013\"]}\n"
     ]
    },
    {
     "data": {
      "application/vnd.jupyter.widget-view+json": {
       "model_id": "678773ad5d2848f2aa3982b4c37d16c1",
       "version_major": 2,
       "version_minor": 0
      },
      "text/plain": [
       "A Jupyter Widget"
      ]
     },
     "metadata": {},
     "output_type": "display_data"
    },
    {
     "name": "stdout",
     "output_type": "stream",
     "text": [
      "data is being changed\n",
      "{\"\\\"data\\\"\":\"[[\\\"04000US01\\\",\\\"Alabama\\\",\\\"Twenty\\\",37952,42212,44476,39980,40933,42590,43464,41381],[\\\"04000US02\\\",\\\"Alaska\\\",55891,56418,62993,63989,61604,57848,57431,63648,61137],[\\\"04000US04\\\",\\\"Arizona\\\",45245,46657,47215,46914,45739,46896,48621,47044,50602],[\\\"04000US05\\\",\\\"Arkansas\\\",36658,37057,40795,39586,36538,38587,41302,39018,39919],[\\\"04000US06\\\",\\\"California\\\",51755,55319,55734,57014,56134,54283,53367,57020,57528]]\",\"\\\"columns\\\"\":\"[\\\"GEOID\\\",\\\"State\\\",\\\"2005\\\",\\\"2006\\\",\\\"2007\\\",\\\"2008\\\",\\\"2009\\\",\\\"2010\\\",\\\"2011\\\",\\\"2012\\\",\\\"2013\\\"]\"}\n"
     ]
    }
   ],
   "source": [
    "tbl2 = scisheets_widget.HandsonDataFrame(income_data)\n",
    "tbl2.show()"
   ]
  },
  {
   "cell_type": "code",
   "execution_count": null,
   "metadata": {
    "collapsed": true
   },
   "outputs": [],
   "source": [
    "tbl2._df"
   ]
  },
  {
   "cell_type": "code",
   "execution_count": 7,
   "metadata": {},
   "outputs": [
    {
     "ename": "TraitError",
     "evalue": "The '_model_header' trait of a SciSheetTable instance must be a unicode string, but a value of {'index': [0, 1, 2, 3, 4], 'data': [['04000US01', 'Alabama', 37150, 37952, 42212, 44476, 39980, 40933, 42590, 43464, 41381], ['04000US02', 'Alaska', 55891, 56418, 62993, 63989, 61604, 57848, 57431, 63648, 61137], ['04000US04', 'Arizona', 45245, 46657, 47215, 46914, 45739, 46896, 48621, 47044, 50602], ['04000US05', 'Arkansas', 36658, 37057, 40795, 39586, 36538, 38587, 41302, 39018, 39919], ['04000US06', 'California', 51755, 55319, 55734, 57014, 56134, 54283, 53367, 57020, 57528]], 'columns': ['GEOID', 'State', '2005', '2006', '2007', '2008', '2009', '2010', '2011', '2012', '2013']} <type 'dict'> was specified.",
     "output_type": "error",
     "traceback": [
      "\u001b[0;31m---------------------------------------------------------------------------\u001b[0m",
      "\u001b[0;31mTraitError\u001b[0m                                Traceback (most recent call last)",
      "\u001b[0;32m<ipython-input-7-82566c6ea0e1>\u001b[0m in \u001b[0;36m<module>\u001b[0;34m()\u001b[0m\n\u001b[0;32m----> 1\u001b[0;31m \u001b[0mtbl2\u001b[0m\u001b[0;34m.\u001b[0m\u001b[0m_widget\u001b[0m\u001b[0;34m.\u001b[0m\u001b[0m_model_header\u001b[0m \u001b[0;34m=\u001b[0m \u001b[0;34m{\u001b[0m\u001b[0;34m\"index\"\u001b[0m\u001b[0;34m:\u001b[0m \u001b[0;34m[\u001b[0m\u001b[0;36m0\u001b[0m\u001b[0;34m,\u001b[0m \u001b[0;36m1\u001b[0m\u001b[0;34m,\u001b[0m \u001b[0;36m2\u001b[0m\u001b[0;34m,\u001b[0m \u001b[0;36m3\u001b[0m\u001b[0;34m,\u001b[0m \u001b[0;36m4\u001b[0m\u001b[0;34m]\u001b[0m\u001b[0;34m,\u001b[0m \u001b[0;34m\"data\"\u001b[0m\u001b[0;34m:\u001b[0m \u001b[0;34m[\u001b[0m\u001b[0;34m[\u001b[0m\u001b[0;34m\"04000US01\"\u001b[0m\u001b[0;34m,\u001b[0m \u001b[0;34m\"Alabama\"\u001b[0m\u001b[0;34m,\u001b[0m \u001b[0;36m37150\u001b[0m\u001b[0;34m,\u001b[0m \u001b[0;36m37952\u001b[0m\u001b[0;34m,\u001b[0m \u001b[0;36m42212\u001b[0m\u001b[0;34m,\u001b[0m \u001b[0;36m44476\u001b[0m\u001b[0;34m,\u001b[0m \u001b[0;36m39980\u001b[0m\u001b[0;34m,\u001b[0m \u001b[0;36m40933\u001b[0m\u001b[0;34m,\u001b[0m \u001b[0;36m42590\u001b[0m\u001b[0;34m,\u001b[0m \u001b[0;36m43464\u001b[0m\u001b[0;34m,\u001b[0m \u001b[0;36m41381\u001b[0m\u001b[0;34m]\u001b[0m\u001b[0;34m,\u001b[0m \u001b[0;34m[\u001b[0m\u001b[0;34m\"04000US02\"\u001b[0m\u001b[0;34m,\u001b[0m \u001b[0;34m\"Alaska\"\u001b[0m\u001b[0;34m,\u001b[0m \u001b[0;36m55891\u001b[0m\u001b[0;34m,\u001b[0m \u001b[0;36m56418\u001b[0m\u001b[0;34m,\u001b[0m \u001b[0;36m62993\u001b[0m\u001b[0;34m,\u001b[0m \u001b[0;36m63989\u001b[0m\u001b[0;34m,\u001b[0m \u001b[0;36m61604\u001b[0m\u001b[0;34m,\u001b[0m \u001b[0;36m57848\u001b[0m\u001b[0;34m,\u001b[0m \u001b[0;36m57431\u001b[0m\u001b[0;34m,\u001b[0m \u001b[0;36m63648\u001b[0m\u001b[0;34m,\u001b[0m \u001b[0;36m61137\u001b[0m\u001b[0;34m]\u001b[0m\u001b[0;34m,\u001b[0m \u001b[0;34m[\u001b[0m\u001b[0;34m\"04000US04\"\u001b[0m\u001b[0;34m,\u001b[0m \u001b[0;34m\"Arizona\"\u001b[0m\u001b[0;34m,\u001b[0m \u001b[0;36m45245\u001b[0m\u001b[0;34m,\u001b[0m \u001b[0;36m46657\u001b[0m\u001b[0;34m,\u001b[0m \u001b[0;36m47215\u001b[0m\u001b[0;34m,\u001b[0m \u001b[0;36m46914\u001b[0m\u001b[0;34m,\u001b[0m \u001b[0;36m45739\u001b[0m\u001b[0;34m,\u001b[0m \u001b[0;36m46896\u001b[0m\u001b[0;34m,\u001b[0m \u001b[0;36m48621\u001b[0m\u001b[0;34m,\u001b[0m \u001b[0;36m47044\u001b[0m\u001b[0;34m,\u001b[0m \u001b[0;36m50602\u001b[0m\u001b[0;34m]\u001b[0m\u001b[0;34m,\u001b[0m \u001b[0;34m[\u001b[0m\u001b[0;34m\"04000US05\"\u001b[0m\u001b[0;34m,\u001b[0m \u001b[0;34m\"Arkansas\"\u001b[0m\u001b[0;34m,\u001b[0m \u001b[0;36m36658\u001b[0m\u001b[0;34m,\u001b[0m \u001b[0;36m37057\u001b[0m\u001b[0;34m,\u001b[0m \u001b[0;36m40795\u001b[0m\u001b[0;34m,\u001b[0m \u001b[0;36m39586\u001b[0m\u001b[0;34m,\u001b[0m \u001b[0;36m36538\u001b[0m\u001b[0;34m,\u001b[0m \u001b[0;36m38587\u001b[0m\u001b[0;34m,\u001b[0m \u001b[0;36m41302\u001b[0m\u001b[0;34m,\u001b[0m \u001b[0;36m39018\u001b[0m\u001b[0;34m,\u001b[0m \u001b[0;36m39919\u001b[0m\u001b[0;34m]\u001b[0m\u001b[0;34m,\u001b[0m \u001b[0;34m[\u001b[0m\u001b[0;34m\"04000US06\"\u001b[0m\u001b[0;34m,\u001b[0m \u001b[0;34m\"California\"\u001b[0m\u001b[0;34m,\u001b[0m \u001b[0;36m51755\u001b[0m\u001b[0;34m,\u001b[0m \u001b[0;36m55319\u001b[0m\u001b[0;34m,\u001b[0m \u001b[0;36m55734\u001b[0m\u001b[0;34m,\u001b[0m \u001b[0;36m57014\u001b[0m\u001b[0;34m,\u001b[0m \u001b[0;36m56134\u001b[0m\u001b[0;34m,\u001b[0m \u001b[0;36m54283\u001b[0m\u001b[0;34m,\u001b[0m \u001b[0;36m53367\u001b[0m\u001b[0;34m,\u001b[0m \u001b[0;36m57020\u001b[0m\u001b[0;34m,\u001b[0m \u001b[0;36m57528\u001b[0m\u001b[0;34m]\u001b[0m\u001b[0;34m]\u001b[0m\u001b[0;34m,\u001b[0m \u001b[0;34m\"columns\"\u001b[0m\u001b[0;34m:\u001b[0m \u001b[0;34m[\u001b[0m\u001b[0;34m\"GEOID\"\u001b[0m\u001b[0;34m,\u001b[0m \u001b[0;34m\"State\"\u001b[0m\u001b[0;34m,\u001b[0m \u001b[0;34m\"2005\"\u001b[0m\u001b[0;34m,\u001b[0m \u001b[0;34m\"2006\"\u001b[0m\u001b[0;34m,\u001b[0m \u001b[0;34m\"2007\"\u001b[0m\u001b[0;34m,\u001b[0m \u001b[0;34m\"2008\"\u001b[0m\u001b[0;34m,\u001b[0m \u001b[0;34m\"2009\"\u001b[0m\u001b[0;34m,\u001b[0m \u001b[0;34m\"2010\"\u001b[0m\u001b[0;34m,\u001b[0m \u001b[0;34m\"2011\"\u001b[0m\u001b[0;34m,\u001b[0m \u001b[0;34m\"2012\"\u001b[0m\u001b[0;34m,\u001b[0m \u001b[0;34m\"2013\"\u001b[0m\u001b[0;34m]\u001b[0m\u001b[0;34m}\u001b[0m\u001b[0;34m\u001b[0m\u001b[0m\n\u001b[0m",
      "\u001b[0;32m/Applications/miniconda3/envs/scisheets_env/lib/python2.7/site-packages/traitlets/traitlets.pyc\u001b[0m in \u001b[0;36m__set__\u001b[0;34m(self, obj, value)\u001b[0m\n\u001b[1;32m    583\u001b[0m             \u001b[0;32mraise\u001b[0m \u001b[0mTraitError\u001b[0m\u001b[0;34m(\u001b[0m\u001b[0;34m'The \"%s\" trait is read-only.'\u001b[0m \u001b[0;34m%\u001b[0m \u001b[0mself\u001b[0m\u001b[0;34m.\u001b[0m\u001b[0mname\u001b[0m\u001b[0;34m)\u001b[0m\u001b[0;34m\u001b[0m\u001b[0m\n\u001b[1;32m    584\u001b[0m         \u001b[0;32melse\u001b[0m\u001b[0;34m:\u001b[0m\u001b[0;34m\u001b[0m\u001b[0m\n\u001b[0;32m--> 585\u001b[0;31m             \u001b[0mself\u001b[0m\u001b[0;34m.\u001b[0m\u001b[0mset\u001b[0m\u001b[0;34m(\u001b[0m\u001b[0mobj\u001b[0m\u001b[0;34m,\u001b[0m \u001b[0mvalue\u001b[0m\u001b[0;34m)\u001b[0m\u001b[0;34m\u001b[0m\u001b[0m\n\u001b[0m\u001b[1;32m    586\u001b[0m \u001b[0;34m\u001b[0m\u001b[0m\n\u001b[1;32m    587\u001b[0m     \u001b[0;32mdef\u001b[0m \u001b[0m_validate\u001b[0m\u001b[0;34m(\u001b[0m\u001b[0mself\u001b[0m\u001b[0;34m,\u001b[0m \u001b[0mobj\u001b[0m\u001b[0;34m,\u001b[0m \u001b[0mvalue\u001b[0m\u001b[0;34m)\u001b[0m\u001b[0;34m:\u001b[0m\u001b[0;34m\u001b[0m\u001b[0m\n",
      "\u001b[0;32m/Applications/miniconda3/envs/scisheets_env/lib/python2.7/site-packages/traitlets/traitlets.pyc\u001b[0m in \u001b[0;36mset\u001b[0;34m(self, obj, value)\u001b[0m\n\u001b[1;32m    557\u001b[0m \u001b[0;34m\u001b[0m\u001b[0m\n\u001b[1;32m    558\u001b[0m     \u001b[0;32mdef\u001b[0m \u001b[0mset\u001b[0m\u001b[0;34m(\u001b[0m\u001b[0mself\u001b[0m\u001b[0;34m,\u001b[0m \u001b[0mobj\u001b[0m\u001b[0;34m,\u001b[0m \u001b[0mvalue\u001b[0m\u001b[0;34m)\u001b[0m\u001b[0;34m:\u001b[0m\u001b[0;34m\u001b[0m\u001b[0m\n\u001b[0;32m--> 559\u001b[0;31m         \u001b[0mnew_value\u001b[0m \u001b[0;34m=\u001b[0m \u001b[0mself\u001b[0m\u001b[0;34m.\u001b[0m\u001b[0m_validate\u001b[0m\u001b[0;34m(\u001b[0m\u001b[0mobj\u001b[0m\u001b[0;34m,\u001b[0m \u001b[0mvalue\u001b[0m\u001b[0;34m)\u001b[0m\u001b[0;34m\u001b[0m\u001b[0m\n\u001b[0m\u001b[1;32m    560\u001b[0m         \u001b[0;32mtry\u001b[0m\u001b[0;34m:\u001b[0m\u001b[0;34m\u001b[0m\u001b[0m\n\u001b[1;32m    561\u001b[0m             \u001b[0mold_value\u001b[0m \u001b[0;34m=\u001b[0m \u001b[0mobj\u001b[0m\u001b[0;34m.\u001b[0m\u001b[0m_trait_values\u001b[0m\u001b[0;34m[\u001b[0m\u001b[0mself\u001b[0m\u001b[0;34m.\u001b[0m\u001b[0mname\u001b[0m\u001b[0;34m]\u001b[0m\u001b[0;34m\u001b[0m\u001b[0m\n",
      "\u001b[0;32m/Applications/miniconda3/envs/scisheets_env/lib/python2.7/site-packages/traitlets/traitlets.pyc\u001b[0m in \u001b[0;36m_validate\u001b[0;34m(self, obj, value)\u001b[0m\n\u001b[1;32m    589\u001b[0m             \u001b[0;32mreturn\u001b[0m \u001b[0mvalue\u001b[0m\u001b[0;34m\u001b[0m\u001b[0m\n\u001b[1;32m    590\u001b[0m         \u001b[0;32mif\u001b[0m \u001b[0mhasattr\u001b[0m\u001b[0;34m(\u001b[0m\u001b[0mself\u001b[0m\u001b[0;34m,\u001b[0m \u001b[0;34m'validate'\u001b[0m\u001b[0;34m)\u001b[0m\u001b[0;34m:\u001b[0m\u001b[0;34m\u001b[0m\u001b[0m\n\u001b[0;32m--> 591\u001b[0;31m             \u001b[0mvalue\u001b[0m \u001b[0;34m=\u001b[0m \u001b[0mself\u001b[0m\u001b[0;34m.\u001b[0m\u001b[0mvalidate\u001b[0m\u001b[0;34m(\u001b[0m\u001b[0mobj\u001b[0m\u001b[0;34m,\u001b[0m \u001b[0mvalue\u001b[0m\u001b[0;34m)\u001b[0m\u001b[0;34m\u001b[0m\u001b[0m\n\u001b[0m\u001b[1;32m    592\u001b[0m         \u001b[0;32mif\u001b[0m \u001b[0mobj\u001b[0m\u001b[0;34m.\u001b[0m\u001b[0m_cross_validation_lock\u001b[0m \u001b[0;32mis\u001b[0m \u001b[0mFalse\u001b[0m\u001b[0;34m:\u001b[0m\u001b[0;34m\u001b[0m\u001b[0m\n\u001b[1;32m    593\u001b[0m             \u001b[0mvalue\u001b[0m \u001b[0;34m=\u001b[0m \u001b[0mself\u001b[0m\u001b[0;34m.\u001b[0m\u001b[0m_cross_validate\u001b[0m\u001b[0;34m(\u001b[0m\u001b[0mobj\u001b[0m\u001b[0;34m,\u001b[0m \u001b[0mvalue\u001b[0m\u001b[0;34m)\u001b[0m\u001b[0;34m\u001b[0m\u001b[0m\n",
      "\u001b[0;32m/Applications/miniconda3/envs/scisheets_env/lib/python2.7/site-packages/traitlets/traitlets.pyc\u001b[0m in \u001b[0;36mvalidate\u001b[0;34m(self, obj, value)\u001b[0m\n\u001b[1;32m   2052\u001b[0m                 \u001b[0mmsg\u001b[0m \u001b[0;34m=\u001b[0m \u001b[0;34m\"Could not decode {!r} for unicode trait '{}' of {} instance.\"\u001b[0m\u001b[0;34m\u001b[0m\u001b[0m\n\u001b[1;32m   2053\u001b[0m                 \u001b[0;32mraise\u001b[0m \u001b[0mTraitError\u001b[0m\u001b[0;34m(\u001b[0m\u001b[0mmsg\u001b[0m\u001b[0;34m.\u001b[0m\u001b[0mformat\u001b[0m\u001b[0;34m(\u001b[0m\u001b[0mvalue\u001b[0m\u001b[0;34m,\u001b[0m \u001b[0mself\u001b[0m\u001b[0;34m.\u001b[0m\u001b[0mname\u001b[0m\u001b[0;34m,\u001b[0m \u001b[0mclass_of\u001b[0m\u001b[0;34m(\u001b[0m\u001b[0mobj\u001b[0m\u001b[0;34m)\u001b[0m\u001b[0;34m)\u001b[0m\u001b[0;34m)\u001b[0m\u001b[0;34m\u001b[0m\u001b[0m\n\u001b[0;32m-> 2054\u001b[0;31m         \u001b[0mself\u001b[0m\u001b[0;34m.\u001b[0m\u001b[0merror\u001b[0m\u001b[0;34m(\u001b[0m\u001b[0mobj\u001b[0m\u001b[0;34m,\u001b[0m \u001b[0mvalue\u001b[0m\u001b[0;34m)\u001b[0m\u001b[0;34m\u001b[0m\u001b[0m\n\u001b[0m\u001b[1;32m   2055\u001b[0m \u001b[0;34m\u001b[0m\u001b[0m\n\u001b[1;32m   2056\u001b[0m \u001b[0;34m\u001b[0m\u001b[0m\n",
      "\u001b[0;32m/Applications/miniconda3/envs/scisheets_env/lib/python2.7/site-packages/traitlets/traitlets.pyc\u001b[0m in \u001b[0;36merror\u001b[0;34m(self, obj, value)\u001b[0m\n\u001b[1;32m    623\u001b[0m             \u001b[0me\u001b[0m \u001b[0;34m=\u001b[0m \u001b[0;34m\"The '%s' trait must be %s, but a value of %r was specified.\"\u001b[0m\u001b[0;31m \u001b[0m\u001b[0;31m\\\u001b[0m\u001b[0;34m\u001b[0m\u001b[0m\n\u001b[1;32m    624\u001b[0m                 \u001b[0;34m%\u001b[0m \u001b[0;34m(\u001b[0m\u001b[0mself\u001b[0m\u001b[0;34m.\u001b[0m\u001b[0mname\u001b[0m\u001b[0;34m,\u001b[0m \u001b[0mself\u001b[0m\u001b[0;34m.\u001b[0m\u001b[0minfo\u001b[0m\u001b[0;34m(\u001b[0m\u001b[0;34m)\u001b[0m\u001b[0;34m,\u001b[0m \u001b[0mrepr_type\u001b[0m\u001b[0;34m(\u001b[0m\u001b[0mvalue\u001b[0m\u001b[0;34m)\u001b[0m\u001b[0;34m)\u001b[0m\u001b[0;34m\u001b[0m\u001b[0m\n\u001b[0;32m--> 625\u001b[0;31m         \u001b[0;32mraise\u001b[0m \u001b[0mTraitError\u001b[0m\u001b[0;34m(\u001b[0m\u001b[0me\u001b[0m\u001b[0;34m)\u001b[0m\u001b[0;34m\u001b[0m\u001b[0m\n\u001b[0m\u001b[1;32m    626\u001b[0m \u001b[0;34m\u001b[0m\u001b[0m\n\u001b[1;32m    627\u001b[0m     \u001b[0;32mdef\u001b[0m \u001b[0mget_metadata\u001b[0m\u001b[0;34m(\u001b[0m\u001b[0mself\u001b[0m\u001b[0;34m,\u001b[0m \u001b[0mkey\u001b[0m\u001b[0;34m,\u001b[0m \u001b[0mdefault\u001b[0m\u001b[0;34m=\u001b[0m\u001b[0mNone\u001b[0m\u001b[0;34m)\u001b[0m\u001b[0;34m:\u001b[0m\u001b[0;34m\u001b[0m\u001b[0m\n",
      "\u001b[0;31mTraitError\u001b[0m: The '_model_header' trait of a SciSheetTable instance must be a unicode string, but a value of {'index': [0, 1, 2, 3, 4], 'data': [['04000US01', 'Alabama', 37150, 37952, 42212, 44476, 39980, 40933, 42590, 43464, 41381], ['04000US02', 'Alaska', 55891, 56418, 62993, 63989, 61604, 57848, 57431, 63648, 61137], ['04000US04', 'Arizona', 45245, 46657, 47215, 46914, 45739, 46896, 48621, 47044, 50602], ['04000US05', 'Arkansas', 36658, 37057, 40795, 39586, 36538, 38587, 41302, 39018, 39919], ['04000US06', 'California', 51755, 55319, 55734, 57014, 56134, 54283, 53367, 57020, 57528]], 'columns': ['GEOID', 'State', '2005', '2006', '2007', '2008', '2009', '2010', '2011', '2012', '2013']} <type 'dict'> was specified."
     ]
    }
   ],
   "source": [
    "tbl2._widget._model_header = '{\"index\": [0, 1, 2, 3, 4], \"data\": [[\"04000US01\", \"Alabama\", 37150, 37952, 42212, 44476, 39980, 40933, 42590, 43464, 41381], [\"04000US02\", \"Alaska\", 55891, 56418, 62993, 63989, 61604, 57848, 57431, 63648, 61137], [\"04000US04\", \"Arizona\", 45245, 46657, 47215, 46914, 45739, 46896, 48621, 47044, 50602], [\"04000US05\", \"Arkansas\", 36658, 37057, 40795, 39586, 36538, 38587, 41302, 39018, 39919], [\"04000US06\", \"California\", 51755, 55319, 55734, 57014, 56134, 54283, 53367, 57020, 57528]], \"columns\": [\"GEOID\", \"State\", \"2005\", \"2006\", \"2007\", \"2008\", \"2009\", \"2010\", \"2011\", \"2012\", \"2013\"]}'"
   ]
  },
  {
   "cell_type": "code",
   "execution_count": null,
   "metadata": {
    "collapsed": true
   },
   "outputs": [],
   "source": []
  }
 ],
 "metadata": {
  "kernelspec": {
   "display_name": "Python [conda env:scisheets_env]",
   "language": "python",
   "name": "conda-env-scisheets_env-py"
  },
  "language_info": {
   "codemirror_mode": {
    "name": "ipython",
    "version": 2
   },
   "file_extension": ".py",
   "mimetype": "text/x-python",
   "name": "python",
   "nbconvert_exporter": "python",
   "pygments_lexer": "ipython2",
   "version": "2.7.13"
  }
 },
 "nbformat": 4,
 "nbformat_minor": 2
}

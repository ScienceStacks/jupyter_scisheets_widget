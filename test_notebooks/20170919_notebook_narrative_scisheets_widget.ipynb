{
 "cells": [
  {
   "cell_type": "markdown",
   "metadata": {},
   "source": [
    "# Demonstration of Use Case\n",
    "- Users can enter step by step explanations of changes made to a SciSheet in a Jupyter notebook"
   ]
  },
  {
   "cell_type": "markdown",
   "metadata": {},
   "source": [
    "### Load necessary packages"
   ]
  },
  {
   "cell_type": "code",
   "execution_count": 1,
   "metadata": {
    "collapsed": true
   },
   "outputs": [],
   "source": [
    "import json\n",
    "\n",
    "import numpy as np\n",
    "import pandas as pd\n",
    "\n",
    "from jupyter_scisheets_widget import scisheets_widget"
   ]
  },
  {
   "cell_type": "markdown",
   "metadata": {},
   "source": [
    "### Load data into the notebook"
   ]
  },
  {
   "cell_type": "code",
   "execution_count": 15,
   "metadata": {},
   "outputs": [
    {
     "data": {
      "text/html": [
       "<div>\n",
       "<style>\n",
       "    .dataframe thead tr:only-child th {\n",
       "        text-align: right;\n",
       "    }\n",
       "\n",
       "    .dataframe thead th {\n",
       "        text-align: left;\n",
       "    }\n",
       "\n",
       "    .dataframe tbody tr th {\n",
       "        vertical-align: top;\n",
       "    }\n",
       "</style>\n",
       "<table border=\"1\" class=\"dataframe\">\n",
       "  <thead>\n",
       "    <tr style=\"text-align: right;\">\n",
       "      <th></th>\n",
       "      <th>GEOID</th>\n",
       "      <th>State</th>\n",
       "      <th>2005</th>\n",
       "      <th>2006</th>\n",
       "      <th>2007</th>\n",
       "      <th>2008</th>\n",
       "      <th>2009</th>\n",
       "      <th>2010</th>\n",
       "      <th>2011</th>\n",
       "      <th>2012</th>\n",
       "      <th>2013</th>\n",
       "    </tr>\n",
       "  </thead>\n",
       "  <tbody>\n",
       "    <tr>\n",
       "      <th>0</th>\n",
       "      <td>04000US01</td>\n",
       "      <td>Alabama</td>\n",
       "      <td>37150</td>\n",
       "      <td>37952</td>\n",
       "      <td>42212</td>\n",
       "      <td>44476</td>\n",
       "      <td>39980</td>\n",
       "      <td>40933</td>\n",
       "      <td>42590</td>\n",
       "      <td>43464</td>\n",
       "      <td>41381</td>\n",
       "    </tr>\n",
       "    <tr>\n",
       "      <th>1</th>\n",
       "      <td>04000US02</td>\n",
       "      <td>Alaska</td>\n",
       "      <td>55891</td>\n",
       "      <td>56418</td>\n",
       "      <td>62993</td>\n",
       "      <td>63989</td>\n",
       "      <td>61604</td>\n",
       "      <td>57848</td>\n",
       "      <td>57431</td>\n",
       "      <td>63648</td>\n",
       "      <td>61137</td>\n",
       "    </tr>\n",
       "    <tr>\n",
       "      <th>2</th>\n",
       "      <td>04000US04</td>\n",
       "      <td>Arizona</td>\n",
       "      <td>45245</td>\n",
       "      <td>46657</td>\n",
       "      <td>47215</td>\n",
       "      <td>46914</td>\n",
       "      <td>45739</td>\n",
       "      <td>46896</td>\n",
       "      <td>48621</td>\n",
       "      <td>47044</td>\n",
       "      <td>50602</td>\n",
       "    </tr>\n",
       "    <tr>\n",
       "      <th>3</th>\n",
       "      <td>04000US05</td>\n",
       "      <td>Arkansas</td>\n",
       "      <td>36658</td>\n",
       "      <td>37057</td>\n",
       "      <td>40795</td>\n",
       "      <td>39586</td>\n",
       "      <td>36538</td>\n",
       "      <td>38587</td>\n",
       "      <td>41302</td>\n",
       "      <td>39018</td>\n",
       "      <td>39919</td>\n",
       "    </tr>\n",
       "    <tr>\n",
       "      <th>4</th>\n",
       "      <td>04000US06</td>\n",
       "      <td>California</td>\n",
       "      <td>51755</td>\n",
       "      <td>55319</td>\n",
       "      <td>55734</td>\n",
       "      <td>57014</td>\n",
       "      <td>56134</td>\n",
       "      <td>54283</td>\n",
       "      <td>53367</td>\n",
       "      <td>57020</td>\n",
       "      <td>57528</td>\n",
       "    </tr>\n",
       "  </tbody>\n",
       "</table>\n",
       "</div>"
      ],
      "text/plain": [
       "       GEOID       State   2005   2006   2007   2008   2009   2010   2011  \\\n",
       "0  04000US01     Alabama  37150  37952  42212  44476  39980  40933  42590   \n",
       "1  04000US02      Alaska  55891  56418  62993  63989  61604  57848  57431   \n",
       "2  04000US04     Arizona  45245  46657  47215  46914  45739  46896  48621   \n",
       "3  04000US05    Arkansas  36658  37057  40795  39586  36538  38587  41302   \n",
       "4  04000US06  California  51755  55319  55734  57014  56134  54283  53367   \n",
       "\n",
       "    2012   2013  \n",
       "0  43464  41381  \n",
       "1  63648  61137  \n",
       "2  47044  50602  \n",
       "3  39018  39919  \n",
       "4  57020  57528  "
      ]
     },
     "execution_count": 15,
     "metadata": {},
     "output_type": "execute_result"
    }
   ],
   "source": [
    "income_data = pd.read_csv('income_data.csv', sep=';')\n",
    "income_data"
   ]
  },
  {
   "cell_type": "code",
   "execution_count": 18,
   "metadata": {
    "collapsed": true
   },
   "outputs": [],
   "source": [
    "income_data['test_col'] = income_data['2006']"
   ]
  },
  {
   "cell_type": "markdown",
   "metadata": {},
   "source": [
    "### Display the loaded data as a scisheet widget"
   ]
  },
  {
   "cell_type": "code",
   "execution_count": 19,
   "metadata": {},
   "outputs": [
    {
     "data": {
      "application/vnd.jupyter.widget-view+json": {
       "model_id": "162cb4f855804230a79b14ea517886f8",
       "version_major": 2,
       "version_minor": 0
      },
      "text/plain": [
       "A Jupyter Widget"
      ]
     },
     "metadata": {},
     "output_type": "display_data"
    }
   ],
   "source": [
    "tbl = scisheets_widget.SciSheetTable()\n",
    "tbl.load_df(income_data)\n",
    "tbl"
   ]
  },
  {
   "cell_type": "code",
   "execution_count": 16,
   "metadata": {},
   "outputs": [
    {
     "data": {
      "application/vnd.jupyter.widget-view+json": {
       "model_id": "f83282dae0a0404ca588c1981cd3d514",
       "version_major": 2,
       "version_minor": 0
      },
      "text/plain": [
       "A Jupyter Widget"
      ]
     },
     "metadata": {},
     "output_type": "display_data"
    }
   ],
   "source": [
    "tbl = scisheets_widget.SciSheetTable()\n",
    "tbl.load_df(income_data[['GEOID', 'State']])\n",
    "tbl"
   ]
  },
  {
   "cell_type": "code",
   "execution_count": 4,
   "metadata": {
    "collapsed": true
   },
   "outputs": [],
   "source": [
    "data = [{\"name\": \"Lisp\", \"value\": 1}, {\"name\": \"Scala\", \"value\": 2}, {\"name\": \"Perl\", \"value\": 4}, {\"name\": \"Java\", \"value\": 5}, {\"name\": \"C++\", \"value\": 8}, {\"name\": \"Python\", \"value\": 10}]"
   ]
  },
  {
   "cell_type": "code",
   "execution_count": 5,
   "metadata": {},
   "outputs": [
    {
     "data": {
      "application/vnd.jupyter.widget-view+json": {
       "model_id": "ea655534e24f4e64a9b844d70ccaac1b",
       "version_major": 2,
       "version_minor": 0
      },
      "text/plain": [
       "A Jupyter Widget"
      ]
     },
     "metadata": {},
     "output_type": "display_data"
    }
   ],
   "source": [
    "tbl = scisheets_widget.SciSheetTable()\n",
    "tbl.load_list(data)\n",
    "tbl"
   ]
  },
  {
   "cell_type": "code",
   "execution_count": 6,
   "metadata": {
    "scrolled": true
   },
   "outputs": [
    {
     "data": {
      "text/plain": [
       "'{\"0\":{\"GEOID\":\"04000US01\",\"State\":\"Alabama\",\"2005\":37150,\"2006\":37952,\"2007\":42212,\"2008\":44476,\"2009\":39980,\"2010\":40933,\"2011\":42590,\"2012\":43464,\"2013\":41381},\"1\":{\"GEOID\":\"04000US02\",\"State\":\"Alaska\",\"2005\":55891,\"2006\":56418,\"2007\":62993,\"2008\":63989,\"2009\":61604,\"2010\":57848,\"2011\":57431,\"2012\":63648,\"2013\":61137},\"2\":{\"GEOID\":\"04000US04\",\"State\":\"Arizona\",\"2005\":45245,\"2006\":46657,\"2007\":47215,\"2008\":46914,\"2009\":45739,\"2010\":46896,\"2011\":48621,\"2012\":47044,\"2013\":50602},\"3\":{\"GEOID\":\"04000US05\",\"State\":\"Arkansas\",\"2005\":36658,\"2006\":37057,\"2007\":40795,\"2008\":39586,\"2009\":36538,\"2010\":38587,\"2011\":41302,\"2012\":39018,\"2013\":39919},\"4\":{\"GEOID\":\"04000US06\",\"State\":\"California\",\"2005\":51755,\"2006\":55319,\"2007\":55734,\"2008\":57014,\"2009\":56134,\"2010\":54283,\"2011\":53367,\"2012\":57020,\"2013\":57528}}'"
      ]
     },
     "execution_count": 6,
     "metadata": {},
     "output_type": "execute_result"
    }
   ],
   "source": [
    "income_data.to_json(orient='index')"
   ]
  },
  {
   "cell_type": "code",
   "execution_count": 7,
   "metadata": {},
   "outputs": [
    {
     "data": {
      "text/plain": [
       "'[[\"04000US01\",\"Alabama\",37150,37952,42212,44476,39980,40933,42590,43464,41381],[\"04000US02\",\"Alaska\",55891,56418,62993,63989,61604,57848,57431,63648,61137],[\"04000US04\",\"Arizona\",45245,46657,47215,46914,45739,46896,48621,47044,50602],[\"04000US05\",\"Arkansas\",36658,37057,40795,39586,36538,38587,41302,39018,39919],[\"04000US06\",\"California\",51755,55319,55734,57014,56134,54283,53367,57020,57528]]'"
      ]
     },
     "execution_count": 7,
     "metadata": {},
     "output_type": "execute_result"
    }
   ],
   "source": [
    "income_data.to_json(orient='values')"
   ]
  },
  {
   "cell_type": "code",
   "execution_count": 8,
   "metadata": {},
   "outputs": [
    {
     "data": {
      "text/plain": [
       "'[{\"GEOID\":\"04000US01\",\"State\":\"Alabama\",\"2005\":37150,\"2006\":37952,\"2007\":42212,\"2008\":44476,\"2009\":39980,\"2010\":40933,\"2011\":42590,\"2012\":43464,\"2013\":41381},{\"GEOID\":\"04000US02\",\"State\":\"Alaska\",\"2005\":55891,\"2006\":56418,\"2007\":62993,\"2008\":63989,\"2009\":61604,\"2010\":57848,\"2011\":57431,\"2012\":63648,\"2013\":61137},{\"GEOID\":\"04000US04\",\"State\":\"Arizona\",\"2005\":45245,\"2006\":46657,\"2007\":47215,\"2008\":46914,\"2009\":45739,\"2010\":46896,\"2011\":48621,\"2012\":47044,\"2013\":50602},{\"GEOID\":\"04000US05\",\"State\":\"Arkansas\",\"2005\":36658,\"2006\":37057,\"2007\":40795,\"2008\":39586,\"2009\":36538,\"2010\":38587,\"2011\":41302,\"2012\":39018,\"2013\":39919},{\"GEOID\":\"04000US06\",\"State\":\"California\",\"2005\":51755,\"2006\":55319,\"2007\":55734,\"2008\":57014,\"2009\":56134,\"2010\":54283,\"2011\":53367,\"2012\":57020,\"2013\":57528}]'"
      ]
     },
     "execution_count": 8,
     "metadata": {},
     "output_type": "execute_result"
    }
   ],
   "source": [
    "income_data.to_json(orient='records')"
   ]
  },
  {
   "cell_type": "code",
   "execution_count": 9,
   "metadata": {},
   "outputs": [
    {
     "data": {
      "text/plain": [
       "'{\"GEOID\":{\"0\":\"04000US01\",\"1\":\"04000US02\",\"2\":\"04000US04\",\"3\":\"04000US05\",\"4\":\"04000US06\"},\"State\":{\"0\":\"Alabama\",\"1\":\"Alaska\",\"2\":\"Arizona\",\"3\":\"Arkansas\",\"4\":\"California\"},\"2005\":{\"0\":37150,\"1\":55891,\"2\":45245,\"3\":36658,\"4\":51755},\"2006\":{\"0\":37952,\"1\":56418,\"2\":46657,\"3\":37057,\"4\":55319},\"2007\":{\"0\":42212,\"1\":62993,\"2\":47215,\"3\":40795,\"4\":55734},\"2008\":{\"0\":44476,\"1\":63989,\"2\":46914,\"3\":39586,\"4\":57014},\"2009\":{\"0\":39980,\"1\":61604,\"2\":45739,\"3\":36538,\"4\":56134},\"2010\":{\"0\":40933,\"1\":57848,\"2\":46896,\"3\":38587,\"4\":54283},\"2011\":{\"0\":42590,\"1\":57431,\"2\":48621,\"3\":41302,\"4\":53367},\"2012\":{\"0\":43464,\"1\":63648,\"2\":47044,\"3\":39018,\"4\":57020},\"2013\":{\"0\":41381,\"1\":61137,\"2\":50602,\"3\":39919,\"4\":57528}}'"
      ]
     },
     "execution_count": 9,
     "metadata": {},
     "output_type": "execute_result"
    }
   ],
   "source": [
    "income_data.to_json(orient='columns')"
   ]
  },
  {
   "cell_type": "code",
   "execution_count": 10,
   "metadata": {},
   "outputs": [
    {
     "data": {
      "text/plain": [
       "'{\"columns\":[\"GEOID\",\"State\",\"2005\",\"2006\",\"2007\",\"2008\",\"2009\",\"2010\",\"2011\",\"2012\",\"2013\"],\"index\":[0,1,2,3,4],\"data\":[[\"04000US01\",\"Alabama\",37150,37952,42212,44476,39980,40933,42590,43464,41381],[\"04000US02\",\"Alaska\",55891,56418,62993,63989,61604,57848,57431,63648,61137],[\"04000US04\",\"Arizona\",45245,46657,47215,46914,45739,46896,48621,47044,50602],[\"04000US05\",\"Arkansas\",36658,37057,40795,39586,36538,38587,41302,39018,39919],[\"04000US06\",\"California\",51755,55319,55734,57014,56134,54283,53367,57020,57528]]}'"
      ]
     },
     "execution_count": 10,
     "metadata": {},
     "output_type": "execute_result"
    }
   ],
   "source": [
    "income_data.to_json(orient='split')"
   ]
  },
  {
   "cell_type": "code",
   "execution_count": null,
   "metadata": {
    "collapsed": true
   },
   "outputs": [],
   "source": []
  }
 ],
 "metadata": {
  "kernelspec": {
   "display_name": "Python [conda env:scisheets_env]",
   "language": "python",
   "name": "conda-env-scisheets_env-py"
  },
  "language_info": {
   "codemirror_mode": {
    "name": "ipython",
    "version": 2
   },
   "file_extension": ".py",
   "mimetype": "text/x-python",
   "name": "python",
   "nbconvert_exporter": "python",
   "pygments_lexer": "ipython2",
   "version": "2.7.13"
  }
 },
 "nbformat": 4,
 "nbformat_minor": 2
}
